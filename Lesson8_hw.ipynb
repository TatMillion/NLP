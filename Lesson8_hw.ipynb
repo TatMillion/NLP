{
 "cells": [
  {
   "cell_type": "markdown",
   "id": "e8ff344a",
   "metadata": {},
   "source": [
    "# Введение в обработку естественного языка\n",
    "## Урок 8. Рекуррентные нейронные сети RNN LSTM GRU\n",
    "\n",
    "Практическое задание к уроку 8. Рекуррентные нейронные сети RNN LSTM GRU\n",
    "Данные берем отызывы за лето\n",
    "\n",
    "На вебинаре мы говорили, что долгое время CNN и RNN архитектуры были конурируещими выяснить какая архитектура больше подходит для нашей задачи\n",
    "\n",
    "построить свёрточные архитектуры\n",
    "\n",
    "построить различные архитектуры с RNN\n",
    "\n",
    "построить совместные архитектуры CNN -> RNN или (RNN -> CNN)"
   ]
  },
  {
   "cell_type": "code",
   "execution_count": 1,
   "id": "5cdaba51",
   "metadata": {},
   "outputs": [
    {
     "name": "stdout",
     "output_type": "stream",
     "text": [
      "Requirement already satisfied: xlrd in /home/alexey/anaconda3/envs/tftest/lib/python3.10/site-packages (2.0.1)\n",
      "Requirement already satisfied: pymorphy2 in /home/alexey/anaconda3/envs/tftest/lib/python3.10/site-packages (0.9.1)\n",
      "Requirement already satisfied: pymorphy2-dicts-ru<3.0,>=2.4 in /home/alexey/anaconda3/envs/tftest/lib/python3.10/site-packages (from pymorphy2) (2.4.417127.4579844)\n",
      "Requirement already satisfied: dawg-python>=0.7.1 in /home/alexey/anaconda3/envs/tftest/lib/python3.10/site-packages (from pymorphy2) (0.7.2)\n",
      "Requirement already satisfied: docopt>=0.6 in /home/alexey/anaconda3/envs/tftest/lib/python3.10/site-packages (from pymorphy2) (0.6.2)\n",
      "Requirement already satisfied: stop-words in /home/alexey/anaconda3/envs/tftest/lib/python3.10/site-packages (2018.7.23)\n"
     ]
    }
   ],
   "source": [
    "!pip install --upgrade xlrd\n",
    "!pip install pymorphy2\n",
    "!pip install stop-words"
   ]
  },
  {
   "cell_type": "code",
   "execution_count": 3,
   "id": "47c833c5",
   "metadata": {},
   "outputs": [],
   "source": [
    "import pandas as pd\n",
    "import re\n",
    "\n",
    "from string import punctuation\n",
    "from stop_words import get_stop_words\n",
    "from pymorphy2 import MorphAnalyzer\n",
    "\n",
    "from sklearn.model_selection import train_test_split\n",
    "\n",
    "import keras\n",
    "from keras.models import Sequential, Model\n",
    "from keras.layers import Dense, Dropout, Activation, Input, Embedding, Conv1D, GlobalMaxPool1D, SimpleRNN, LSTM, GRU, Masking, Flatten\n",
    "from keras.preprocessing.text import Tokenizer\n",
    "from keras_preprocessing.sequence import pad_sequences\n",
    "from keras.callbacks import TensorBoard\n",
    "from keras.callbacks import EarlyStopping\n",
    "from keras.utils import np_utils"
   ]
  },
  {
   "cell_type": "code",
   "execution_count": 5,
   "id": "dc5165d2",
   "metadata": {},
   "outputs": [
    {
     "name": "stdout",
     "output_type": "stream",
     "text": [
      "<class 'pandas.core.frame.DataFrame'>\n",
      "RangeIndex: 20659 entries, 0 to 20658\n",
      "Data columns (total 3 columns):\n",
      " #   Column   Non-Null Count  Dtype \n",
      "---  ------   --------------  ----- \n",
      " 0   Rating   20659 non-null  int64 \n",
      " 1   Content  20656 non-null  object\n",
      " 2   Date     20659 non-null  object\n",
      "dtypes: int64(1), object(2)\n",
      "memory usage: 484.3+ KB\n"
     ]
    }
   ],
   "source": [
    "df = pd.read_excel('summer_reports.xls')\n",
    "\n",
    "df.sample(15)\n",
    "df.info()"
   ]
  },
  {
   "cell_type": "code",
   "execution_count": 6,
   "id": "97f04531",
   "metadata": {},
   "outputs": [],
   "source": [
    "df.Content = df.Content.astype(str)"
   ]
  },
  {
   "cell_type": "code",
   "execution_count": 7,
   "id": "68278928",
   "metadata": {},
   "outputs": [],
   "source": [
    "sw = set(get_stop_words(\"ru\"))\n",
    "exclude = set(punctuation)\n",
    "morpher = MorphAnalyzer()"
   ]
  },
  {
   "cell_type": "code",
   "execution_count": 8,
   "id": "29e2768b",
   "metadata": {},
   "outputs": [],
   "source": [
    "def preprocess_text(txt):\n",
    "    txt = str(txt)\n",
    "    txt = \"\".join(c for c in txt if c not in exclude)\n",
    "    txt = txt.lower()\n",
    "    txt = re.sub(\"не\\s\", \"не\", txt)\n",
    "    txt = [morpher.parse(word)[0].normal_form for word in txt.split() if word not in sw]\n",
    "    return \" \".join(txt)"
   ]
  },
  {
   "cell_type": "code",
   "execution_count": 9,
   "id": "c84e6b5c",
   "metadata": {},
   "outputs": [
    {
     "data": {
      "text/html": [
       "<div>\n",
       "<style scoped>\n",
       "    .dataframe tbody tr th:only-of-type {\n",
       "        vertical-align: middle;\n",
       "    }\n",
       "\n",
       "    .dataframe tbody tr th {\n",
       "        vertical-align: top;\n",
       "    }\n",
       "\n",
       "    .dataframe thead th {\n",
       "        text-align: right;\n",
       "    }\n",
       "</style>\n",
       "<table border=\"1\" class=\"dataframe\">\n",
       "  <thead>\n",
       "    <tr style=\"text-align: right;\">\n",
       "      <th></th>\n",
       "      <th>Rating</th>\n",
       "      <th>Content</th>\n",
       "      <th>Date</th>\n",
       "    </tr>\n",
       "  </thead>\n",
       "  <tbody>\n",
       "    <tr>\n",
       "      <th>1111</th>\n",
       "      <td>1</td>\n",
       "      <td>показывать ошибка 24</td>\n",
       "      <td>2017-08-12</td>\n",
       "    </tr>\n",
       "    <tr>\n",
       "      <th>1997</th>\n",
       "      <td>5</td>\n",
       "      <td>удобный приложение довольный</td>\n",
       "      <td>2017-08-11</td>\n",
       "    </tr>\n",
       "    <tr>\n",
       "      <th>17679</th>\n",
       "      <td>5</td>\n",
       "      <td>рука</td>\n",
       "      <td>2017-07-10</td>\n",
       "    </tr>\n",
       "    <tr>\n",
       "      <th>486</th>\n",
       "      <td>5</td>\n",
       "      <td>огромный</td>\n",
       "      <td>2017-08-13</td>\n",
       "    </tr>\n",
       "    <tr>\n",
       "      <th>2729</th>\n",
       "      <td>5</td>\n",
       "      <td>серёга</td>\n",
       "      <td>2017-08-10</td>\n",
       "    </tr>\n",
       "  </tbody>\n",
       "</table>\n",
       "</div>"
      ],
      "text/plain": [
       "       Rating                       Content        Date\n",
       "1111        1          показывать ошибка 24  2017-08-12\n",
       "1997        5  удобный приложение довольный  2017-08-11\n",
       "17679       5                          рука  2017-07-10\n",
       "486         5                      огромный  2017-08-13\n",
       "2729        5                        серёга  2017-08-10"
      ]
     },
     "execution_count": 9,
     "metadata": {},
     "output_type": "execute_result"
    }
   ],
   "source": [
    "df['Content'] = df['Content'].apply(preprocess_text)\n",
    "\n",
    "df.sample(5)"
   ]
  },
  {
   "cell_type": "code",
   "execution_count": 10,
   "id": "0d1e4ac8",
   "metadata": {},
   "outputs": [],
   "source": [
    "train_df, test_val_df = train_test_split(df, test_size = 0.3, random_state = 49)\n",
    "test_df, val_df = train_test_split(test_val_df, test_size = 0.5, random_state = 49)"
   ]
  },
  {
   "cell_type": "code",
   "execution_count": 11,
   "id": "86fbc48d",
   "metadata": {},
   "outputs": [],
   "source": [
    "train_df.to_csv('train_df.csv')\n",
    "test_df.to_csv('test_df.csv')\n",
    "val_df.to_csv('val_df.csv')\n",
    "test_val_df.to_csv('test_val_df.csv')"
   ]
  },
  {
   "cell_type": "code",
   "execution_count": 12,
   "id": "3a849c86",
   "metadata": {},
   "outputs": [],
   "source": [
    "text_corpus_train = train_df['Content'].values\n",
    "text_corpus_valid = val_df['Content'].values\n",
    "text_corpus_test = test_df['Content'].values"
   ]
  },
  {
   "cell_type": "code",
   "execution_count": 13,
   "id": "95a47d90",
   "metadata": {},
   "outputs": [
    {
     "data": {
      "text/plain": [
       "5"
      ]
     },
     "execution_count": 13,
     "metadata": {},
     "output_type": "execute_result"
    }
   ],
   "source": [
    "num_classes = len(df['Rating'].unique())\n",
    "num_classes"
   ]
  },
  {
   "cell_type": "code",
   "execution_count": 14,
   "id": "5dd5ef6a",
   "metadata": {},
   "outputs": [],
   "source": [
    "tokenizer = Tokenizer(num_words = None, \n",
    "                     filters = '#$%&()*+-<=>@[\\]^_`{|}~\\t\\n',\n",
    "                     lower = False, split = ' ')\n",
    "tokenizer.fit_on_texts(text_corpus_train)\n",
    "\n",
    "sequences_train = tokenizer.texts_to_sequences(text_corpus_train)\n",
    "sequences_val = tokenizer.texts_to_sequences(text_corpus_valid)\n",
    "sequences_test = tokenizer.texts_to_sequences(text_corpus_test)\n",
    "\n",
    "word_count = len(tokenizer.index_word) + 1\n",
    "training_length = max([len(i.split()) for i in text_corpus_train])\n",
    "\n",
    "X_train = pad_sequences(sequences_train, maxlen=training_length)\n",
    "X_valid = pad_sequences(sequences_val, maxlen=training_length)\n",
    "\n",
    "y_train = keras.utils.np_utils.to_categorical(train_df['Rating'], num_classes+1)\n",
    "y_test = keras.utils.np_utils.to_categorical(test_df['Rating'], num_classes+1)\n",
    "y_val = keras.utils.np_utils.to_categorical(val_df['Rating'], num_classes+1)"
   ]
  },
  {
   "cell_type": "code",
   "execution_count": 15,
   "id": "477ad354",
   "metadata": {},
   "outputs": [
    {
     "name": "stdout",
     "output_type": "stream",
     "text": [
      "Model: \"sequential\"\n",
      "_________________________________________________________________\n",
      " Layer (type)                Output Shape              Param #   \n",
      "=================================================================\n",
      " embedding (Embedding)       (None, 132, 30)           294870    \n",
      "                                                                 \n",
      " masking (Masking)           (None, 132, 30)           0         \n",
      "                                                                 \n",
      " simple_rnn (SimpleRNN)      (None, 132)               21516     \n",
      "                                                                 \n",
      " dense (Dense)               (None, 132)               17556     \n",
      "                                                                 \n",
      " dropout (Dropout)           (None, 132)               0         \n",
      "                                                                 \n",
      " dense_1 (Dense)             (None, 6)                 798       \n",
      "                                                                 \n",
      "=================================================================\n",
      "Total params: 334,740\n",
      "Trainable params: 334,740\n",
      "Non-trainable params: 0\n",
      "_________________________________________________________________\n"
     ]
    },
    {
     "name": "stderr",
     "output_type": "stream",
     "text": [
      "2023-05-13 14:28:14.334904: I tensorflow/core/platform/cpu_feature_guard.cc:193] This TensorFlow binary is optimized with oneAPI Deep Neural Network Library (oneDNN) to use the following CPU instructions in performance-critical operations:  SSE4.1 SSE4.2 AVX AVX2 AVX_VNNI FMA\n",
      "To enable them in other operations, rebuild TensorFlow with the appropriate compiler flags.\n",
      "2023-05-13 14:28:14.335852: I tensorflow/core/common_runtime/process_util.cc:146] Creating new thread pool with default inter op setting: 2. Tune using inter_op_parallelism_threads for best performance.\n"
     ]
    }
   ],
   "source": [
    "# RNN\n",
    "\n",
    "model = Sequential()\n",
    "\n",
    "model.add(\n",
    "    Embedding(input_dim = word_count,\n",
    "              input_length = training_length,\n",
    "              output_dim = 30,\n",
    "              trainable = True,\n",
    "              mask_zero = True))\n",
    "model.add(Masking(mask_value = 0.0))\n",
    "\n",
    "model.add(SimpleRNN(132))\n",
    "model.add(Dense(132, activation = 'relu'))\n",
    "model.add(Dropout(0.5))\n",
    "model.add(Dense(num_classes+1, activation = 'softmax'))\n",
    "\n",
    "model.compile(\n",
    "    optimizer = 'adam', loss = 'categorical_crossentropy', metrics = ['accuracy'])\n",
    "\n",
    "early_stopping = EarlyStopping(monitor = 'val_loss', patience = 2, restore_best_weights = 1)\n",
    "\n",
    "model.summary()"
   ]
  },
  {
   "cell_type": "code",
   "execution_count": 16,
   "id": "d8682cb7",
   "metadata": {},
   "outputs": [
    {
     "name": "stdout",
     "output_type": "stream",
     "text": [
      "Epoch 1/10\n",
      "26/26 [==============================] - 7s 258ms/step - loss: 1.1425 - accuracy: 0.6535 - val_loss: 0.8739 - val_accuracy: 0.7263\n",
      "Epoch 2/10\n",
      "26/26 [==============================] - 5s 201ms/step - loss: 0.8984 - accuracy: 0.7189 - val_loss: 0.7483 - val_accuracy: 0.7588\n",
      "Epoch 3/10\n",
      "26/26 [==============================] - 5s 207ms/step - loss: 0.7669 - accuracy: 0.7535 - val_loss: 0.6999 - val_accuracy: 0.7664\n",
      "Epoch 4/10\n",
      "26/26 [==============================] - 6s 233ms/step - loss: 0.6841 - accuracy: 0.7712 - val_loss: 0.6701 - val_accuracy: 0.7740\n",
      "Epoch 5/10\n",
      "26/26 [==============================] - 7s 286ms/step - loss: 0.6099 - accuracy: 0.7914 - val_loss: 0.6552 - val_accuracy: 0.7775\n",
      "Epoch 6/10\n",
      "26/26 [==============================] - 9s 363ms/step - loss: 0.5527 - accuracy: 0.8105 - val_loss: 0.6594 - val_accuracy: 0.7706\n",
      "Epoch 7/10\n",
      "26/26 [==============================] - 7s 281ms/step - loss: 0.4985 - accuracy: 0.8280 - val_loss: 0.6892 - val_accuracy: 0.7692\n"
     ]
    }
   ],
   "source": [
    "history = model.fit(X_train, y_train,\n",
    "                    batch_size = 512,\n",
    "                    epochs = 10,\n",
    "                    verbose = 1,\n",
    "                    validation_split = 0.1,\n",
    "                    callbacks = [early_stopping])"
   ]
  },
  {
   "cell_type": "code",
   "execution_count": 17,
   "id": "37eb93c9",
   "metadata": {},
   "outputs": [
    {
     "name": "stdout",
     "output_type": "stream",
     "text": [
      "7/7 [==============================] - 1s 97ms/step - loss: 0.6721 - accuracy: 0.7744\n",
      "\n",
      "\n",
      "Test score: 0.6721118688583374\n",
      "Test accuracy: 0.7744433879852295\n"
     ]
    }
   ],
   "source": [
    "score = model.evaluate(X_valid, y_val, batch_size = 512, verbose = 1)\n",
    "print('\\n')\n",
    "print('Test score:', score[0])\n",
    "print('Test accuracy:', score[1])"
   ]
  },
  {
   "cell_type": "code",
   "execution_count": 18,
   "id": "d395df24",
   "metadata": {},
   "outputs": [],
   "source": [
    "results = []\n",
    "\n",
    "results.append(['RNN', score[0], score[1]])"
   ]
  },
  {
   "cell_type": "code",
   "execution_count": 19,
   "id": "f722d685",
   "metadata": {},
   "outputs": [],
   "source": [
    "# LSTM\n",
    "\n",
    "model = Sequential()\n",
    "\n",
    "model.add(\n",
    "    Embedding(input_dim = word_count,\n",
    "              input_length = training_length,\n",
    "              output_dim = 30,\n",
    "              trainable = True,\n",
    "              mask_zero = True))\n",
    "model.add(Masking(mask_value = 0.0))\n",
    "model.add(LSTM(132, recurrent_dropout = 0.2))\n",
    "model.add(Dense(132, activation = 'relu'))\n",
    "model.add(Dropout(0.5))\n",
    "model.add(Dense(num_classes+1, activation = 'softmax'))"
   ]
  },
  {
   "cell_type": "code",
   "execution_count": 20,
   "id": "57c2102b",
   "metadata": {},
   "outputs": [
    {
     "name": "stdout",
     "output_type": "stream",
     "text": [
      "Model: \"sequential_1\"\n",
      "_________________________________________________________________\n",
      " Layer (type)                Output Shape              Param #   \n",
      "=================================================================\n",
      " embedding_1 (Embedding)     (None, 132, 30)           294870    \n",
      "                                                                 \n",
      " masking_1 (Masking)         (None, 132, 30)           0         \n",
      "                                                                 \n",
      " lstm (LSTM)                 (None, 132)               86064     \n",
      "                                                                 \n",
      " dense_2 (Dense)             (None, 132)               17556     \n",
      "                                                                 \n",
      " dropout_1 (Dropout)         (None, 132)               0         \n",
      "                                                                 \n",
      " dense_3 (Dense)             (None, 6)                 798       \n",
      "                                                                 \n",
      "=================================================================\n",
      "Total params: 399,288\n",
      "Trainable params: 399,288\n",
      "Non-trainable params: 0\n",
      "_________________________________________________________________\n"
     ]
    }
   ],
   "source": [
    "model.compile(\n",
    "    optimizer = 'adam', loss = 'categorical_crossentropy', metrics = ['accuracy'])\n",
    "model.summary()"
   ]
  },
  {
   "cell_type": "code",
   "execution_count": 21,
   "id": "c517c8b6",
   "metadata": {},
   "outputs": [
    {
     "name": "stdout",
     "output_type": "stream",
     "text": [
      "Epoch 1/10\n",
      "26/26 [==============================] - 30s 1s/step - loss: 1.2910 - accuracy: 0.6797 - val_loss: 0.9149 - val_accuracy: 0.7291\n",
      "Epoch 2/10\n",
      "26/26 [==============================] - 26s 992ms/step - loss: 0.9421 - accuracy: 0.7079 - val_loss: 0.8002 - val_accuracy: 0.7574\n",
      "Epoch 3/10\n",
      "26/26 [==============================] - 29s 1s/step - loss: 0.7893 - accuracy: 0.7477 - val_loss: 0.6981 - val_accuracy: 0.7726\n",
      "Epoch 4/10\n",
      "26/26 [==============================] - 24s 908ms/step - loss: 0.6967 - accuracy: 0.7655 - val_loss: 0.6628 - val_accuracy: 0.7740\n",
      "Epoch 5/10\n",
      "26/26 [==============================] - 29s 1s/step - loss: 0.6273 - accuracy: 0.7805 - val_loss: 0.6496 - val_accuracy: 0.7761\n",
      "Epoch 6/10\n",
      "26/26 [==============================] - 27s 1s/step - loss: 0.5793 - accuracy: 0.7956 - val_loss: 0.6470 - val_accuracy: 0.7851\n",
      "Epoch 7/10\n",
      "26/26 [==============================] - 26s 1s/step - loss: 0.5405 - accuracy: 0.8063 - val_loss: 0.6674 - val_accuracy: 0.7733\n",
      "Epoch 8/10\n",
      "26/26 [==============================] - 28s 1s/step - loss: 0.5152 - accuracy: 0.8173 - val_loss: 0.6831 - val_accuracy: 0.7747\n"
     ]
    }
   ],
   "source": [
    "early_stopping = EarlyStopping(monitor = 'val_loss', patience = 2, restore_best_weights = 1)  \n",
    "\n",
    "history = model.fit(X_train, y_train,\n",
    "                    batch_size = 512,\n",
    "                    epochs = 10,\n",
    "                    verbose = 1,\n",
    "                    validation_split = 0.1,\n",
    "                    callbacks = [early_stopping])"
   ]
  },
  {
   "cell_type": "code",
   "execution_count": 22,
   "id": "360b81d5",
   "metadata": {},
   "outputs": [
    {
     "name": "stdout",
     "output_type": "stream",
     "text": [
      "7/7 [==============================] - 2s 227ms/step - loss: 0.6814 - accuracy: 0.7732\n",
      "\n",
      "\n",
      "Test score: 0.681400716304779\n",
      "Test accuracy: 0.7731526494026184\n"
     ]
    }
   ],
   "source": [
    "score = model.evaluate(X_valid, y_val, batch_size = 512, verbose = 1)\n",
    "print('\\n')\n",
    "print('Test score:', score[0])\n",
    "print('Test accuracy:', score[1])\n",
    "\n",
    "results.append(['LSTM', score[0], score[1]])"
   ]
  },
  {
   "cell_type": "code",
   "execution_count": 23,
   "id": "85221038",
   "metadata": {},
   "outputs": [
    {
     "name": "stdout",
     "output_type": "stream",
     "text": [
      "Model: \"sequential_2\"\n",
      "_________________________________________________________________\n",
      " Layer (type)                Output Shape              Param #   \n",
      "=================================================================\n",
      " embedding_2 (Embedding)     (None, 132, 30)           294870    \n",
      "                                                                 \n",
      " masking_2 (Masking)         (None, 132, 30)           0         \n",
      "                                                                 \n",
      " gru (GRU)                   (None, 64)                18432     \n",
      "                                                                 \n",
      " dense_4 (Dense)             (None, 64)                4160      \n",
      "                                                                 \n",
      " dropout_2 (Dropout)         (None, 64)                0         \n",
      "                                                                 \n",
      " dense_5 (Dense)             (None, 6)                 390       \n",
      "                                                                 \n",
      "=================================================================\n",
      "Total params: 317,852\n",
      "Trainable params: 317,852\n",
      "Non-trainable params: 0\n",
      "_________________________________________________________________\n"
     ]
    }
   ],
   "source": [
    "# GRU\n",
    "\n",
    "model = Sequential()\n",
    "\n",
    "model.add(\n",
    "    Embedding(input_dim = word_count,\n",
    "              input_length = training_length,\n",
    "              output_dim = 30,\n",
    "              trainable = True,\n",
    "              mask_zero = True))\n",
    "model.add(Masking(mask_value = 0.0))\n",
    "model.add(GRU(64, recurrent_dropout = 0.2))\n",
    "model.add(Dense(64, activation = 'relu'))\n",
    "model.add(Dropout(0.5))\n",
    "model.add(Dense(num_classes+1, activation = 'softmax'))\n",
    "model.compile(\n",
    "    optimizer = 'adam', loss = 'categorical_crossentropy', metrics = ['accuracy'])\n",
    "\n",
    "model.summary()"
   ]
  },
  {
   "cell_type": "code",
   "execution_count": 24,
   "id": "31f3820e",
   "metadata": {},
   "outputs": [
    {
     "name": "stdout",
     "output_type": "stream",
     "text": [
      "Epoch 1/10\n",
      "26/26 [==============================] - 15s 547ms/step - loss: 1.4299 - accuracy: 0.6770 - val_loss: 0.8902 - val_accuracy: 0.7291\n",
      "Epoch 2/10\n",
      "26/26 [==============================] - 12s 479ms/step - loss: 0.9002 - accuracy: 0.7053 - val_loss: 0.7618 - val_accuracy: 0.7291\n",
      "Epoch 3/10\n",
      "26/26 [==============================] - 12s 459ms/step - loss: 0.7867 - accuracy: 0.7281 - val_loss: 0.7170 - val_accuracy: 0.7678\n",
      "Epoch 4/10\n",
      "26/26 [==============================] - 14s 527ms/step - loss: 0.7114 - accuracy: 0.7665 - val_loss: 0.6875 - val_accuracy: 0.7643\n",
      "Epoch 5/10\n",
      "26/26 [==============================] - 13s 488ms/step - loss: 0.6455 - accuracy: 0.7813 - val_loss: 0.6702 - val_accuracy: 0.7699\n",
      "Epoch 6/10\n",
      "26/26 [==============================] - 12s 469ms/step - loss: 0.5971 - accuracy: 0.7938 - val_loss: 0.6696 - val_accuracy: 0.7740\n",
      "Epoch 7/10\n",
      "26/26 [==============================] - 13s 507ms/step - loss: 0.5513 - accuracy: 0.8071 - val_loss: 0.6804 - val_accuracy: 0.7768\n",
      "Epoch 8/10\n",
      "26/26 [==============================] - 13s 503ms/step - loss: 0.5215 - accuracy: 0.8160 - val_loss: 0.7090 - val_accuracy: 0.7768\n"
     ]
    }
   ],
   "source": [
    "early_stopping = EarlyStopping(monitor = 'val_loss',patience = 2, restore_best_weights = 1)  \n",
    "\n",
    "\n",
    "history = model.fit(X_train, y_train,\n",
    "                    batch_size = 512,\n",
    "                    epochs = 10,\n",
    "                    verbose = 1,\n",
    "                    validation_split = 0.1,\n",
    "                    callbacks = [early_stopping])"
   ]
  },
  {
   "cell_type": "code",
   "execution_count": 25,
   "id": "b88d2d19",
   "metadata": {},
   "outputs": [
    {
     "name": "stdout",
     "output_type": "stream",
     "text": [
      "7/7 [==============================] - 1s 123ms/step - loss: 0.6920 - accuracy: 0.7638\n",
      "\n",
      "\n",
      "Test score: 0.6919934749603271\n",
      "Test accuracy: 0.7637947797775269\n"
     ]
    }
   ],
   "source": [
    "score = model.evaluate(X_valid, y_val, batch_size = 512, verbose = 1)\n",
    "print('\\n')\n",
    "print('Test score:', score[0])\n",
    "print('Test accuracy:', score[1])\n",
    "\n",
    "results.append(['GRU', score[0], score[1]])"
   ]
  },
  {
   "cell_type": "code",
   "execution_count": 26,
   "id": "4dd4f78b",
   "metadata": {},
   "outputs": [
    {
     "name": "stdout",
     "output_type": "stream",
     "text": [
      "Model: \"sequential_3\"\n",
      "_________________________________________________________________\n",
      " Layer (type)                Output Shape              Param #   \n",
      "=================================================================\n",
      " embedding_3 (Embedding)     (None, 132, 30)           294870    \n",
      "                                                                 \n",
      " conv1d (Conv1D)             (None, 130, 128)          11648     \n",
      "                                                                 \n",
      " activation (Activation)     (None, 130, 128)          0         \n",
      "                                                                 \n",
      " global_max_pooling1d (Globa  (None, 128)              0         \n",
      " lMaxPooling1D)                                                  \n",
      "                                                                 \n",
      " dense_6 (Dense)             (None, 10)                1290      \n",
      "                                                                 \n",
      " activation_1 (Activation)   (None, 10)                0         \n",
      "                                                                 \n",
      " dropout_3 (Dropout)         (None, 10)                0         \n",
      "                                                                 \n",
      " dense_7 (Dense)             (None, 6)                 66        \n",
      "                                                                 \n",
      "=================================================================\n",
      "Total params: 307,874\n",
      "Trainable params: 307,874\n",
      "Non-trainable params: 0\n",
      "_________________________________________________________________\n"
     ]
    }
   ],
   "source": [
    "# CNN\n",
    "\n",
    "model = Sequential()\n",
    "\n",
    "model.add(\n",
    "    Embedding(input_dim = word_count,\n",
    "              input_length = training_length,\n",
    "              output_dim = 30,\n",
    "              trainable = True,\n",
    "              mask_zero = True))\n",
    "model.add(Conv1D(128, 3))\n",
    "model.add(Activation(\"relu\"))\n",
    "model.add(GlobalMaxPool1D())\n",
    "model.add(Dense(10))\n",
    "model.add(Activation(\"relu\"))\n",
    "model.add(Dropout(0.5))\n",
    "model.add(Dense(num_classes+1, activation = 'softmax'))\n",
    "\n",
    "model.compile(\n",
    "    optimizer = 'adam', loss = 'categorical_crossentropy', metrics = ['accuracy'])\n",
    "\n",
    "model.summary()"
   ]
  },
  {
   "cell_type": "code",
   "execution_count": 27,
   "id": "5285e230",
   "metadata": {},
   "outputs": [
    {
     "name": "stdout",
     "output_type": "stream",
     "text": [
      "Epoch 1/10\n",
      "26/26 [==============================] - 2s 70ms/step - loss: 1.5687 - accuracy: 0.5688 - val_loss: 1.1902 - val_accuracy: 0.7291\n",
      "Epoch 2/10\n",
      "26/26 [==============================] - 1s 43ms/step - loss: 1.2654 - accuracy: 0.5891 - val_loss: 0.9632 - val_accuracy: 0.7291\n",
      "Epoch 3/10\n",
      "26/26 [==============================] - 1s 47ms/step - loss: 1.0578 - accuracy: 0.6155 - val_loss: 0.7461 - val_accuracy: 0.7636\n",
      "Epoch 4/10\n",
      "26/26 [==============================] - 1s 46ms/step - loss: 0.9104 - accuracy: 0.6598 - val_loss: 0.6894 - val_accuracy: 0.7768\n",
      "Epoch 5/10\n",
      "26/26 [==============================] - 1s 54ms/step - loss: 0.8300 - accuracy: 0.6956 - val_loss: 0.6675 - val_accuracy: 0.7823\n",
      "Epoch 6/10\n",
      "26/26 [==============================] - 2s 61ms/step - loss: 0.7910 - accuracy: 0.7339 - val_loss: 0.6610 - val_accuracy: 0.7816\n",
      "Epoch 7/10\n",
      "26/26 [==============================] - 2s 64ms/step - loss: 0.7494 - accuracy: 0.7523 - val_loss: 0.6580 - val_accuracy: 0.7844\n",
      "Epoch 8/10\n",
      "26/26 [==============================] - 2s 61ms/step - loss: 0.7268 - accuracy: 0.7542 - val_loss: 0.6557 - val_accuracy: 0.7865\n",
      "Epoch 9/10\n",
      "26/26 [==============================] - 2s 59ms/step - loss: 0.6885 - accuracy: 0.7595 - val_loss: 0.6593 - val_accuracy: 0.7878\n",
      "Epoch 10/10\n",
      "26/26 [==============================] - 2s 59ms/step - loss: 0.6716 - accuracy: 0.7568 - val_loss: 0.6620 - val_accuracy: 0.7871\n"
     ]
    }
   ],
   "source": [
    "early_stopping = EarlyStopping(monitor = 'val_loss', patience = 2, restore_best_weights = 1)  \n",
    "\n",
    "\n",
    "history = model.fit(X_train, y_train,\n",
    "                    batch_size = 512,\n",
    "                    epochs = 10,\n",
    "                    verbose = 1,\n",
    "                    validation_split = 0.1,\n",
    "                    callbacks = [early_stopping])"
   ]
  },
  {
   "cell_type": "code",
   "execution_count": 28,
   "id": "5135ebcf",
   "metadata": {},
   "outputs": [
    {
     "name": "stdout",
     "output_type": "stream",
     "text": [
      "7/7 [==============================] - 0s 16ms/step - loss: 0.6934 - accuracy: 0.7754\n",
      "\n",
      "\n",
      "Test score: 0.693382203578949\n",
      "Test accuracy: 0.7754114270210266\n"
     ]
    }
   ],
   "source": [
    "score = model.evaluate(X_valid, y_val, batch_size = 512, verbose = 1)\n",
    "print('\\n')\n",
    "print('Test score:', score[0])\n",
    "print('Test accuracy:', score[1])\n",
    "\n",
    "results.append(['CNN', score[0], score[1]])"
   ]
  },
  {
   "cell_type": "code",
   "execution_count": 29,
   "id": "46996508",
   "metadata": {},
   "outputs": [
    {
     "name": "stdout",
     "output_type": "stream",
     "text": [
      "Model: \"sequential_4\"\n",
      "_________________________________________________________________\n",
      " Layer (type)                Output Shape              Param #   \n",
      "=================================================================\n",
      " embedding_4 (Embedding)     (None, 132, 30)           294870    \n",
      "                                                                 \n",
      " simple_rnn_1 (SimpleRNN)    (None, 132, 132)          21516     \n",
      "                                                                 \n",
      " conv1d_1 (Conv1D)           (None, 130, 132)          52404     \n",
      "                                                                 \n",
      " conv1d_2 (Conv1D)           (None, 130, 64)           8512      \n",
      "                                                                 \n",
      " flatten (Flatten)           (None, 8320)              0         \n",
      "                                                                 \n",
      " dropout_4 (Dropout)         (None, 8320)              0         \n",
      "                                                                 \n",
      " dense_8 (Dense)             (None, 6)                 49926     \n",
      "                                                                 \n",
      "=================================================================\n",
      "Total params: 427,228\n",
      "Trainable params: 427,228\n",
      "Non-trainable params: 0\n",
      "_________________________________________________________________\n",
      "Model: \"sequential_5\"\n",
      "_________________________________________________________________\n",
      " Layer (type)                Output Shape              Param #   \n",
      "=================================================================\n",
      " embedding_5 (Embedding)     (None, 132, 30)           294870    \n",
      "                                                                 \n",
      " simple_rnn_2 (SimpleRNN)    (None, 132, 132)          21516     \n",
      "                                                                 \n",
      " conv1d_3 (Conv1D)           (None, 130, 132)          52404     \n",
      "                                                                 \n",
      " conv1d_4 (Conv1D)           (None, 130, 64)           8512      \n",
      "                                                                 \n",
      " flatten_1 (Flatten)         (None, 8320)              0         \n",
      "                                                                 \n",
      " dropout_5 (Dropout)         (None, 8320)              0         \n",
      "                                                                 \n",
      " dense_9 (Dense)             (None, 6)                 49926     \n",
      "                                                                 \n",
      "=================================================================\n",
      "Total params: 427,228\n",
      "Trainable params: 427,228\n",
      "Non-trainable params: 0\n",
      "_________________________________________________________________\n",
      "Model: \"sequential_6\"\n",
      "_________________________________________________________________\n",
      " Layer (type)                Output Shape              Param #   \n",
      "=================================================================\n",
      " embedding_6 (Embedding)     (None, 132, 30)           294870    \n",
      "                                                                 \n",
      " simple_rnn_3 (SimpleRNN)    (None, 132, 132)          21516     \n",
      "                                                                 \n",
      " conv1d_5 (Conv1D)           (None, 130, 132)          52404     \n",
      "                                                                 \n",
      " conv1d_6 (Conv1D)           (None, 130, 64)           8512      \n",
      "                                                                 \n",
      " flatten_2 (Flatten)         (None, 8320)              0         \n",
      "                                                                 \n",
      " dropout_6 (Dropout)         (None, 8320)              0         \n",
      "                                                                 \n",
      " dense_10 (Dense)            (None, 6)                 49926     \n",
      "                                                                 \n",
      "=================================================================\n",
      "Total params: 427,228\n",
      "Trainable params: 427,228\n",
      "Non-trainable params: 0\n",
      "_________________________________________________________________\n"
     ]
    }
   ],
   "source": [
    "# RNN + CNN\n",
    "\n",
    "model = Sequential()\n",
    "\n",
    "model.add(\n",
    "    Embedding(input_dim = word_count,\n",
    "              input_length = training_length,\n",
    "              output_dim = 30,\n",
    "              trainable = True,\n",
    "              mask_zero = True))\n",
    "model.add(SimpleRNN(132, recurrent_dropout = 0.2, return_sequences = \"True\"))\n",
    "model.add(Conv1D(132, 3, activation = \"linear\"))\n",
    "model.add(Conv1D(64, 1, activation = \"linear\")) \n",
    "model.add(Flatten())                      \n",
    "model.add(Dropout(0.5)) \n",
    "model.add(Dense(num_classes+1, activation = \"softmax\"))      \n",
    "\n",
    "\n",
    "model.compile(\n",
    "    optimizer = 'adam', loss = 'categorical_crossentropy', metrics = ['accuracy'])\n",
    "\n",
    "model.summary()# RNN + CNN\n",
    "\n",
    "model = Sequential()\n",
    "\n",
    "model.add(\n",
    "    Embedding(input_dim = word_count,\n",
    "              input_length = training_length,\n",
    "              output_dim = 30,\n",
    "              trainable = True,\n",
    "              mask_zero = True))\n",
    "model.add(SimpleRNN(132, recurrent_dropout = 0.2, return_sequences = \"True\"))\n",
    "model.add(Conv1D(132, 3, activation = \"linear\"))\n",
    "model.add(Conv1D(64, 1, activation = \"linear\")) \n",
    "model.add(Flatten())                      \n",
    "model.add(Dropout(0.5)) \n",
    "model.add(Dense(num_classes+1, activation = \"softmax\"))      \n",
    "\n",
    "\n",
    "model.compile(\n",
    "    optimizer = 'adam', loss = 'categorical_crossentropy', metrics = ['accuracy'])\n",
    "\n",
    "model.summary()# RNN + CNN\n",
    "\n",
    "model = Sequential()\n",
    "\n",
    "model.add(\n",
    "    Embedding(input_dim = word_count,\n",
    "              input_length = training_length,\n",
    "              output_dim = 30,\n",
    "              trainable = True,\n",
    "              mask_zero = True))\n",
    "model.add(SimpleRNN(132, recurrent_dropout = 0.2, return_sequences = \"True\"))\n",
    "model.add(Conv1D(132, 3, activation = \"linear\"))\n",
    "model.add(Conv1D(64, 1, activation = \"linear\")) \n",
    "model.add(Flatten())                      \n",
    "model.add(Dropout(0.5)) \n",
    "model.add(Dense(num_classes+1, activation = \"softmax\"))      \n",
    "\n",
    "\n",
    "model.compile(\n",
    "    optimizer = 'adam', loss = 'categorical_crossentropy', metrics = ['accuracy'])\n",
    "\n",
    "model.summary()"
   ]
  },
  {
   "cell_type": "code",
   "execution_count": 30,
   "id": "0a859046",
   "metadata": {},
   "outputs": [
    {
     "name": "stdout",
     "output_type": "stream",
     "text": [
      "Epoch 1/10\n",
      "26/26 [==============================] - 13s 486ms/step - loss: 1.1195 - accuracy: 0.6893 - val_loss: 0.7964 - val_accuracy: 0.7457\n",
      "Epoch 2/10\n",
      "26/26 [==============================] - 13s 491ms/step - loss: 0.7928 - accuracy: 0.7398 - val_loss: 0.7324 - val_accuracy: 0.7713\n",
      "Epoch 3/10\n",
      "26/26 [==============================] - 12s 463ms/step - loss: 0.6788 - accuracy: 0.7694 - val_loss: 0.6875 - val_accuracy: 0.7782\n",
      "Epoch 4/10\n",
      "26/26 [==============================] - 13s 501ms/step - loss: 0.5938 - accuracy: 0.7915 - val_loss: 0.6780 - val_accuracy: 0.7733\n",
      "Epoch 5/10\n",
      "26/26 [==============================] - 13s 489ms/step - loss: 0.5338 - accuracy: 0.8048 - val_loss: 0.7274 - val_accuracy: 0.7761\n",
      "Epoch 6/10\n",
      "26/26 [==============================] - 13s 479ms/step - loss: 0.4771 - accuracy: 0.8304 - val_loss: 0.7954 - val_accuracy: 0.7726\n"
     ]
    }
   ],
   "source": [
    "early_stopping = EarlyStopping(monitor = 'val_loss', patience = 2, restore_best_weights = 1)  \n",
    "\n",
    "\n",
    "history = model.fit(X_train, y_train,\n",
    "                    batch_size = 512,\n",
    "                    epochs = 10,\n",
    "                    verbose = 1,\n",
    "                    validation_split = 0.1,\n",
    "                    callbacks = [early_stopping])"
   ]
  },
  {
   "cell_type": "code",
   "execution_count": 31,
   "id": "b6821a59",
   "metadata": {},
   "outputs": [
    {
     "name": "stdout",
     "output_type": "stream",
     "text": [
      "7/7 [==============================] - 1s 127ms/step - loss: 0.7115 - accuracy: 0.7680\n",
      "\n",
      "\n",
      "Test score: 0.711485743522644\n",
      "Test accuracy: 0.7679896950721741\n"
     ]
    }
   ],
   "source": [
    "score = model.evaluate(X_valid, y_val, batch_size = 512, verbose = 1)\n",
    "print('\\n')\n",
    "print('Test score:', score[0])\n",
    "print('Test accuracy:', score[1])\n",
    "\n",
    "results.append(['RNN + CNN', score[0], score[1]])"
   ]
  },
  {
   "cell_type": "code",
   "execution_count": 32,
   "id": "e28171e4",
   "metadata": {},
   "outputs": [
    {
     "data": {
      "text/html": [
       "<div>\n",
       "<style scoped>\n",
       "    .dataframe tbody tr th:only-of-type {\n",
       "        vertical-align: middle;\n",
       "    }\n",
       "\n",
       "    .dataframe tbody tr th {\n",
       "        vertical-align: top;\n",
       "    }\n",
       "\n",
       "    .dataframe thead th {\n",
       "        text-align: right;\n",
       "    }\n",
       "</style>\n",
       "<table border=\"1\" class=\"dataframe\">\n",
       "  <thead>\n",
       "    <tr style=\"text-align: right;\">\n",
       "      <th></th>\n",
       "      <th>Model</th>\n",
       "      <th>Test score</th>\n",
       "      <th>Test accuracy</th>\n",
       "    </tr>\n",
       "  </thead>\n",
       "  <tbody>\n",
       "    <tr>\n",
       "      <th>0</th>\n",
       "      <td>RNN</td>\n",
       "      <td>0.672112</td>\n",
       "      <td>0.774443</td>\n",
       "    </tr>\n",
       "    <tr>\n",
       "      <th>1</th>\n",
       "      <td>LSTM</td>\n",
       "      <td>0.681401</td>\n",
       "      <td>0.773153</td>\n",
       "    </tr>\n",
       "    <tr>\n",
       "      <th>2</th>\n",
       "      <td>GRU</td>\n",
       "      <td>0.691993</td>\n",
       "      <td>0.763795</td>\n",
       "    </tr>\n",
       "    <tr>\n",
       "      <th>3</th>\n",
       "      <td>CNN</td>\n",
       "      <td>0.693382</td>\n",
       "      <td>0.775411</td>\n",
       "    </tr>\n",
       "    <tr>\n",
       "      <th>4</th>\n",
       "      <td>RNN + CNN</td>\n",
       "      <td>0.711486</td>\n",
       "      <td>0.767990</td>\n",
       "    </tr>\n",
       "  </tbody>\n",
       "</table>\n",
       "</div>"
      ],
      "text/plain": [
       "       Model  Test score  Test accuracy\n",
       "0        RNN    0.672112       0.774443\n",
       "1       LSTM    0.681401       0.773153\n",
       "2        GRU    0.691993       0.763795\n",
       "3        CNN    0.693382       0.775411\n",
       "4  RNN + CNN    0.711486       0.767990"
      ]
     },
     "execution_count": 32,
     "metadata": {},
     "output_type": "execute_result"
    }
   ],
   "source": [
    "results_df = pd.DataFrame(results, columns = ['Model', 'Test score', 'Test accuracy'])\n",
    "results_df"
   ]
  },
  {
   "cell_type": "markdown",
   "id": "38c1f0af",
   "metadata": {},
   "source": [
    "Выводы: результаты не сильно отличаются? и однозначно сказать, какая архитектура лучше других, нельзя."
   ]
  }
 ],
 "metadata": {
  "kernelspec": {
   "display_name": "Python 3 (ipykernel)",
   "language": "python",
   "name": "python3"
  },
  "language_info": {
   "codemirror_mode": {
    "name": "ipython",
    "version": 3
   },
   "file_extension": ".py",
   "mimetype": "text/x-python",
   "name": "python",
   "nbconvert_exporter": "python",
   "pygments_lexer": "ipython3",
   "version": "3.7.12"
  }
 },
 "nbformat": 4,
 "nbformat_minor": 5
}
