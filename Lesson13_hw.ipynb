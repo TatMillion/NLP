{
 "cells": [
  {
   "cell_type": "markdown",
   "id": "61ef4756",
   "metadata": {},
   "source": [
    "# Введение в обработку естественного языка\n",
    "## Урок 13. Модель BERT и GPT\n",
    "Задание 13\n",
    "Взять датасет https://huggingface.co/datasets/merionum/ru_paraphraser решить задачу парафраза\n",
    "\n",
    "(дополнительно необязательная задача)на выбор взять https://huggingface.co/datasets/sberquad https://huggingface.co/datasets/blinoff/medical_qa_ru_data натренировать любую модель для вопросно ответной системы как альтернатива можно взять любой NER датасет из https://github.com/natasha/corus#reference и обучить NER"
   ]
  },
  {
   "cell_type": "code",
   "execution_count": 1,
   "id": "f57c9885",
   "metadata": {},
   "outputs": [],
   "source": [
    "!pip install transformers sentencepiece datasets -q"
   ]
  },
  {
   "cell_type": "code",
   "execution_count": 2,
   "id": "e5c97b28",
   "metadata": {},
   "outputs": [],
   "source": [
    "import pandas as pd\n",
    "from datasets import load_dataset\n",
    "\n",
    "import torch\n",
    "from transformers import AutoModelForSequenceClassification, BertTokenizer"
   ]
  },
  {
   "cell_type": "code",
   "execution_count": 3,
   "id": "f1c3387b",
   "metadata": {},
   "outputs": [
    {
     "data": {
      "application/vnd.jupyter.widget-view+json": {
       "model_id": "6b5a2dda05974976bd5a4de63eb76817",
       "version_major": 2,
       "version_minor": 0
      },
      "text/plain": [
       "Downloading readme:   0%|          | 0.00/3.03k [00:00<?, ?B/s]"
      ]
     },
     "metadata": {},
     "output_type": "display_data"
    },
    {
     "name": "stdout",
     "output_type": "stream",
     "text": [
      "Downloading and preparing dataset json/merionum--ru_paraphraser to C:/Users/Tato/.cache/huggingface/datasets/merionum___json/merionum--ru_paraphraser-57cfc8af008bb08a/0.0.0/e347ab1c932092252e717ff3f949105a4dd28b27e842dd53157d2f72e276c2e4...\n"
     ]
    },
    {
     "data": {
      "application/vnd.jupyter.widget-view+json": {
       "model_id": "39b32f6db6ff43b2a330891223897cb1",
       "version_major": 2,
       "version_minor": 0
      },
      "text/plain": [
       "Downloading data files:   0%|          | 0/1 [00:00<?, ?it/s]"
      ]
     },
     "metadata": {},
     "output_type": "display_data"
    },
    {
     "data": {
      "application/vnd.jupyter.widget-view+json": {
       "model_id": "148069c611414fbb99f6f0530363da1e",
       "version_major": 2,
       "version_minor": 0
      },
      "text/plain": [
       "Downloading data:   0%|          | 0.00/605k [00:00<?, ?B/s]"
      ]
     },
     "metadata": {},
     "output_type": "display_data"
    },
    {
     "data": {
      "application/vnd.jupyter.widget-view+json": {
       "model_id": "dd506bd8588842c585e733a4cb22500e",
       "version_major": 2,
       "version_minor": 0
      },
      "text/plain": [
       "Extracting data files:   0%|          | 0/1 [00:00<?, ?it/s]"
      ]
     },
     "metadata": {},
     "output_type": "display_data"
    },
    {
     "data": {
      "application/vnd.jupyter.widget-view+json": {
       "model_id": "",
       "version_major": 2,
       "version_minor": 0
      },
      "text/plain": [
       "Generating train split: 0 examples [00:00, ? examples/s]"
      ]
     },
     "metadata": {},
     "output_type": "display_data"
    },
    {
     "name": "stdout",
     "output_type": "stream",
     "text": [
      "Dataset json downloaded and prepared to C:/Users/Tato/.cache/huggingface/datasets/merionum___json/merionum--ru_paraphraser-57cfc8af008bb08a/0.0.0/e347ab1c932092252e717ff3f949105a4dd28b27e842dd53157d2f72e276c2e4. Subsequent calls will reuse this data.\n"
     ]
    },
    {
     "data": {
      "application/vnd.jupyter.widget-view+json": {
       "model_id": "969811f91a024735a959158cafb35964",
       "version_major": 2,
       "version_minor": 0
      },
      "text/plain": [
       "  0%|          | 0/1 [00:00<?, ?it/s]"
      ]
     },
     "metadata": {},
     "output_type": "display_data"
    }
   ],
   "source": [
    "corpus = load_dataset('merionum/ru_paraphraser', data_files='test.jsonl')"
   ]
  },
  {
   "cell_type": "code",
   "execution_count": 4,
   "id": "e34cf186",
   "metadata": {},
   "outputs": [
    {
     "data": {
      "application/vnd.jupyter.widget-view+json": {
       "model_id": "7064344161194b478fb427f1b6e11dd1",
       "version_major": 2,
       "version_minor": 0
      },
      "text/plain": [
       "Downloading (…)lve/main/config.json:   0%|          | 0.00/1.12k [00:00<?, ?B/s]"
      ]
     },
     "metadata": {},
     "output_type": "display_data"
    },
    {
     "name": "stderr",
     "output_type": "stream",
     "text": [
      "C:\\Users\\Tato\\anaconda3\\envs\\tensorflow\\lib\\site-packages\\huggingface_hub\\file_download.py:133: UserWarning: `huggingface_hub` cache-system uses symlinks by default to efficiently store duplicated files but your machine does not support them in C:\\Users\\Tato\\.cache\\huggingface\\hub. Caching files will still work but in a degraded version that might require more space on your disk. This warning can be disabled by setting the `HF_HUB_DISABLE_SYMLINKS_WARNING` environment variable. For more details, see https://huggingface.co/docs/huggingface_hub/how-to-cache#limitations.\n",
      "To support symlinks on Windows, you either need to activate Developer Mode or to run Python as an administrator. In order to see activate developer mode, see this article: https://docs.microsoft.com/en-us/windows/apps/get-started/enable-your-device-for-development\n",
      "  warnings.warn(message)\n"
     ]
    },
    {
     "data": {
      "application/vnd.jupyter.widget-view+json": {
       "model_id": "49d002b624b844d2881091782842923e",
       "version_major": 2,
       "version_minor": 0
      },
      "text/plain": [
       "Downloading pytorch_model.bin:   0%|          | 0.00/712M [00:00<?, ?B/s]"
      ]
     },
     "metadata": {},
     "output_type": "display_data"
    },
    {
     "data": {
      "application/vnd.jupyter.widget-view+json": {
       "model_id": "63cd1e2cab0043719af13c156eadb666",
       "version_major": 2,
       "version_minor": 0
      },
      "text/plain": [
       "Downloading (…)solve/main/vocab.txt:   0%|          | 0.00/1.65M [00:00<?, ?B/s]"
      ]
     },
     "metadata": {},
     "output_type": "display_data"
    },
    {
     "data": {
      "application/vnd.jupyter.widget-view+json": {
       "model_id": "17111f7fb4144f53806b19faa173c598",
       "version_major": 2,
       "version_minor": 0
      },
      "text/plain": [
       "Downloading (…)cial_tokens_map.json:   0%|          | 0.00/112 [00:00<?, ?B/s]"
      ]
     },
     "metadata": {},
     "output_type": "display_data"
    },
    {
     "data": {
      "application/vnd.jupyter.widget-view+json": {
       "model_id": "c396c45bf9994de0b1ee2a90e1d87895",
       "version_major": 2,
       "version_minor": 0
      },
      "text/plain": [
       "Downloading (…)okenizer_config.json:   0%|          | 0.00/406 [00:00<?, ?B/s]"
      ]
     },
     "metadata": {},
     "output_type": "display_data"
    }
   ],
   "source": [
    "model_name = 'cointegrated/rubert-base-cased-dp-paraphrase-detection'\n",
    "model = AutoModelForSequenceClassification.from_pretrained(model_name)\n",
    "tokenizer = BertTokenizer.from_pretrained(model_name)"
   ]
  },
  {
   "cell_type": "code",
   "execution_count": 5,
   "id": "8bfc6dbb",
   "metadata": {},
   "outputs": [],
   "source": [
    "result_df = []\n",
    "\n",
    "def paraphrase_check(row_numb):\n",
    "    \n",
    "    text1 = corpus['train']['text_1'][row_numb]\n",
    "    text2 = corpus['train']['text_2'][row_numb]\n",
    "    \n",
    "    batch = tokenizer(text1, text2, return_tensors='pt').to(model.device)\n",
    "    with torch.inference_mode():\n",
    "        proba = torch.softmax(model(**batch).logits, -1).numpy()\n",
    "    \n",
    "    p = proba[0]\n",
    "    \n",
    "    result_df.append([text1, text2, p[1]])\n",
    "    \n",
    "    return pd.DataFrame(result_df, columns=['текст 1', 'текст 2', 'вероятность парафраза'])"
   ]
  },
  {
   "cell_type": "code",
   "execution_count": 6,
   "id": "f9ab4503",
   "metadata": {},
   "outputs": [
    {
     "data": {
      "text/html": [
       "<div>\n",
       "<style scoped>\n",
       "    .dataframe tbody tr th:only-of-type {\n",
       "        vertical-align: middle;\n",
       "    }\n",
       "\n",
       "    .dataframe tbody tr th {\n",
       "        vertical-align: top;\n",
       "    }\n",
       "\n",
       "    .dataframe thead th {\n",
       "        text-align: right;\n",
       "    }\n",
       "</style>\n",
       "<table border=\"1\" class=\"dataframe\">\n",
       "  <thead>\n",
       "    <tr style=\"text-align: right;\">\n",
       "      <th></th>\n",
       "      <th>текст 1</th>\n",
       "      <th>текст 2</th>\n",
       "      <th>вероятность парафраза</th>\n",
       "    </tr>\n",
       "  </thead>\n",
       "  <tbody>\n",
       "    <tr>\n",
       "      <th>0</th>\n",
       "      <td>Цены на нефть восстанавливаются</td>\n",
       "      <td>Парламент Словакии поблагодарил народы бывшего...</td>\n",
       "      <td>0.054301</td>\n",
       "    </tr>\n",
       "  </tbody>\n",
       "</table>\n",
       "</div>"
      ],
      "text/plain": [
       "                           текст 1  \\\n",
       "0  Цены на нефть восстанавливаются   \n",
       "\n",
       "                                             текст 2  вероятность парафраза  \n",
       "0  Парламент Словакии поблагодарил народы бывшего...               0.054301  "
      ]
     },
     "execution_count": 6,
     "metadata": {},
     "output_type": "execute_result"
    }
   ],
   "source": [
    "paraphrase_check(0)"
   ]
  },
  {
   "cell_type": "code",
   "execution_count": 7,
   "id": "4badc4b7",
   "metadata": {},
   "outputs": [
    {
     "data": {
      "text/html": [
       "<div>\n",
       "<style scoped>\n",
       "    .dataframe tbody tr th:only-of-type {\n",
       "        vertical-align: middle;\n",
       "    }\n",
       "\n",
       "    .dataframe tbody tr th {\n",
       "        vertical-align: top;\n",
       "    }\n",
       "\n",
       "    .dataframe thead th {\n",
       "        text-align: right;\n",
       "    }\n",
       "</style>\n",
       "<table border=\"1\" class=\"dataframe\">\n",
       "  <thead>\n",
       "    <tr style=\"text-align: right;\">\n",
       "      <th></th>\n",
       "      <th>текст 1</th>\n",
       "      <th>текст 2</th>\n",
       "      <th>вероятность парафраза</th>\n",
       "    </tr>\n",
       "  </thead>\n",
       "  <tbody>\n",
       "    <tr>\n",
       "      <th>0</th>\n",
       "      <td>Цены на нефть восстанавливаются</td>\n",
       "      <td>Парламент Словакии поблагодарил народы бывшего...</td>\n",
       "      <td>0.054301</td>\n",
       "    </tr>\n",
       "    <tr>\n",
       "      <th>1</th>\n",
       "      <td>Путин перед Днем Победы подписал указ о присво...</td>\n",
       "      <td>СК РФ: Официальный сайт Следственного комитета...</td>\n",
       "      <td>0.054684</td>\n",
       "    </tr>\n",
       "  </tbody>\n",
       "</table>\n",
       "</div>"
      ],
      "text/plain": [
       "                                             текст 1  \\\n",
       "0                    Цены на нефть восстанавливаются   \n",
       "1  Путин перед Днем Победы подписал указ о присво...   \n",
       "\n",
       "                                             текст 2  вероятность парафраза  \n",
       "0  Парламент Словакии поблагодарил народы бывшего...               0.054301  \n",
       "1  СК РФ: Официальный сайт Следственного комитета...               0.054684  "
      ]
     },
     "execution_count": 7,
     "metadata": {},
     "output_type": "execute_result"
    }
   ],
   "source": [
    "paraphrase_check(8)"
   ]
  },
  {
   "cell_type": "code",
   "execution_count": 8,
   "id": "79219ffa",
   "metadata": {},
   "outputs": [
    {
     "data": {
      "text/html": [
       "<div>\n",
       "<style scoped>\n",
       "    .dataframe tbody tr th:only-of-type {\n",
       "        vertical-align: middle;\n",
       "    }\n",
       "\n",
       "    .dataframe tbody tr th {\n",
       "        vertical-align: top;\n",
       "    }\n",
       "\n",
       "    .dataframe thead th {\n",
       "        text-align: right;\n",
       "    }\n",
       "</style>\n",
       "<table border=\"1\" class=\"dataframe\">\n",
       "  <thead>\n",
       "    <tr style=\"text-align: right;\">\n",
       "      <th></th>\n",
       "      <th>текст 1</th>\n",
       "      <th>текст 2</th>\n",
       "      <th>вероятность парафраза</th>\n",
       "    </tr>\n",
       "  </thead>\n",
       "  <tbody>\n",
       "    <tr>\n",
       "      <th>0</th>\n",
       "      <td>Цены на нефть восстанавливаются</td>\n",
       "      <td>Парламент Словакии поблагодарил народы бывшего...</td>\n",
       "      <td>0.054301</td>\n",
       "    </tr>\n",
       "    <tr>\n",
       "      <th>1</th>\n",
       "      <td>Путин перед Днем Победы подписал указ о присво...</td>\n",
       "      <td>СК РФ: Официальный сайт Следственного комитета...</td>\n",
       "      <td>0.054684</td>\n",
       "    </tr>\n",
       "    <tr>\n",
       "      <th>2</th>\n",
       "      <td>Прокуратура пока не решила, обжаловать ли приг...</td>\n",
       "      <td>Защита Васильевой обжалует приговор суда</td>\n",
       "      <td>0.239415</td>\n",
       "    </tr>\n",
       "  </tbody>\n",
       "</table>\n",
       "</div>"
      ],
      "text/plain": [
       "                                             текст 1  \\\n",
       "0                    Цены на нефть восстанавливаются   \n",
       "1  Путин перед Днем Победы подписал указ о присво...   \n",
       "2  Прокуратура пока не решила, обжаловать ли приг...   \n",
       "\n",
       "                                             текст 2  вероятность парафраза  \n",
       "0  Парламент Словакии поблагодарил народы бывшего...               0.054301  \n",
       "1  СК РФ: Официальный сайт Следственного комитета...               0.054684  \n",
       "2           Защита Васильевой обжалует приговор суда               0.239415  "
      ]
     },
     "execution_count": 8,
     "metadata": {},
     "output_type": "execute_result"
    }
   ],
   "source": [
    "paraphrase_check(30)"
   ]
  },
  {
   "cell_type": "code",
   "execution_count": null,
   "id": "be48f7fa",
   "metadata": {},
   "outputs": [],
   "source": []
  }
 ],
 "metadata": {
  "kernelspec": {
   "display_name": "Python 3 (ipykernel)",
   "language": "python",
   "name": "python3"
  },
  "language_info": {
   "codemirror_mode": {
    "name": "ipython",
    "version": 3
   },
   "file_extension": ".py",
   "mimetype": "text/x-python",
   "name": "python",
   "nbconvert_exporter": "python",
   "pygments_lexer": "ipython3",
   "version": "3.7.12"
  }
 },
 "nbformat": 4,
 "nbformat_minor": 5
}
