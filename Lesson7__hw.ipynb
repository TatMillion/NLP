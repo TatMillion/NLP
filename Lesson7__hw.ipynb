{
 "cells": [
  {
   "cell_type": "markdown",
   "id": "f34d57e0",
   "metadata": {},
   "source": [
    "# Введение в обработку естественного языка\n",
    "## Урок 7. Сверточные нейронные сети для анализа текста\n",
    "Берем отзывы за лето (из архива с материалами или предыдущего занятия)\n",
    "\n",
    "Учим conv сеть для классификации\n",
    "Рассмотреть 2-а варианта сеточек:\n",
    "Инициализировать слой tf.keras.layers.Embedding по умолчанию (ну то есть вам ничего не делать с весами)\n",
    "Инициализировать tf.keras.layers.Embedding предобученными векторами взять к примеру с https://rusvectores.org/ru/\n",
    "Сравнить две архитектуры с предобученными весами и когда tf.keras.layers.Embedding обучается сразу со всей сеточкой, что получилось лучше"
   ]
  },
  {
   "cell_type": "code",
   "execution_count": 1,
   "id": "f8d5d2b8",
   "metadata": {},
   "outputs": [
    {
     "name": "stdout",
     "output_type": "stream",
     "text": [
      "Collecting pymorphy2\n",
      "  Using cached pymorphy2-0.9.1-py3-none-any.whl (55 kB)\n",
      "Collecting docopt>=0.6\n",
      "  Using cached docopt-0.6.2.tar.gz (25 kB)\n",
      "  Preparing metadata (setup.py) ... \u001b[?25ldone\n",
      "\u001b[?25hCollecting pymorphy2-dicts-ru<3.0,>=2.4\n",
      "  Using cached pymorphy2_dicts_ru-2.4.417127.4579844-py2.py3-none-any.whl (8.2 MB)\n",
      "Collecting dawg-python>=0.7.1\n",
      "  Using cached DAWG_Python-0.7.2-py2.py3-none-any.whl (11 kB)\n",
      "Building wheels for collected packages: docopt\n",
      "  Building wheel for docopt (setup.py) ... \u001b[?25ldone\n",
      "\u001b[?25h  Created wheel for docopt: filename=docopt-0.6.2-py2.py3-none-any.whl size=13705 sha256=0710343ba7c54af4488fc0c84e77f8515c73074493e40e342ba7f322f0ace7ee\n",
      "  Stored in directory: /home/alexey/.cache/pip/wheels/fc/ab/d4/5da2067ac95b36618c629a5f93f809425700506f72c9732fac\n",
      "Successfully built docopt\n",
      "Installing collected packages: pymorphy2-dicts-ru, docopt, dawg-python, pymorphy2\n",
      "Successfully installed dawg-python-0.7.2 docopt-0.6.2 pymorphy2-0.9.1 pymorphy2-dicts-ru-2.4.417127.4579844\n"
     ]
    }
   ],
   "source": [
    "!pip install pymorphy2"
   ]
  },
  {
   "cell_type": "code",
   "execution_count": 2,
   "id": "cebb81a6",
   "metadata": {},
   "outputs": [
    {
     "name": "stdout",
     "output_type": "stream",
     "text": [
      "Collecting stop-words\n",
      "  Using cached stop-words-2018.7.23.tar.gz (31 kB)\n",
      "  Preparing metadata (setup.py) ... \u001b[?25ldone\n",
      "\u001b[?25hBuilding wheels for collected packages: stop-words\n",
      "  Building wheel for stop-words (setup.py) ... \u001b[?25ldone\n",
      "\u001b[?25h  Created wheel for stop-words: filename=stop_words-2018.7.23-py3-none-any.whl size=32895 sha256=8c716881b7d76e0cbb1ce992f1d7ccb5431af36cdbeb771c12e358a1d746a817\n",
      "  Stored in directory: /home/alexey/.cache/pip/wheels/d0/1a/23/f12552a50cb09bcc1694a5ebb6c2cd5f2a0311de2b8c3d9a89\n",
      "Successfully built stop-words\n",
      "Installing collected packages: stop-words\n",
      "Successfully installed stop-words-2018.7.23\n"
     ]
    }
   ],
   "source": [
    "!pip install stop-words"
   ]
  },
  {
   "cell_type": "code",
   "execution_count": 6,
   "id": "151a630b",
   "metadata": {},
   "outputs": [],
   "source": [
    "import pandas as pd\n",
    "import numpy as np\n",
    "\n",
    "from sklearn.model_selection import train_test_split\n",
    "\n",
    "from string import punctuation\n",
    "from stop_words import get_stop_words\n",
    "from pymorphy2 import MorphAnalyzer\n",
    "import re\n",
    "\n",
    "import nltk\n",
    "from nltk.tokenize import word_tokenize\n",
    "from nltk.probability import FreqDist"
   ]
  },
  {
   "cell_type": "code",
   "execution_count": 8,
   "id": "41ae2a7e",
   "metadata": {},
   "outputs": [],
   "source": [
    "import keras\n",
    "from keras.models import Sequential, Model\n",
    "from keras.layers import Dense, Dropout, Activation, Input, Embedding, Conv1D, GlobalMaxPool1D\n",
    "from keras.preprocessing.text import Tokenizer\n",
    "from keras_preprocessing.sequence import pad_sequences\n",
    "#from keras.preprocessing.sequence import pad_sequences\n",
    "from keras.callbacks import TensorBoard \n",
    "from keras.metrics import categorical_crossentropy\n",
    "from keras.callbacks import EarlyStopping\n",
    "\n",
    "import tensorflow as tf"
   ]
  },
  {
   "cell_type": "code",
   "execution_count": 9,
   "id": "d32c0c3d",
   "metadata": {},
   "outputs": [
    {
     "name": "stderr",
     "output_type": "stream",
     "text": [
      "[nltk_data] Downloading package punkt to /home/alexey/nltk_data...\n",
      "[nltk_data]   Unzipping tokenizers/punkt.zip.\n"
     ]
    },
    {
     "data": {
      "text/plain": [
       "True"
      ]
     },
     "execution_count": 9,
     "metadata": {},
     "output_type": "execute_result"
    }
   ],
   "source": [
    "nltk.download(\"punkt\")"
   ]
  },
  {
   "cell_type": "code",
   "execution_count": 14,
   "id": "ecad9c90",
   "metadata": {},
   "outputs": [],
   "source": [
    "df = pd.read_excel('summer_reports.xls')"
   ]
  },
  {
   "cell_type": "code",
   "execution_count": 15,
   "id": "20629086",
   "metadata": {},
   "outputs": [
    {
     "data": {
      "text/html": [
       "<div>\n",
       "<style scoped>\n",
       "    .dataframe tbody tr th:only-of-type {\n",
       "        vertical-align: middle;\n",
       "    }\n",
       "\n",
       "    .dataframe tbody tr th {\n",
       "        vertical-align: top;\n",
       "    }\n",
       "\n",
       "    .dataframe thead th {\n",
       "        text-align: right;\n",
       "    }\n",
       "</style>\n",
       "<table border=\"1\" class=\"dataframe\">\n",
       "  <thead>\n",
       "    <tr style=\"text-align: right;\">\n",
       "      <th></th>\n",
       "      <th>Rating</th>\n",
       "      <th>Content</th>\n",
       "      <th>Date</th>\n",
       "    </tr>\n",
       "  </thead>\n",
       "  <tbody>\n",
       "    <tr>\n",
       "      <th>0</th>\n",
       "      <td>5</td>\n",
       "      <td>It just works!</td>\n",
       "      <td>2017-08-14</td>\n",
       "    </tr>\n",
       "    <tr>\n",
       "      <th>1</th>\n",
       "      <td>4</td>\n",
       "      <td>В целом удобноное приложение...из минусов хотя...</td>\n",
       "      <td>2017-08-14</td>\n",
       "    </tr>\n",
       "    <tr>\n",
       "      <th>2</th>\n",
       "      <td>5</td>\n",
       "      <td>Отлично все</td>\n",
       "      <td>2017-08-14</td>\n",
       "    </tr>\n",
       "    <tr>\n",
       "      <th>3</th>\n",
       "      <td>5</td>\n",
       "      <td>Стал зависать на 1% работы антивируса. Дальше ...</td>\n",
       "      <td>2017-08-14</td>\n",
       "    </tr>\n",
       "    <tr>\n",
       "      <th>4</th>\n",
       "      <td>5</td>\n",
       "      <td>Очень удобно, работает быстро.</td>\n",
       "      <td>2017-08-14</td>\n",
       "    </tr>\n",
       "  </tbody>\n",
       "</table>\n",
       "</div>"
      ],
      "text/plain": [
       "   Rating                                            Content        Date\n",
       "0       5                                     It just works!  2017-08-14\n",
       "1       4  В целом удобноное приложение...из минусов хотя...  2017-08-14\n",
       "2       5                                        Отлично все  2017-08-14\n",
       "3       5  Стал зависать на 1% работы антивируса. Дальше ...  2017-08-14\n",
       "4       5                     Очень удобно, работает быстро.  2017-08-14"
      ]
     },
     "execution_count": 15,
     "metadata": {},
     "output_type": "execute_result"
    }
   ],
   "source": [
    "df.head()"
   ]
  },
  {
   "cell_type": "code",
   "execution_count": 16,
   "id": "e2c5d6ae",
   "metadata": {},
   "outputs": [],
   "source": [
    "df.drop('Date', axis=1, inplace=True)"
   ]
  },
  {
   "cell_type": "code",
   "execution_count": 17,
   "id": "0c53d1fe",
   "metadata": {},
   "outputs": [],
   "source": [
    "df_train, for_test = train_test_split(df, test_size=0.35,  shuffle=True)\n",
    "df_test, df_val = train_test_split(for_test, test_size=0.42, shuffle=True)"
   ]
  },
  {
   "cell_type": "code",
   "execution_count": 18,
   "id": "b299e2c4",
   "metadata": {},
   "outputs": [
    {
     "data": {
      "text/html": [
       "<div>\n",
       "<style scoped>\n",
       "    .dataframe tbody tr th:only-of-type {\n",
       "        vertical-align: middle;\n",
       "    }\n",
       "\n",
       "    .dataframe tbody tr th {\n",
       "        vertical-align: top;\n",
       "    }\n",
       "\n",
       "    .dataframe thead th {\n",
       "        text-align: right;\n",
       "    }\n",
       "</style>\n",
       "<table border=\"1\" class=\"dataframe\">\n",
       "  <thead>\n",
       "    <tr style=\"text-align: right;\">\n",
       "      <th></th>\n",
       "      <th>Rating</th>\n",
       "      <th>Content</th>\n",
       "    </tr>\n",
       "  </thead>\n",
       "  <tbody>\n",
       "    <tr>\n",
       "      <th>12601</th>\n",
       "      <td>5</td>\n",
       "      <td>В целом удобно</td>\n",
       "    </tr>\n",
       "    <tr>\n",
       "      <th>2584</th>\n",
       "      <td>5</td>\n",
       "      <td>Отличное приложение! Удобно и быстро!</td>\n",
       "    </tr>\n",
       "    <tr>\n",
       "      <th>10166</th>\n",
       "      <td>5</td>\n",
       "      <td>Пока работает на отлично.</td>\n",
       "    </tr>\n",
       "    <tr>\n",
       "      <th>14478</th>\n",
       "      <td>5</td>\n",
       "      <td>Ок</td>\n",
       "    </tr>\n",
       "    <tr>\n",
       "      <th>13800</th>\n",
       "      <td>5</td>\n",
       "      <td>Не работает вход по сканеру пальца на xiaomi 4...</td>\n",
       "    </tr>\n",
       "  </tbody>\n",
       "</table>\n",
       "</div>"
      ],
      "text/plain": [
       "       Rating                                            Content\n",
       "12601       5                                     В целом удобно\n",
       "2584        5              Отличное приложение! Удобно и быстро!\n",
       "10166       5                          Пока работает на отлично.\n",
       "14478       5                                                 Ок\n",
       "13800       5  Не работает вход по сканеру пальца на xiaomi 4..."
      ]
     },
     "execution_count": 18,
     "metadata": {},
     "output_type": "execute_result"
    }
   ],
   "source": [
    "df_train.head(5)"
   ]
  },
  {
   "cell_type": "code",
   "execution_count": 19,
   "id": "15828efb",
   "metadata": {},
   "outputs": [],
   "source": [
    "max_words = 2000 \n",
    "max_len = 20\n",
    "num_classes = 6"
   ]
  },
  {
   "cell_type": "code",
   "execution_count": 20,
   "id": "9a460c09",
   "metadata": {},
   "outputs": [],
   "source": [
    "sw = set(get_stop_words(\"ru\"))\n",
    "exclude = set(punctuation)\n",
    "morpher = MorphAnalyzer()"
   ]
  },
  {
   "cell_type": "code",
   "execution_count": 21,
   "id": "c06b03dd",
   "metadata": {},
   "outputs": [],
   "source": [
    "def preprocess_text(txt):\n",
    "    txt = str(txt)\n",
    "    txt = \"\".join(c for c in txt if c not in exclude)\n",
    "    txt = txt.lower()\n",
    "    txt = re.sub(\"\\sне\", \"не\", txt)\n",
    "    txt = [morpher.parse(word)[0].normal_form for word in txt.split() if word not in sw]\n",
    "    return \" \".join(txt)"
   ]
  },
  {
   "cell_type": "code",
   "execution_count": 22,
   "id": "7aa43a7b",
   "metadata": {},
   "outputs": [],
   "source": [
    "df_train['Content'] = df_train['Content'].apply(preprocess_text)\n",
    "df_val['Content'] = df_val['Content'].apply(preprocess_text)\n",
    "df_test['Content'] = df_test['Content'].apply(preprocess_text)"
   ]
  },
  {
   "cell_type": "code",
   "execution_count": 23,
   "id": "d98cd74f",
   "metadata": {},
   "outputs": [],
   "source": [
    "train_corpus = \" \".join(df_train[\"Content\"])\n",
    "train_corpus = train_corpus.lower()"
   ]
  },
  {
   "cell_type": "code",
   "execution_count": 24,
   "id": "cf1c259a",
   "metadata": {},
   "outputs": [],
   "source": [
    "tokens = word_tokenize(train_corpus)"
   ]
  },
  {
   "cell_type": "code",
   "execution_count": 25,
   "id": "b774a337",
   "metadata": {},
   "outputs": [],
   "source": [
    "tokens_filtered = [word for word in tokens if word.isalnum()]"
   ]
  },
  {
   "cell_type": "code",
   "execution_count": 26,
   "id": "bd74b54b",
   "metadata": {},
   "outputs": [],
   "source": [
    "dist = FreqDist(tokens_filtered)\n",
    "tokens_filtered_top = [pair[0] for pair in dist.most_common(max_words-1)]"
   ]
  },
  {
   "cell_type": "code",
   "execution_count": 27,
   "id": "e0191ca6",
   "metadata": {},
   "outputs": [],
   "source": [
    "vocabulary = {v: k for k, v in dict(enumerate(tokens_filtered_top, 1)).items()}"
   ]
  },
  {
   "cell_type": "code",
   "execution_count": 28,
   "id": "b208d9dd",
   "metadata": {},
   "outputs": [],
   "source": [
    "def text_to_sequence(text, maxlen):\n",
    "    result = []\n",
    "    tokens = word_tokenize(text.lower())\n",
    "    tokens_filtered = [word for word in tokens if word.isalnum()]\n",
    "    for word in tokens_filtered:\n",
    "        if word in vocabulary:\n",
    "            result.append(vocabulary[word])\n",
    "    padding = [0]*(maxlen-len(result))\n",
    "    return padding + result[-maxlen:]"
   ]
  },
  {
   "cell_type": "code",
   "execution_count": 29,
   "id": "52c86261",
   "metadata": {},
   "outputs": [],
   "source": [
    "x_train = np.asarray([text_to_sequence(text, max_len) for text in df_train[\"Content\"]], dtype=np.int32)\n",
    "x_test = np.asarray([text_to_sequence(text, max_len) for text in df_test[\"Content\"]], dtype=np.int32)\n",
    "x_val = np.asarray([text_to_sequence(text, max_len) for text in df_val[\"Content\"]], dtype=np.int32)"
   ]
  },
  {
   "cell_type": "code",
   "execution_count": 30,
   "id": "79bf2c18",
   "metadata": {},
   "outputs": [
    {
     "data": {
      "text/plain": [
       "((13428, 20), 20)"
      ]
     },
     "execution_count": 30,
     "metadata": {},
     "output_type": "execute_result"
    }
   ],
   "source": [
    "x_train.shape, max_len"
   ]
  },
  {
   "cell_type": "code",
   "execution_count": 31,
   "id": "b02d3dc3",
   "metadata": {},
   "outputs": [],
   "source": [
    "y_train = tf.keras.utils.to_categorical(df_train[\"Rating\"], num_classes)\n",
    "y_val = tf.keras.utils.to_categorical(df_val[\"Rating\"], num_classes)"
   ]
  },
  {
   "cell_type": "code",
   "execution_count": 32,
   "id": "d0f88117",
   "metadata": {},
   "outputs": [],
   "source": [
    "epochs = 20\n",
    "batch_size = 16\n",
    "print_batch_n = 100"
   ]
  },
  {
   "cell_type": "code",
   "execution_count": 33,
   "id": "867cda45",
   "metadata": {},
   "outputs": [
    {
     "name": "stderr",
     "output_type": "stream",
     "text": [
      "2023-05-12 14:39:49.687340: I tensorflow/core/platform/cpu_feature_guard.cc:193] This TensorFlow binary is optimized with oneAPI Deep Neural Network Library (oneDNN) to use the following CPU instructions in performance-critical operations:  SSE4.1 SSE4.2 AVX AVX2 AVX_VNNI FMA\n",
      "To enable them in other operations, rebuild TensorFlow with the appropriate compiler flags.\n",
      "2023-05-12 14:39:49.688764: I tensorflow/core/common_runtime/process_util.cc:146] Creating new thread pool with default inter op setting: 2. Tune using inter_op_parallelism_threads for best performance.\n"
     ]
    }
   ],
   "source": [
    "model = Sequential()\n",
    "model.add(Embedding(input_dim=max_words, output_dim=128, input_length=max_len))\n",
    "model.add(Conv1D(128, 5))\n",
    "model.add(Activation(\"relu\"))\n",
    "model.add(GlobalMaxPool1D())\n",
    "model.add(Dense(num_classes))\n",
    "model.add(Activation('softmax'))\n",
    "\n",
    "\n",
    "model.compile(\n",
    "    loss='categorical_crossentropy',\n",
    "    optimizer='adam',\n",
    "    metrics=['accuracy']\n",
    ")"
   ]
  },
  {
   "cell_type": "code",
   "execution_count": 34,
   "id": "b187e7f9",
   "metadata": {},
   "outputs": [],
   "source": [
    "tensorboard=TensorBoard(log_dir='./logs', write_graph=True, write_images=True)\n",
    "early_stopping=EarlyStopping(monitor='val_loss') "
   ]
  },
  {
   "cell_type": "code",
   "execution_count": 35,
   "id": "df64485d",
   "metadata": {},
   "outputs": [
    {
     "name": "stdout",
     "output_type": "stream",
     "text": [
      "Epoch 1/20\n",
      "756/756 [==============================] - 7s 8ms/step - loss: 0.7175 - accuracy: 0.7593 - val_loss: 0.6497 - val_accuracy: 0.7937\n",
      "Epoch 2/20\n",
      "756/756 [==============================] - 6s 8ms/step - loss: 0.5744 - accuracy: 0.7999 - val_loss: 0.6544 - val_accuracy: 0.7826\n"
     ]
    }
   ],
   "source": [
    "history = model.fit(x_train, y_train,\n",
    "                    batch_size=batch_size,\n",
    "                    epochs=epochs,\n",
    "                    verbose=1,\n",
    "                    validation_split=0.1,\n",
    "                    callbacks=[tensorboard, early_stopping])"
   ]
  },
  {
   "cell_type": "code",
   "execution_count": 36,
   "id": "d92a168e",
   "metadata": {},
   "outputs": [
    {
     "name": "stdout",
     "output_type": "stream",
     "text": [
      "190/190 [==============================] - 1s 4ms/step - loss: 0.6701 - accuracy: 0.7614\n",
      "\n",
      "\n",
      "Test score: 0.6700571775436401\n",
      "Test accuracy: 0.7613561749458313\n"
     ]
    }
   ],
   "source": [
    "score = model.evaluate(x_val, y_val, batch_size=batch_size, verbose=1)\n",
    "print('\\n')\n",
    "print('Test score:', score[0])\n",
    "print('Test accuracy:', score[1])"
   ]
  },
  {
   "cell_type": "code",
   "execution_count": 37,
   "id": "b98a3522",
   "metadata": {},
   "outputs": [],
   "source": [
    "def different_convolutions(conv=(2,2)):\n",
    "    results = []\n",
    "    for temp_conv in range(conv[0], conv[1]+1):\n",
    "        model = Sequential()\n",
    "        model.add(Embedding(input_dim=max_words, output_dim=128, input_length=max_len))\n",
    "        model.add(Conv1D(128, temp_conv))\n",
    "        model.add(Activation(\"relu\"))\n",
    "        model.add(GlobalMaxPool1D())\n",
    "        model.add(Activation(\"relu\"))\n",
    "        model.add(Dense(num_classes))\n",
    "        model.add(Activation('softmax'))\n",
    "\n",
    "        model.compile(\n",
    "            loss='categorical_crossentropy',\n",
    "            optimizer='adam',\n",
    "            metrics=['accuracy']\n",
    "        )\n",
    "        tensorboard=TensorBoard(log_dir='./logs', write_graph=True, write_images=True)\n",
    "        early_stopping=EarlyStopping(monitor='val_loss')  \n",
    "\n",
    "\n",
    "        history = model.fit(x_train, y_train,\n",
    "                            batch_size=batch_size,\n",
    "                            epochs=epochs,\n",
    "                            verbose=1,\n",
    "                            validation_split=0.1,\n",
    "                            callbacks=[tensorboard, early_stopping])\n",
    "        # results.append((history.history, temp_conv))\n",
    "        results.append(history.history)\n",
    "    return results, [i for i in range(conv[0], conv[1]+1)]"
   ]
  },
  {
   "cell_type": "code",
   "execution_count": 38,
   "id": "1a76a4a1",
   "metadata": {},
   "outputs": [
    {
     "name": "stdout",
     "output_type": "stream",
     "text": [
      "Epoch 1/20\n",
      "756/756 [==============================] - 45s 59ms/step - loss: 0.7370 - accuracy: 0.7576 - val_loss: 0.6527 - val_accuracy: 0.7863\n",
      "Epoch 2/20\n",
      "756/756 [==============================] - 45s 60ms/step - loss: 0.5893 - accuracy: 0.7922 - val_loss: 0.6467 - val_accuracy: 0.7915\n",
      "Epoch 1/20\n",
      "756/756 [==============================] - 7s 9ms/step - loss: 0.7283 - accuracy: 0.7542 - val_loss: 0.6445 - val_accuracy: 0.7893\n",
      "Epoch 2/20\n",
      "756/756 [==============================] - 8s 11ms/step - loss: 0.5863 - accuracy: 0.7972 - val_loss: 0.6515 - val_accuracy: 0.7856\n",
      "Epoch 1/20\n",
      "756/756 [==============================] - 7s 8ms/step - loss: 0.7260 - accuracy: 0.7584 - val_loss: 0.6327 - val_accuracy: 0.7990\n",
      "Epoch 2/20\n",
      "756/756 [==============================] - 8s 11ms/step - loss: 0.5781 - accuracy: 0.8009 - val_loss: 0.6467 - val_accuracy: 0.7893\n",
      "Epoch 1/20\n",
      "756/756 [==============================] - 11s 14ms/step - loss: 0.7243 - accuracy: 0.7566 - val_loss: 0.6499 - val_accuracy: 0.7878\n",
      "Epoch 2/20\n",
      "756/756 [==============================] - 8s 11ms/step - loss: 0.5758 - accuracy: 0.8026 - val_loss: 0.6463 - val_accuracy: 0.7856\n",
      "Epoch 1/20\n",
      "756/756 [==============================] - 7s 9ms/step - loss: 0.7229 - accuracy: 0.7568 - val_loss: 0.6428 - val_accuracy: 0.7751\n",
      "Epoch 2/20\n",
      "756/756 [==============================] - 8s 11ms/step - loss: 0.5745 - accuracy: 0.8003 - val_loss: 0.6495 - val_accuracy: 0.7803\n",
      "Epoch 1/20\n",
      "756/756 [==============================] - 7s 9ms/step - loss: 0.7200 - accuracy: 0.7604 - val_loss: 0.6423 - val_accuracy: 0.7841\n",
      "Epoch 2/20\n",
      "756/756 [==============================] - 9s 12ms/step - loss: 0.5778 - accuracy: 0.8008 - val_loss: 0.6536 - val_accuracy: 0.7818\n",
      "Epoch 1/20\n",
      "756/756 [==============================] - 8s 10ms/step - loss: 0.7201 - accuracy: 0.7578 - val_loss: 0.6484 - val_accuracy: 0.7774\n",
      "Epoch 2/20\n",
      "756/756 [==============================] - 7s 9ms/step - loss: 0.5741 - accuracy: 0.8008 - val_loss: 0.6481 - val_accuracy: 0.7803\n",
      "Epoch 1/20\n",
      "756/756 [==============================] - 9s 11ms/step - loss: 0.7214 - accuracy: 0.7573 - val_loss: 0.6359 - val_accuracy: 0.7908\n",
      "Epoch 2/20\n",
      "756/756 [==============================] - 7s 9ms/step - loss: 0.5746 - accuracy: 0.8018 - val_loss: 0.6393 - val_accuracy: 0.7856\n",
      "Epoch 1/20\n",
      "756/756 [==============================] - 8s 9ms/step - loss: 0.7254 - accuracy: 0.7536 - val_loss: 0.6526 - val_accuracy: 0.7833\n",
      "Epoch 2/20\n",
      "756/756 [==============================] - 8s 10ms/step - loss: 0.5727 - accuracy: 0.8015 - val_loss: 0.6525 - val_accuracy: 0.7811\n",
      "Epoch 1/20\n",
      "756/756 [==============================] - 10s 12ms/step - loss: 0.7258 - accuracy: 0.7576 - val_loss: 0.6483 - val_accuracy: 0.7803\n",
      "Epoch 2/20\n",
      "756/756 [==============================] - 9s 11ms/step - loss: 0.5812 - accuracy: 0.7994 - val_loss: 0.6447 - val_accuracy: 0.7893\n",
      "Epoch 1/20\n",
      "756/756 [==============================] - 8s 10ms/step - loss: 0.7238 - accuracy: 0.7554 - val_loss: 0.6365 - val_accuracy: 0.7811\n",
      "Epoch 2/20\n",
      "756/756 [==============================] - 9s 12ms/step - loss: 0.5714 - accuracy: 0.8017 - val_loss: 0.6685 - val_accuracy: 0.7722\n",
      "Epoch 1/20\n",
      "756/756 [==============================] - 8s 10ms/step - loss: 0.7251 - accuracy: 0.7563 - val_loss: 0.6837 - val_accuracy: 0.7774\n",
      "Epoch 2/20\n",
      "756/756 [==============================] - 7s 10ms/step - loss: 0.5778 - accuracy: 0.8011 - val_loss: 0.6851 - val_accuracy: 0.7692\n",
      "Epoch 1/20\n",
      "756/756 [==============================] - 9s 11ms/step - loss: 0.7306 - accuracy: 0.7542 - val_loss: 0.6394 - val_accuracy: 0.7863\n",
      "Epoch 2/20\n",
      "756/756 [==============================] - 8s 10ms/step - loss: 0.5761 - accuracy: 0.8002 - val_loss: 0.6579 - val_accuracy: 0.7856\n",
      "Epoch 1/20\n",
      "756/756 [==============================] - 9s 11ms/step - loss: 0.7256 - accuracy: 0.7567 - val_loss: 0.6528 - val_accuracy: 0.7818\n",
      "Epoch 2/20\n",
      "756/756 [==============================] - 10s 13ms/step - loss: 0.5709 - accuracy: 0.8048 - val_loss: 0.6613 - val_accuracy: 0.7826\n",
      "Epoch 1/20\n",
      "756/756 [==============================] - 10s 12ms/step - loss: 0.7318 - accuracy: 0.7515 - val_loss: 0.6717 - val_accuracy: 0.7863\n",
      "Epoch 2/20\n",
      "756/756 [==============================] - 7s 10ms/step - loss: 0.5733 - accuracy: 0.8014 - val_loss: 0.6663 - val_accuracy: 0.7856\n"
     ]
    }
   ],
   "source": [
    "res = different_convolutions((1,15))"
   ]
  },
  {
   "cell_type": "code",
   "execution_count": 33,
   "id": "ae934cce",
   "metadata": {},
   "outputs": [
    {
     "data": {
      "text/html": [
       "<div>\n",
       "<style scoped>\n",
       "    .dataframe tbody tr th:only-of-type {\n",
       "        vertical-align: middle;\n",
       "    }\n",
       "\n",
       "    .dataframe tbody tr th {\n",
       "        vertical-align: top;\n",
       "    }\n",
       "\n",
       "    .dataframe thead th {\n",
       "        text-align: right;\n",
       "    }\n",
       "</style>\n",
       "<table border=\"1\" class=\"dataframe\">\n",
       "  <thead>\n",
       "    <tr style=\"text-align: right;\">\n",
       "      <th></th>\n",
       "      <th>val_loss</th>\n",
       "      <th>val_accuracy</th>\n",
       "      <th>loss</th>\n",
       "      <th>accuracy</th>\n",
       "    </tr>\n",
       "  </thead>\n",
       "  <tbody>\n",
       "    <tr>\n",
       "      <th>1</th>\n",
       "      <td>[0.6451280256393501, 0.6563991670810901]</td>\n",
       "      <td>[0.7714073061943054, 0.7788532972335815]</td>\n",
       "      <td>[0.7484327158653692, 0.598894610008426]</td>\n",
       "      <td>[0.7536616, 0.7910633]</td>\n",
       "    </tr>\n",
       "    <tr>\n",
       "      <th>2</th>\n",
       "      <td>[0.6329048269734131, 0.6402106578014541]</td>\n",
       "      <td>[0.7795979380607605, 0.7870439291000366]</td>\n",
       "      <td>[0.7397208883538442, 0.5929695876363786]</td>\n",
       "      <td>[0.75233763, 0.7904841]</td>\n",
       "    </tr>\n",
       "    <tr>\n",
       "      <th>3</th>\n",
       "      <td>[0.6329639810550062, 0.6391972172020624]</td>\n",
       "      <td>[0.7758749127388, 0.7810871005058289]</td>\n",
       "      <td>[0.7313166497584261, 0.5845596031063491]</td>\n",
       "      <td>[0.75556475, 0.79528344]</td>\n",
       "    </tr>\n",
       "    <tr>\n",
       "      <th>4</th>\n",
       "      <td>[0.6476948708184868, 0.6484966797342251]</td>\n",
       "      <td>[0.7736411094665527, 0.7751303315162659]</td>\n",
       "      <td>[0.7296610081965241, 0.5829357847676181]</td>\n",
       "      <td>[0.75482005, 0.7976003]</td>\n",
       "    </tr>\n",
       "    <tr>\n",
       "      <th>5</th>\n",
       "      <td>[0.6513570446357386, 0.6549553111339805]</td>\n",
       "      <td>[0.7706627249717712, 0.7743856906890869]</td>\n",
       "      <td>[0.7329112542923394, 0.5831952583656659]</td>\n",
       "      <td>[0.754158, 0.79247]</td>\n",
       "    </tr>\n",
       "    <tr>\n",
       "      <th>6</th>\n",
       "      <td>[0.6642446905840536, 0.652454979590134, 0.7101...</td>\n",
       "      <td>[0.767684280872345, 0.7773641347885132, 0.7691...</td>\n",
       "      <td>[0.7315550524413117, 0.5866512411430842, 0.474...</td>\n",
       "      <td>[0.75763345, 0.7963591, 0.84377325]</td>\n",
       "    </tr>\n",
       "    <tr>\n",
       "      <th>7</th>\n",
       "      <td>[0.6377961953806505, 0.6639943398474226]</td>\n",
       "      <td>[0.7751303315162659, 0.7736411094665527]</td>\n",
       "      <td>[0.7291232948072399, 0.5792362760624513]</td>\n",
       "      <td>[0.7556475, 0.7974348]</td>\n",
       "    </tr>\n",
       "    <tr>\n",
       "      <th>8</th>\n",
       "      <td>[0.6499771976417689, 0.6550665344219109]</td>\n",
       "      <td>[0.7781087160110474, 0.782576322555542]</td>\n",
       "      <td>[0.7336939016846423, 0.587226091634157]</td>\n",
       "      <td>[0.75233763, 0.79652464]</td>\n",
       "    </tr>\n",
       "    <tr>\n",
       "      <th>9</th>\n",
       "      <td>[0.6387028434519793, 0.6689053216445651]</td>\n",
       "      <td>[0.7721518874168396, 0.7661950588226318]</td>\n",
       "      <td>[0.7359129328346963, 0.5870467721108913]</td>\n",
       "      <td>[0.7529996, 0.799669]</td>\n",
       "    </tr>\n",
       "    <tr>\n",
       "      <th>10</th>\n",
       "      <td>[0.6583572827606883, 0.6744436650070252]</td>\n",
       "      <td>[0.7751303315162659, 0.7773641347885132]</td>\n",
       "      <td>[0.7339794991082478, 0.5855140246879379]</td>\n",
       "      <td>[0.7513446, 0.7947042]</td>\n",
       "    </tr>\n",
       "    <tr>\n",
       "      <th>11</th>\n",
       "      <td>[0.6515036094836664, 0.6638669421312442]</td>\n",
       "      <td>[0.7736411094665527, 0.7714073061943054]</td>\n",
       "      <td>[0.7364117066131232, 0.5804443962474376]</td>\n",
       "      <td>[0.7516756, 0.7978486]</td>\n",
       "    </tr>\n",
       "    <tr>\n",
       "      <th>12</th>\n",
       "      <td>[0.6665331590823602, 0.6640084445343387, 0.760...</td>\n",
       "      <td>[0.7639612555503845, 0.7743856906890869, 0.761...</td>\n",
       "      <td>[0.737313613459548, 0.5843405606581941, 0.4561...</td>\n",
       "      <td>[0.75242037, 0.79892427, 0.85237896]</td>\n",
       "    </tr>\n",
       "    <tr>\n",
       "      <th>13</th>\n",
       "      <td>[0.6455431297831986, 0.6826150711134842]</td>\n",
       "      <td>[0.7714073061943054, 0.7661950588226318]</td>\n",
       "      <td>[0.7365220698779607, 0.5884925767871827]</td>\n",
       "      <td>[0.7509309, 0.7970211]</td>\n",
       "    </tr>\n",
       "    <tr>\n",
       "      <th>14</th>\n",
       "      <td>[0.6455725959584683, 0.6659305358856185]</td>\n",
       "      <td>[0.7736411094665527, 0.7728965282440186]</td>\n",
       "      <td>[0.7340373533425323, 0.5814199274415855]</td>\n",
       "      <td>[0.75117916, 0.7994208]</td>\n",
       "    </tr>\n",
       "    <tr>\n",
       "      <th>15</th>\n",
       "      <td>[0.6755239338193114, 0.6859239381103487]</td>\n",
       "      <td>[0.7475800514221191, 0.7691735029220581]</td>\n",
       "      <td>[0.7395041952263387, 0.5846508938712821]</td>\n",
       "      <td>[0.7520066, 0.799669]</td>\n",
       "    </tr>\n",
       "  </tbody>\n",
       "</table>\n",
       "</div>"
      ],
      "text/plain": [
       "                                             val_loss  \\\n",
       "1            [0.6451280256393501, 0.6563991670810901]   \n",
       "2            [0.6329048269734131, 0.6402106578014541]   \n",
       "3            [0.6329639810550062, 0.6391972172020624]   \n",
       "4            [0.6476948708184868, 0.6484966797342251]   \n",
       "5            [0.6513570446357386, 0.6549553111339805]   \n",
       "6   [0.6642446905840536, 0.652454979590134, 0.7101...   \n",
       "7            [0.6377961953806505, 0.6639943398474226]   \n",
       "8            [0.6499771976417689, 0.6550665344219109]   \n",
       "9            [0.6387028434519793, 0.6689053216445651]   \n",
       "10           [0.6583572827606883, 0.6744436650070252]   \n",
       "11           [0.6515036094836664, 0.6638669421312442]   \n",
       "12  [0.6665331590823602, 0.6640084445343387, 0.760...   \n",
       "13           [0.6455431297831986, 0.6826150711134842]   \n",
       "14           [0.6455725959584683, 0.6659305358856185]   \n",
       "15           [0.6755239338193114, 0.6859239381103487]   \n",
       "\n",
       "                                         val_accuracy  \\\n",
       "1            [0.7714073061943054, 0.7788532972335815]   \n",
       "2            [0.7795979380607605, 0.7870439291000366]   \n",
       "3               [0.7758749127388, 0.7810871005058289]   \n",
       "4            [0.7736411094665527, 0.7751303315162659]   \n",
       "5            [0.7706627249717712, 0.7743856906890869]   \n",
       "6   [0.767684280872345, 0.7773641347885132, 0.7691...   \n",
       "7            [0.7751303315162659, 0.7736411094665527]   \n",
       "8             [0.7781087160110474, 0.782576322555542]   \n",
       "9            [0.7721518874168396, 0.7661950588226318]   \n",
       "10           [0.7751303315162659, 0.7773641347885132]   \n",
       "11           [0.7736411094665527, 0.7714073061943054]   \n",
       "12  [0.7639612555503845, 0.7743856906890869, 0.761...   \n",
       "13           [0.7714073061943054, 0.7661950588226318]   \n",
       "14           [0.7736411094665527, 0.7728965282440186]   \n",
       "15           [0.7475800514221191, 0.7691735029220581]   \n",
       "\n",
       "                                                 loss  \\\n",
       "1             [0.7484327158653692, 0.598894610008426]   \n",
       "2            [0.7397208883538442, 0.5929695876363786]   \n",
       "3            [0.7313166497584261, 0.5845596031063491]   \n",
       "4            [0.7296610081965241, 0.5829357847676181]   \n",
       "5            [0.7329112542923394, 0.5831952583656659]   \n",
       "6   [0.7315550524413117, 0.5866512411430842, 0.474...   \n",
       "7            [0.7291232948072399, 0.5792362760624513]   \n",
       "8             [0.7336939016846423, 0.587226091634157]   \n",
       "9            [0.7359129328346963, 0.5870467721108913]   \n",
       "10           [0.7339794991082478, 0.5855140246879379]   \n",
       "11           [0.7364117066131232, 0.5804443962474376]   \n",
       "12  [0.737313613459548, 0.5843405606581941, 0.4561...   \n",
       "13           [0.7365220698779607, 0.5884925767871827]   \n",
       "14           [0.7340373533425323, 0.5814199274415855]   \n",
       "15           [0.7395041952263387, 0.5846508938712821]   \n",
       "\n",
       "                                accuracy  \n",
       "1                 [0.7536616, 0.7910633]  \n",
       "2                [0.75233763, 0.7904841]  \n",
       "3               [0.75556475, 0.79528344]  \n",
       "4                [0.75482005, 0.7976003]  \n",
       "5                    [0.754158, 0.79247]  \n",
       "6    [0.75763345, 0.7963591, 0.84377325]  \n",
       "7                 [0.7556475, 0.7974348]  \n",
       "8               [0.75233763, 0.79652464]  \n",
       "9                  [0.7529996, 0.799669]  \n",
       "10                [0.7513446, 0.7947042]  \n",
       "11                [0.7516756, 0.7978486]  \n",
       "12  [0.75242037, 0.79892427, 0.85237896]  \n",
       "13                [0.7509309, 0.7970211]  \n",
       "14               [0.75117916, 0.7994208]  \n",
       "15                 [0.7520066, 0.799669]  "
      ]
     },
     "execution_count": 33,
     "metadata": {},
     "output_type": "execute_result"
    }
   ],
   "source": [
    "pd.DataFrame(res[0], index=res[1])"
   ]
  },
  {
   "cell_type": "code",
   "execution_count": 42,
   "id": "a78f4f76-33f7-40c7-bade-66e59203ecc4",
   "metadata": {},
   "outputs": [
    {
     "data": {
      "text/plain": [
       "([{'loss': [0.7369810342788696, 0.5892660617828369],\n",
       "   'accuracy': [0.7575506567955017, 0.7922217845916748],\n",
       "   'val_loss': [0.6527249217033386, 0.6466626524925232],\n",
       "   'val_accuracy': [0.7862993478775024, 0.7915115356445312]},\n",
       "  {'loss': [0.72834312915802, 0.5862574577331543],\n",
       "   'accuracy': [0.7542408108711243, 0.7971866130828857],\n",
       "   'val_loss': [0.6445209383964539, 0.651465117931366],\n",
       "   'val_accuracy': [0.7892777323722839, 0.7855547070503235]},\n",
       "  {'loss': [0.7259688973426819, 0.5781187415122986],\n",
       "   'accuracy': [0.7583781480789185, 0.800910234451294],\n",
       "   'val_loss': [0.632665753364563, 0.6466896533966064],\n",
       "   'val_accuracy': [0.7989575862884521, 0.7892777323722839]},\n",
       "  {'loss': [0.7242674231529236, 0.5758451223373413],\n",
       "   'accuracy': [0.7565577030181885, 0.8026478886604309],\n",
       "   'val_loss': [0.6499274373054504, 0.646302342414856],\n",
       "   'val_accuracy': [0.7877885103225708, 0.7855547070503235]},\n",
       "  {'loss': [0.7228543162345886, 0.5744708180427551],\n",
       "   'accuracy': [0.756805956363678, 0.8003309965133667],\n",
       "   'val_loss': [0.642827033996582, 0.6495072841644287],\n",
       "   'val_accuracy': [0.7751303315162659, 0.7803425192832947]},\n",
       "  {'loss': [0.7200236320495605, 0.5777901411056519],\n",
       "   'accuracy': [0.7603641152381897, 0.8008274435997009],\n",
       "   'val_loss': [0.6422686576843262, 0.6536483764648438],\n",
       "   'val_accuracy': [0.7840655446052551, 0.7818317413330078]},\n",
       "  {'loss': [0.7200605273246765, 0.574140191078186],\n",
       "   'accuracy': [0.7577989101409912, 0.8008274435997009],\n",
       "   'val_loss': [0.6483539342880249, 0.6481000185012817],\n",
       "   'val_accuracy': [0.7773641347885132, 0.7803425192832947]},\n",
       "  {'loss': [0.7213770747184753, 0.5745832920074463],\n",
       "   'accuracy': [0.757302463054657, 0.8018204569816589],\n",
       "   'val_loss': [0.635917603969574, 0.6392901539802551],\n",
       "   'val_accuracy': [0.7907669544219971, 0.7855547070503235]},\n",
       "  {'loss': [0.7254218459129333, 0.5726787447929382],\n",
       "   'accuracy': [0.7535788416862488, 0.8014894723892212],\n",
       "   'val_loss': [0.6525678038597107, 0.6525087356567383],\n",
       "   'val_accuracy': [0.7833209037780762, 0.7810871005058289]},\n",
       "  {'loss': [0.7258254289627075, 0.5812296271324158],\n",
       "   'accuracy': [0.7575506567955017, 0.7994207739830017],\n",
       "   'val_loss': [0.6482929587364197, 0.6447465419769287],\n",
       "   'val_accuracy': [0.7803425192832947, 0.7892777323722839]},\n",
       "  {'loss': [0.723767101764679, 0.5713518261909485],\n",
       "   'accuracy': [0.755399227142334, 0.8016549348831177],\n",
       "   'val_loss': [0.6364516019821167, 0.6685130000114441],\n",
       "   'val_accuracy': [0.7810871005058289, 0.7721518874168396]},\n",
       "  {'loss': [0.7251195907592773, 0.5777952075004578],\n",
       "   'accuracy': [0.756309449672699, 0.8010756969451904],\n",
       "   'val_loss': [0.6836515665054321, 0.6851429343223572],\n",
       "   'val_accuracy': [0.7773641347885132, 0.7691735029220581]},\n",
       "  {'loss': [0.730582058429718, 0.5760525465011597],\n",
       "   'accuracy': [0.7542408108711243, 0.8001654744148254],\n",
       "   'val_loss': [0.6393537521362305, 0.6579172015190125],\n",
       "   'val_accuracy': [0.7862993478775024, 0.7855547070503235]},\n",
       "  {'loss': [0.7256358861923218, 0.5709475874900818],\n",
       "   'accuracy': [0.7567232251167297, 0.8047993183135986],\n",
       "   'val_loss': [0.6528308391571045, 0.6612963080406189],\n",
       "   'val_accuracy': [0.7818317413330078, 0.782576322555542]},\n",
       "  {'loss': [0.7318325638771057, 0.5732904076576233],\n",
       "   'accuracy': [0.7515101432800293, 0.8014066815376282],\n",
       "   'val_loss': [0.6717441082000732, 0.6662631630897522],\n",
       "   'val_accuracy': [0.7862993478775024, 0.7855547070503235]}],\n",
       " [1, 2, 3, 4, 5, 6, 7, 8, 9, 10, 11, 12, 13, 14, 15])"
      ]
     },
     "execution_count": 42,
     "metadata": {},
     "output_type": "execute_result"
    }
   ],
   "source": [
    "res"
   ]
  },
  {
   "cell_type": "raw",
   "id": "115b4d35-b4c6-4ce1-88c6-9d732b0fe163",
   "metadata": {},
   "source": [
    "from contextlib import redirect_stdout\n",
    "with open('model.txt', 'w') as f:\n",
    "    with redirect_stdout(f):\n",
    "        model.summary()"
   ]
  },
  {
   "cell_type": "code",
   "execution_count": 49,
   "id": "f15dbabb-f394-4a04-a407-e8f2fe959ae7",
   "metadata": {},
   "outputs": [],
   "source": [
    "import numpy as np\n",
    "weights = model.layers[0].get_weights()[0]\n",
    "np.savetxt('model.txt', weights ,fmt='%s')"
   ]
  },
  {
   "cell_type": "code",
   "execution_count": 50,
   "id": "3cf33247",
   "metadata": {},
   "outputs": [
    {
     "data": {
      "text/plain": [
       "'-0.015095357 -0.03959214 0.008185286 0.0007301944 -0.026648914 0.045232702 0.057778858 -0.034507044 -0.04752925 -0.017102094 -0.03354258 -0.0012690077 0.0053098802 0.011524156 0.009314574 -0.046989504 -0.024000794 0.0037724348 -0.0326308 0.003384432 0.021586683 0.023431601 -0.046708558 0.046676572 -0.030239554 0.05787146 -0.02712383 -0.011638471 0.0191966 -0.018725017 -0.028058896 -0.053002395 -0.02642748 -0.057575084 0.026125183 0.025924707 -0.04164207 0.024537656 0.020818828 0.044692088 0.015409228 0.040675517 -0.05298462 0.018757353 0.015137646 0.033983435 -0.020970993 -0.00360053 0.03602773 0.010452118 -0.023494061 0.011337303 -0.041881897 -0.026350146 -0.04010025 0.0046434486 0.031548936 -0.0594734 0.044558726 -0.009634795 -0.005723461 0.03493536 -0.027057214 0.040231448 0.012951486 0.010381254 0.05406473 0.0060528503 -0.024338583 0.015542297 0.06597497 0.009625832 -0.04795719 0.033162236 0.02321363 0.0059979316 -0.014784107 0.03840651 0.0152088795 0.017882956 0.023688763 0.005611463 -0.010185213 -0.031685315 -0.001197656 0.020669919 0.019557357 -0.05706934 -0.05336474 0.030699793 0.010683241 -0.03064385 -0.030247819 -0.0203996 -0.013880325 -0.022529153 0.057606675 -0.03307502 -0.001004965 -0.004683621 0.06468129 0.00575048 -0.0067607085 -0.031360697 -0.047573436 0.01580775 0.0041265204 0.039548144 0.026875146 0.0069838893 0.012044945 0.03737376 -0.030286167 0.04251846 0.0018982443 0.019206816 0.056464676 -0.014547611 0.01815117 -0.015127417 -0.016936554 0.019198902 -0.023705926 0.004539232 -0.013605073 -0.031542547 0.042780854 0.068506874\\n'"
      ]
     },
     "execution_count": 50,
     "metadata": {},
     "output_type": "execute_result"
    }
   ],
   "source": [
    "with open('model.txt', 'r', encoding='utf8') as f:\n",
    "    pretrained_words = f.readlines()\n",
    "pretrained_words.pop(0)"
   ]
  },
  {
   "cell_type": "code",
   "execution_count": 51,
   "id": "9b1affdb",
   "metadata": {},
   "outputs": [
    {
     "data": {
      "text/plain": [
       "'-0.06233946'"
      ]
     },
     "execution_count": 51,
     "metadata": {},
     "output_type": "execute_result"
    }
   ],
   "source": [
    "pretrained_words[1].split()[0].split('_')[0]"
   ]
  },
  {
   "cell_type": "code",
   "execution_count": 52,
   "id": "9cd5305d",
   "metadata": {},
   "outputs": [
    {
     "data": {
      "text/plain": [
       "(127,)"
      ]
     },
     "execution_count": 52,
     "metadata": {},
     "output_type": "execute_result"
    }
   ],
   "source": [
    "np.asarray(pretrained_words[1].split()[1:], dtype='float32').shape"
   ]
  },
  {
   "cell_type": "code",
   "execution_count": 53,
   "id": "18390dcc",
   "metadata": {},
   "outputs": [
    {
     "name": "stdout",
     "output_type": "stream",
     "text": [
      "1999\n"
     ]
    }
   ],
   "source": [
    "counter = 0\n",
    "embeddings_index = {}\n",
    "for pre_word in pretrained_words:\n",
    "    counter += 1\n",
    "    word = pre_word.split()[0].split('_')[0]\n",
    "    coefs = np.asarray(pre_word.split()[1:], dtype='float32')\n",
    "    embeddings_index[word] = coefs\n",
    "print(counter)"
   ]
  },
  {
   "cell_type": "code",
   "execution_count": 54,
   "id": "74c60155",
   "metadata": {},
   "outputs": [],
   "source": [
    "EMBEDDING_DIM = 300"
   ]
  },
  {
   "cell_type": "code",
   "execution_count": 55,
   "id": "eda83f85",
   "metadata": {},
   "outputs": [],
   "source": [
    "embedding_matrix = np.zeros((len(vocabulary) + 1, EMBEDDING_DIM))\n",
    "for word, i in vocabulary.items():\n",
    "    embedding_vector = embeddings_index.get(word)\n",
    "    if embedding_vector is not None:\n",
    "        embedding_matrix[i] = embedding_vector"
   ]
  },
  {
   "cell_type": "code",
   "execution_count": 63,
   "id": "fa50c22c-3c2f-44bd-aa57-0ff65761b143",
   "metadata": {},
   "outputs": [
    {
     "data": {
      "text/plain": [
       "(2000, 300)"
      ]
     },
     "execution_count": 63,
     "metadata": {},
     "output_type": "execute_result"
    }
   ],
   "source": [
    "embedding_matrix.shape"
   ]
  },
  {
   "cell_type": "code",
   "execution_count": 78,
   "id": "cf319559-0326-45c4-a7c9-6ff1759df00b",
   "metadata": {},
   "outputs": [],
   "source": [
    "embedding_layer = Embedding(input_dim = len(vocabulary) + 1, \n",
    "                            output_dim = EMBEDDING_DIM,\n",
    "                            weights = [embedding_matrix],\n",
    "                            input_length=max_len,\n",
    "                            trainable = False)"
   ]
  },
  {
   "cell_type": "code",
   "execution_count": 79,
   "id": "2e4714a5",
   "metadata": {},
   "outputs": [
    {
     "name": "stdout",
     "output_type": "stream",
     "text": [
      "Model: \"sequential_26\"\n",
      "_________________________________________________________________\n",
      " Layer (type)                Output Shape              Param #   \n",
      "=================================================================\n",
      " embedding_24 (Embedding)    (None, 20, 300)           600000    \n",
      "                                                                 \n",
      " conv1d_16 (Conv1D)          (None, 16, 128)           192128    \n",
      "                                                                 \n",
      " activation_47 (Activation)  (None, 16, 128)           0         \n",
      "                                                                 \n",
      " global_max_pooling1d_16 (Gl  (None, 128)              0         \n",
      " obalMaxPooling1D)                                               \n",
      "                                                                 \n",
      " dense_16 (Dense)            (None, 50)                6450      \n",
      "                                                                 \n",
      " activation_48 (Activation)  (None, 50)                0         \n",
      "                                                                 \n",
      " dense_17 (Dense)            (None, 6)                 306       \n",
      "                                                                 \n",
      " activation_49 (Activation)  (None, 6)                 0         \n",
      "                                                                 \n",
      "=================================================================\n",
      "Total params: 798,884\n",
      "Trainable params: 198,884\n",
      "Non-trainable params: 600,000\n",
      "_________________________________________________________________\n"
     ]
    }
   ],
   "source": [
    "model = Sequential()\n",
    "model.add(embedding_layer)\n",
    "model.add(Conv1D(128, 5))\n",
    "model.add(Activation(\"relu\"))\n",
    "model.add(GlobalMaxPool1D())\n",
    "model.add(Dense(50))\n",
    "model.add(Activation(\"relu\"))\n",
    "model.add(Dense(num_classes))\n",
    "model.add(Activation('softmax'))\n",
    "model.summary()"
   ]
  },
  {
   "cell_type": "code",
   "execution_count": 80,
   "id": "9527b1e6",
   "metadata": {},
   "outputs": [],
   "source": [
    "model.compile(\n",
    "    loss='categorical_crossentropy',\n",
    "    optimizer='adam',\n",
    "    metrics=['accuracy']\n",
    ")"
   ]
  },
  {
   "cell_type": "code",
   "execution_count": 81,
   "id": "8b5eb7a3",
   "metadata": {},
   "outputs": [
    {
     "name": "stdout",
     "output_type": "stream",
     "text": [
      "Epoch 1/20\n",
      "756/756 [==============================] - 6s 8ms/step - loss: 1.4849 - accuracy: 0.7046 - val_loss: 1.2391 - val_accuracy: 0.7185\n",
      "Epoch 2/20\n",
      "756/756 [==============================] - 7s 9ms/step - loss: 1.1436 - accuracy: 0.7053 - val_loss: 1.0489 - val_accuracy: 0.7185\n"
     ]
    }
   ],
   "source": [
    "history = model.fit(x_train, y_train,\n",
    "                    batch_size=batch_size,\n",
    "                    epochs=epochs,\n",
    "                    verbose=1,\n",
    "                    validation_split=0.1,\n",
    "                    callbacks=[tensorboard, early_stopping])"
   ]
  },
  {
   "cell_type": "markdown",
   "id": "bec273ff",
   "metadata": {},
   "source": [
    "Вывод: Результат модели с предобученным эмбеддингом оказался чуть ниже"
   ]
  }
 ],
 "metadata": {
  "kernelspec": {
   "display_name": "Python 3 (ipykernel)",
   "language": "python",
   "name": "python3"
  },
  "language_info": {
   "codemirror_mode": {
    "name": "ipython",
    "version": 3
   },
   "file_extension": ".py",
   "mimetype": "text/x-python",
   "name": "python",
   "nbconvert_exporter": "python",
   "pygments_lexer": "ipython3",
   "version": "3.7.12"
  }
 },
 "nbformat": 4,
 "nbformat_minor": 5
}
