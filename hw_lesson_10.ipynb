{
 "cells": [
  {
   "cell_type": "markdown",
   "id": "4LBge0gdRRTw",
   "metadata": {
    "id": "4LBge0gdRRTw"
   },
   "source": [
    "### Задание\n",
    "\n",
    "Разобраться с моделькой перевода как она устроена\n",
    "запустить для перевода с русского на английский (при желании можно взять другие пары языков) два варианта с вниманием и без внимания\n",
    "оценить качество насколько корректно переводит (для теста отобрать примеры с увеличением длины текста) (так как оценка визуальная достаточно 20-ти примеров в тестовой выборке)"
   ]
  },
  {
   "cell_type": "markdown",
   "id": "d37373f1",
   "metadata": {
    "id": "d37373f1"
   },
   "source": [
    "### Neural machine translation"
   ]
  },
  {
   "cell_type": "code",
   "execution_count": 1,
   "id": "eb6fdb0f",
   "metadata": {
    "executionInfo": {
     "elapsed": 5577,
     "status": "ok",
     "timestamp": 1675963993513,
     "user": {
      "displayName": "Maxim Gasilin",
      "userId": "15501735730920561422"
     },
     "user_tz": -180
    },
    "id": "eb6fdb0f"
   },
   "outputs": [
    {
     "name": "stderr",
     "output_type": "stream",
     "text": [
      "2023-05-25 16:50:24.249782: I tensorflow/core/platform/cpu_feature_guard.cc:193] This TensorFlow binary is optimized with oneAPI Deep Neural Network Library (oneDNN) to use the following CPU instructions in performance-critical operations:  SSE4.1 SSE4.2 AVX AVX2 AVX_VNNI FMA\n",
      "To enable them in other operations, rebuild TensorFlow with the appropriate compiler flags.\n"
     ]
    }
   ],
   "source": [
    "import tensorflow as tf\n",
    "\n",
    "import matplotlib.pyplot as plt\n",
    "import matplotlib.ticker as ticker\n",
    "from sklearn.model_selection import train_test_split\n",
    "\n",
    "import unicodedata\n",
    "import re\n",
    "import numpy as np\n",
    "import os\n",
    "import io\n",
    "import time"
   ]
  },
  {
   "cell_type": "markdown",
   "id": "48395acf",
   "metadata": {
    "id": "48395acf"
   },
   "source": [
    "### Download and prepare the dataset"
   ]
  },
  {
   "cell_type": "markdown",
   "id": "4f04cd9e",
   "metadata": {
    "id": "4f04cd9e"
   },
   "source": [
    "We'll use a language dataset provided by http://www.manythings.org/anki/"
   ]
  },
  {
   "cell_type": "raw",
   "id": "4a4ae047-1f76-4128-91b1-b26de99cb140",
   "metadata": {
    "colab": {
     "base_uri": "https://localhost:8080/"
    },
    "executionInfo": {
     "elapsed": 18032,
     "status": "ok",
     "timestamp": 1675964259088,
     "user": {
      "displayName": "Maxim Gasilin",
      "userId": "15501735730920561422"
     },
     "user_tz": -180
    },
    "id": "TJQmNapBPcvv",
    "outputId": "742e0f29-5dc6-4907-cc0e-75c7702a691b"
   },
   "source": [
    "!wget -O rus-eng.zip -qq --no-check-certificate \"http://www.manythings.org/anki/rus-eng.zip\"\n",
    "!unzip rus-eng.zip"
   ]
  },
  {
   "cell_type": "code",
   "execution_count": 2,
   "id": "7cf4aa27",
   "metadata": {
    "executionInfo": {
     "elapsed": 3,
     "status": "ok",
     "timestamp": 1675964270759,
     "user": {
      "displayName": "Maxim Gasilin",
      "userId": "15501735730920561422"
     },
     "user_tz": -180
    },
    "id": "7cf4aa27"
   },
   "outputs": [],
   "source": [
    "# Download the file\n",
    "path_to_file = \"rus.txt\""
   ]
  },
  {
   "cell_type": "code",
   "execution_count": 3,
   "id": "1089bd6f",
   "metadata": {
    "executionInfo": {
     "elapsed": 847,
     "status": "ok",
     "timestamp": 1675964277652,
     "user": {
      "displayName": "Maxim Gasilin",
      "userId": "15501735730920561422"
     },
     "user_tz": -180
    },
    "id": "1089bd6f"
   },
   "outputs": [],
   "source": [
    "def preprocess_sentence(w):\n",
    "    w = w.lower().strip()\n",
    "    \n",
    "    # creating a space between a word and the punctuation following it\n",
    "    # eg: \"he is a boy.\" => \"he is a boy .\"\n",
    "    # Reference:- https://stackoverflow.com/questions/3645931/python-padding-punctuation-with-white-spaces-keeping-punctuation\n",
    "    w = re.sub(r\"([?.!,])\", r\" \\1 \", w)\n",
    "    w = re.sub(r'[\" \"]+', \" \", w)\n",
    "\n",
    "    # replacing everything with space except (a-z, A-Z, \".\", \"?\", \"!\", \",\")\n",
    "    w = re.sub(r\"[^a-zA-Zа-яА-Я?.!,']+\", \" \", w)\n",
    "\n",
    "    w = w.strip()\n",
    "\n",
    "    # adding a start and an end token to the sentence\n",
    "    # so that the model know when to start and stop predicting.\n",
    "    w = '<start> ' + w + ' <end>'\n",
    "    return w"
   ]
  },
  {
   "cell_type": "code",
   "execution_count": 4,
   "id": "9a2d7b74",
   "metadata": {
    "colab": {
     "base_uri": "https://localhost:8080/",
     "height": 35
    },
    "executionInfo": {
     "elapsed": 572,
     "status": "ok",
     "timestamp": 1675964283835,
     "user": {
      "displayName": "Maxim Gasilin",
      "userId": "15501735730920561422"
     },
     "user_tz": -180
    },
    "id": "9a2d7b74",
    "outputId": "a471e4ac-5777-4c0b-b329-83fb1f6e6ddd"
   },
   "outputs": [
    {
     "data": {
      "text/plain": [
       "\"<start> i can't go . <end>\""
      ]
     },
     "execution_count": 4,
     "metadata": {},
     "output_type": "execute_result"
    }
   ],
   "source": [
    "preprocess_sentence(\"I can't go.\")"
   ]
  },
  {
   "cell_type": "code",
   "execution_count": 5,
   "id": "f66d5850",
   "metadata": {
    "executionInfo": {
     "elapsed": 700,
     "status": "ok",
     "timestamp": 1675964290596,
     "user": {
      "displayName": "Maxim Gasilin",
      "userId": "15501735730920561422"
     },
     "user_tz": -180
    },
    "id": "f66d5850"
   },
   "outputs": [],
   "source": [
    "# 1. Remove the accents\n",
    "# 2. Clean the sentences\n",
    "# 3. Return word pairs in the format: [ENG, RUS]\n",
    "def create_dataset(path, num_examples):\n",
    "    lines = io.open(path, encoding='UTF-8').read().strip().split('\\n')\n",
    "\n",
    "    word_pairs = [[preprocess_sentence(w) for w in l.split('\\t')[:2]]  for l in lines[:num_examples]]\n",
    "\n",
    "    return zip(*word_pairs)"
   ]
  },
  {
   "cell_type": "code",
   "execution_count": 6,
   "id": "82273243",
   "metadata": {
    "colab": {
     "base_uri": "https://localhost:8080/"
    },
    "executionInfo": {
     "elapsed": 12690,
     "status": "ok",
     "timestamp": 1675964305542,
     "user": {
      "displayName": "Maxim Gasilin",
      "userId": "15501735730920561422"
     },
     "user_tz": -180
    },
    "id": "82273243",
    "outputId": "1b43206c-d639-4f54-987c-4102ccc46f30"
   },
   "outputs": [
    {
     "name": "stdout",
     "output_type": "stream",
     "text": [
      "<start> go . <end>\n",
      "<start> марш ! <end>\n"
     ]
    }
   ],
   "source": [
    "en, ru = create_dataset(path_to_file, None)\n",
    "print(en[0])\n",
    "print(ru[0])"
   ]
  },
  {
   "cell_type": "code",
   "execution_count": 7,
   "id": "ce7e3032",
   "metadata": {
    "colab": {
     "base_uri": "https://localhost:8080/"
    },
    "executionInfo": {
     "elapsed": 347,
     "status": "ok",
     "timestamp": 1675964309133,
     "user": {
      "displayName": "Maxim Gasilin",
      "userId": "15501735730920561422"
     },
     "user_tz": -180
    },
    "id": "ce7e3032",
    "outputId": "6459f18e-c0a1-4a2c-ae07-922cdfc534c0"
   },
   "outputs": [
    {
     "data": {
      "text/plain": [
       "('<start> run ! <end>',\n",
       " '<start> run . <end>',\n",
       " '<start> run . <end>',\n",
       " '<start> who ? <end>',\n",
       " '<start> wow ! <end>',\n",
       " '<start> wow ! <end>',\n",
       " '<start> wow ! <end>',\n",
       " '<start> wow ! <end>',\n",
       " '<start> wow ! <end>',\n",
       " '<start> wow ! <end>')"
      ]
     },
     "execution_count": 7,
     "metadata": {},
     "output_type": "execute_result"
    }
   ],
   "source": [
    "en[10:20]"
   ]
  },
  {
   "cell_type": "code",
   "execution_count": 8,
   "id": "9e5d7317",
   "metadata": {
    "colab": {
     "base_uri": "https://localhost:8080/"
    },
    "executionInfo": {
     "elapsed": 3,
     "status": "ok",
     "timestamp": 1675964310899,
     "user": {
      "displayName": "Maxim Gasilin",
      "userId": "15501735730920561422"
     },
     "user_tz": -180
    },
    "id": "9e5d7317",
    "outputId": "5ddfdee2-e161-4745-f59d-e3e596c33b16"
   },
   "outputs": [
    {
     "data": {
      "text/plain": [
       "('<start> бегите ! <end>',\n",
       " '<start> беги ! <end>',\n",
       " '<start> бегите ! <end>',\n",
       " '<start> кто ? <end>',\n",
       " '<start> вот это да ! <end>',\n",
       " '<start> круто ! <end>',\n",
       " '<start> здорово ! <end>',\n",
       " '<start> ух ты ! <end>',\n",
       " '<start> ого ! <end>',\n",
       " '<start> вах ! <end>')"
      ]
     },
     "execution_count": 8,
     "metadata": {},
     "output_type": "execute_result"
    }
   ],
   "source": [
    "ru[10:20]"
   ]
  },
  {
   "cell_type": "code",
   "execution_count": 9,
   "id": "1fb07c48",
   "metadata": {
    "executionInfo": {
     "elapsed": 2,
     "status": "ok",
     "timestamp": 1675964312863,
     "user": {
      "displayName": "Maxim Gasilin",
      "userId": "15501735730920561422"
     },
     "user_tz": -180
    },
    "id": "1fb07c48"
   },
   "outputs": [],
   "source": [
    "def tokenize(lang):\n",
    "    lang_tokenizer = tf.keras.preprocessing.text.Tokenizer(filters='')\n",
    "    lang_tokenizer.fit_on_texts(lang)\n",
    "\n",
    "    tensor = lang_tokenizer.texts_to_sequences(lang)\n",
    "\n",
    "    tensor = tf.keras.preprocessing.sequence.pad_sequences(tensor,\n",
    "                                                         padding='post')\n",
    "\n",
    "    return tensor, lang_tokenizer"
   ]
  },
  {
   "cell_type": "code",
   "execution_count": 10,
   "id": "19694829",
   "metadata": {
    "executionInfo": {
     "elapsed": 3,
     "status": "ok",
     "timestamp": 1675964315149,
     "user": {
      "displayName": "Maxim Gasilin",
      "userId": "15501735730920561422"
     },
     "user_tz": -180
    },
    "id": "19694829"
   },
   "outputs": [],
   "source": [
    "def load_dataset(path, num_examples=None):\n",
    "    # creating cleaned input, output pairs\n",
    "    targ_lang, inp_lang = create_dataset(path, num_examples)\n",
    "\n",
    "    input_tensor, inp_lang_tokenizer = tokenize(inp_lang)\n",
    "    target_tensor, targ_lang_tokenizer = tokenize(targ_lang)\n",
    "\n",
    "    return input_tensor, target_tensor, inp_lang_tokenizer, targ_lang_tokenizer"
   ]
  },
  {
   "cell_type": "code",
   "execution_count": 11,
   "id": "21c9868f",
   "metadata": {
    "colab": {
     "base_uri": "https://localhost:8080/"
    },
    "executionInfo": {
     "elapsed": 5,
     "status": "ok",
     "timestamp": 1675964317585,
     "user": {
      "displayName": "Maxim Gasilin",
      "userId": "15501735730920561422"
     },
     "user_tz": -180
    },
    "id": "21c9868f",
    "outputId": "29982eb1-9471-49a8-f310-c47036696fd5"
   },
   "outputs": [
    {
     "data": {
      "text/plain": [
       "(array([[ 1,  4,  3,  2,  0,  0],\n",
       "        [ 1,  5,  3,  2,  0,  0],\n",
       "        [ 1,  4,  3,  2,  0,  0],\n",
       "        [ 1,  6,  7,  2,  0,  0],\n",
       "        [ 1,  8,  9, 10,  3,  2],\n",
       "        [ 1, 11,  3,  2,  0,  0],\n",
       "        [ 1, 12,  3,  2,  0,  0],\n",
       "        [ 1, 13, 14,  3,  2,  0],\n",
       "        [ 1, 15,  3,  2,  0,  0],\n",
       "        [ 1, 16,  3,  2,  0,  0]], dtype=int32),\n",
       " <keras.preprocessing.text.Tokenizer at 0x7fe0a36c8580>)"
      ]
     },
     "execution_count": 11,
     "metadata": {},
     "output_type": "execute_result"
    }
   ],
   "source": [
    "tokenize(ru[10:20])"
   ]
  },
  {
   "cell_type": "markdown",
   "id": "0e62264d",
   "metadata": {
    "id": "0e62264d"
   },
   "source": [
    "### Limit the size of the dataset to experiment faster (optional)"
   ]
  },
  {
   "cell_type": "code",
   "execution_count": 12,
   "id": "eb364b14",
   "metadata": {
    "colab": {
     "base_uri": "https://localhost:8080/"
    },
    "executionInfo": {
     "elapsed": 5,
     "status": "ok",
     "timestamp": 1675964319771,
     "user": {
      "displayName": "Maxim Gasilin",
      "userId": "15501735730920561422"
     },
     "user_tz": -180
    },
    "id": "eb364b14",
    "outputId": "3fb87c9a-cf8f-418f-f737-8cfda4dd6867"
   },
   "outputs": [
    {
     "data": {
      "text/plain": [
       "(467119, 467119)"
      ]
     },
     "execution_count": 12,
     "metadata": {},
     "output_type": "execute_result"
    }
   ],
   "source": [
    "len(en), len(ru)"
   ]
  },
  {
   "cell_type": "code",
   "execution_count": 13,
   "id": "0ee5d9b4",
   "metadata": {
    "executionInfo": {
     "elapsed": 6517,
     "status": "ok",
     "timestamp": 1675964327954,
     "user": {
      "displayName": "Maxim Gasilin",
      "userId": "15501735730920561422"
     },
     "user_tz": -180
    },
    "id": "0ee5d9b4"
   },
   "outputs": [],
   "source": [
    "# Try experimenting with the size of that dataset\n",
    "num_examples = 100000\n",
    "input_tensor, target_tensor, inp_lang, targ_lang = load_dataset(path_to_file, num_examples)\n",
    "\n",
    "# Calculate max_length of the target tensors\n",
    "max_length_targ, max_length_inp = target_tensor.shape[1], input_tensor.shape[1]"
   ]
  },
  {
   "cell_type": "code",
   "execution_count": 14,
   "id": "d361bb1d",
   "metadata": {
    "colab": {
     "base_uri": "https://localhost:8080/"
    },
    "executionInfo": {
     "elapsed": 12,
     "status": "ok",
     "timestamp": 1675964327955,
     "user": {
      "displayName": "Maxim Gasilin",
      "userId": "15501735730920561422"
     },
     "user_tz": -180
    },
    "id": "d361bb1d",
    "outputId": "4f549b5d-dee8-4129-aaee-77f17f3ba500"
   },
   "outputs": [
    {
     "data": {
      "text/plain": [
       "(11, 15)"
      ]
     },
     "execution_count": 14,
     "metadata": {},
     "output_type": "execute_result"
    }
   ],
   "source": [
    "max_length_targ, max_length_inp"
   ]
  },
  {
   "cell_type": "code",
   "execution_count": 15,
   "id": "9feb5f67",
   "metadata": {
    "colab": {
     "base_uri": "https://localhost:8080/"
    },
    "executionInfo": {
     "elapsed": 10,
     "status": "ok",
     "timestamp": 1675964327955,
     "user": {
      "displayName": "Maxim Gasilin",
      "userId": "15501735730920561422"
     },
     "user_tz": -180
    },
    "id": "9feb5f67",
    "outputId": "b8107831-8639-4b97-8ca7-f146b02f18ce"
   },
   "outputs": [
    {
     "name": "stdout",
     "output_type": "stream",
     "text": [
      "80000 80000 20000 20000\n"
     ]
    }
   ],
   "source": [
    "# Creating training and validation sets using an 80-20 split\n",
    "input_tensor_train, input_tensor_val, target_tensor_train, target_tensor_val = train_test_split(input_tensor, target_tensor, test_size=0.2)\n",
    "\n",
    "# Show length\n",
    "print(len(input_tensor_train), len(target_tensor_train), len(input_tensor_val), len(target_tensor_val))"
   ]
  },
  {
   "cell_type": "code",
   "execution_count": 16,
   "id": "e9cd5257",
   "metadata": {
    "executionInfo": {
     "elapsed": 8,
     "status": "ok",
     "timestamp": 1675964327956,
     "user": {
      "displayName": "Maxim Gasilin",
      "userId": "15501735730920561422"
     },
     "user_tz": -180
    },
    "id": "e9cd5257"
   },
   "outputs": [],
   "source": [
    "def convert(lang, tensor):\n",
    "    for t in tensor:\n",
    "        if t!=0:\n",
    "            print (\"%d ----> %s\" % (t, lang.index_word[t]))"
   ]
  },
  {
   "cell_type": "code",
   "execution_count": 17,
   "id": "848e3cbd",
   "metadata": {
    "colab": {
     "base_uri": "https://localhost:8080/"
    },
    "executionInfo": {
     "elapsed": 8,
     "status": "ok",
     "timestamp": 1675964327956,
     "user": {
      "displayName": "Maxim Gasilin",
      "userId": "15501735730920561422"
     },
     "user_tz": -180
    },
    "id": "848e3cbd",
    "outputId": "c21f143c-88b1-41d5-edb5-85443a811b59"
   },
   "outputs": [
    {
     "name": "stdout",
     "output_type": "stream",
     "text": [
      "Input Language; index to word mapping\n",
      "1 ----> <start>\n",
      "2574 ----> спой\n",
      "42 ----> ещ\n",
      "161 ----> раз\n",
      "9 ----> ,\n",
      "6 ----> том\n",
      "3 ----> .\n",
      "2 ----> <end>\n",
      "\n",
      "Target Language; index to word mapping\n",
      "1 ----> <start>\n",
      "201 ----> sing\n",
      "10 ----> it\n",
      "119 ----> again\n",
      "40 ----> ,\n",
      "5 ----> tom\n",
      "3 ----> .\n",
      "2 ----> <end>\n"
     ]
    }
   ],
   "source": [
    "print (\"Input Language; index to word mapping\")\n",
    "convert(inp_lang, input_tensor_train[0])\n",
    "print ()\n",
    "print (\"Target Language; index to word mapping\")\n",
    "convert(targ_lang, target_tensor_train[0])"
   ]
  },
  {
   "cell_type": "markdown",
   "id": "4c195f7b",
   "metadata": {
    "id": "4c195f7b"
   },
   "source": [
    "### Create a tf.data dataset"
   ]
  },
  {
   "cell_type": "code",
   "execution_count": 18,
   "id": "c363aa5f",
   "metadata": {
    "executionInfo": {
     "elapsed": 330,
     "status": "ok",
     "timestamp": 1675964332759,
     "user": {
      "displayName": "Maxim Gasilin",
      "userId": "15501735730920561422"
     },
     "user_tz": -180
    },
    "id": "c363aa5f"
   },
   "outputs": [
    {
     "name": "stderr",
     "output_type": "stream",
     "text": [
      "2023-05-25 16:50:45.220661: I tensorflow/core/platform/cpu_feature_guard.cc:193] This TensorFlow binary is optimized with oneAPI Deep Neural Network Library (oneDNN) to use the following CPU instructions in performance-critical operations:  SSE4.1 SSE4.2 AVX AVX2 AVX_VNNI FMA\n",
      "To enable them in other operations, rebuild TensorFlow with the appropriate compiler flags.\n",
      "2023-05-25 16:50:45.222522: I tensorflow/core/common_runtime/process_util.cc:146] Creating new thread pool with default inter op setting: 2. Tune using inter_op_parallelism_threads for best performance.\n"
     ]
    }
   ],
   "source": [
    "BUFFER_SIZE = len(input_tensor_train)\n",
    "BATCH_SIZE = 64\n",
    "steps_per_epoch = len(input_tensor_train)//BATCH_SIZE\n",
    "embedding_dim = 300\n",
    "units = 1024\n",
    "vocab_inp_size = len(inp_lang.word_index)+1\n",
    "vocab_tar_size = len(targ_lang.word_index)+1\n",
    "\n",
    "dataset = tf.data.Dataset.from_tensor_slices((input_tensor_train, target_tensor_train)).shuffle(BUFFER_SIZE)\n",
    "dataset = dataset.batch(BATCH_SIZE, drop_remainder=True)"
   ]
  },
  {
   "cell_type": "code",
   "execution_count": 19,
   "id": "90f8ad0e",
   "metadata": {
    "colab": {
     "base_uri": "https://localhost:8080/"
    },
    "executionInfo": {
     "elapsed": 476,
     "status": "ok",
     "timestamp": 1675964334055,
     "user": {
      "displayName": "Maxim Gasilin",
      "userId": "15501735730920561422"
     },
     "user_tz": -180
    },
    "id": "90f8ad0e",
    "outputId": "881a28ff-d4ea-432b-cc96-3460d58cb767"
   },
   "outputs": [
    {
     "data": {
      "text/plain": [
       "(TensorShape([64, 15]), TensorShape([64, 11]))"
      ]
     },
     "execution_count": 19,
     "metadata": {},
     "output_type": "execute_result"
    }
   ],
   "source": [
    "example_input_batch, example_target_batch = next(iter(dataset))\n",
    "example_input_batch.shape, example_target_batch.shape"
   ]
  },
  {
   "cell_type": "code",
   "execution_count": 20,
   "id": "8bb406e5",
   "metadata": {
    "executionInfo": {
     "elapsed": 5,
     "status": "ok",
     "timestamp": 1675964334741,
     "user": {
      "displayName": "Maxim Gasilin",
      "userId": "15501735730920561422"
     },
     "user_tz": -180
    },
    "id": "8bb406e5"
   },
   "outputs": [],
   "source": [
    "class Encoder(tf.keras.Model):\n",
    "    def __init__(self, vocab_size, embedding_dim, enc_units, batch_sz):\n",
    "        super(Encoder, self).__init__()\n",
    "        self.batch_sz = batch_sz\n",
    "        self.enc_units = enc_units\n",
    "        self.embedding = tf.keras.layers.Embedding(vocab_size, embedding_dim)\n",
    "        self.gru = tf.keras.layers.GRU(self.enc_units,\n",
    "                                       return_sequences=False,\n",
    "                                       return_state=True,\n",
    "                                       recurrent_initializer='glorot_uniform')\n",
    "    \n",
    "    \n",
    "    def call(self, x, hidden):\n",
    "        x = self.embedding(x)\n",
    "        output, state = self.gru(x, initial_state = hidden)\n",
    "        return state\n",
    "\n",
    "    \n",
    "    def initialize_hidden_state(self):\n",
    "        return tf.zeros((self.batch_sz, self.enc_units))"
   ]
  },
  {
   "cell_type": "code",
   "execution_count": 21,
   "id": "d84c92a6",
   "metadata": {
    "colab": {
     "base_uri": "https://localhost:8080/"
    },
    "executionInfo": {
     "elapsed": 3651,
     "status": "ok",
     "timestamp": 1675964339698,
     "user": {
      "displayName": "Maxim Gasilin",
      "userId": "15501735730920561422"
     },
     "user_tz": -180
    },
    "id": "d84c92a6",
    "outputId": "28a5b856-f589-456e-95be-0b1d85b1edcb"
   },
   "outputs": [
    {
     "name": "stdout",
     "output_type": "stream",
     "text": [
      "Encoder Hidden state shape: (batch size, units) (64, 1024)\n"
     ]
    }
   ],
   "source": [
    "encoder = Encoder(vocab_inp_size, embedding_dim, units, BATCH_SIZE)\n",
    "\n",
    "# sample input\n",
    "sample_hidden = encoder.initialize_hidden_state()\n",
    "sample_hidden = encoder(example_input_batch, sample_hidden)\n",
    "# print ('Encoder output shape: (batch size, sequence length, units) {}'.format(sample_output.shape))\n",
    "print ('Encoder Hidden state shape: (batch size, units) {}'.format(sample_hidden.shape))"
   ]
  },
  {
   "cell_type": "code",
   "execution_count": 22,
   "id": "82af7f49",
   "metadata": {
    "executionInfo": {
     "elapsed": 434,
     "status": "ok",
     "timestamp": 1675964375883,
     "user": {
      "displayName": "Maxim Gasilin",
      "userId": "15501735730920561422"
     },
     "user_tz": -180
    },
    "id": "82af7f49"
   },
   "outputs": [],
   "source": [
    "class Decoder(tf.keras.Model):\n",
    "    def __init__(self, vocab_size, embedding_dim, dec_units, batch_sz):\n",
    "        super(Decoder, self).__init__()\n",
    "        self.batch_sz = batch_sz\n",
    "        self.dec_units = dec_units\n",
    "        self.embedding = tf.keras.layers.Embedding(vocab_size, embedding_dim)\n",
    "        self.gru = tf.keras.layers.GRU(self.dec_units,\n",
    "                                       return_sequences=True,\n",
    "                                       return_state=True,\n",
    "                                       recurrent_initializer='glorot_uniform')\n",
    "        self.fc = tf.keras.layers.Dense(vocab_size)\n",
    "\n",
    "\n",
    "    \n",
    "    def call(self, x, hidden):\n",
    "        # enc_output shape == (batch_size, max_length, hidden_size)\n",
    "        \n",
    "        # x shape after passing through embedding == (batch_size, 1, embedding_dim)\n",
    "        x = self.embedding(x)\n",
    "        \n",
    "        # x shape after concatenation == (batch_size, 1, embedding_dim + hidden_size)\n",
    "        \n",
    "        # passing the concatenated vector to the GRU\n",
    "        output, state = self.gru(x, initial_state=hidden)\n",
    "        \n",
    "        # output shape == (batch_size * 1, hidden_size)\n",
    "        output = tf.reshape(output, (-1, output.shape[2]))\n",
    "        \n",
    "        # output shape == (batch_size, vocab)\n",
    "        x = self.fc(output)\n",
    "        \n",
    "        return x, state"
   ]
  },
  {
   "cell_type": "code",
   "execution_count": 23,
   "id": "ed11b54b",
   "metadata": {
    "executionInfo": {
     "elapsed": 4,
     "status": "ok",
     "timestamp": 1675964379262,
     "user": {
      "displayName": "Maxim Gasilin",
      "userId": "15501735730920561422"
     },
     "user_tz": -180
    },
    "id": "ed11b54b"
   },
   "outputs": [],
   "source": [
    "decoder = Decoder(vocab_tar_size, embedding_dim, units, BATCH_SIZE)\n",
    "\n",
    "decoder_sample_x, decoder_sample_h = decoder(tf.random.uniform((BATCH_SIZE, 1)),\n",
    "                                             sample_hidden)"
   ]
  },
  {
   "cell_type": "code",
   "execution_count": 24,
   "id": "3bddcbda",
   "metadata": {
    "colab": {
     "base_uri": "https://localhost:8080/"
    },
    "executionInfo": {
     "elapsed": 3,
     "status": "ok",
     "timestamp": 1675964379589,
     "user": {
      "displayName": "Maxim Gasilin",
      "userId": "15501735730920561422"
     },
     "user_tz": -180
    },
    "id": "3bddcbda",
    "outputId": "b918a833-2826-4313-ab0c-e660aa4b4002"
   },
   "outputs": [
    {
     "data": {
      "text/plain": [
       "TensorShape([64, 7362])"
      ]
     },
     "execution_count": 24,
     "metadata": {},
     "output_type": "execute_result"
    }
   ],
   "source": [
    "decoder_sample_x.shape"
   ]
  },
  {
   "cell_type": "code",
   "execution_count": 25,
   "id": "a16bde06",
   "metadata": {
    "colab": {
     "base_uri": "https://localhost:8080/"
    },
    "executionInfo": {
     "elapsed": 5,
     "status": "ok",
     "timestamp": 1675964381162,
     "user": {
      "displayName": "Maxim Gasilin",
      "userId": "15501735730920561422"
     },
     "user_tz": -180
    },
    "id": "a16bde06",
    "outputId": "b38612e8-ee85-4902-c14c-ad54c8388c96"
   },
   "outputs": [
    {
     "data": {
      "text/plain": [
       "TensorShape([64, 1024])"
      ]
     },
     "execution_count": 25,
     "metadata": {},
     "output_type": "execute_result"
    }
   ],
   "source": [
    "decoder_sample_h.shape"
   ]
  },
  {
   "cell_type": "markdown",
   "id": "a30d0a22",
   "metadata": {
    "id": "a30d0a22"
   },
   "source": [
    "### Define the optimizer and the loss function"
   ]
  },
  {
   "cell_type": "code",
   "execution_count": 26,
   "id": "bba1d414",
   "metadata": {
    "executionInfo": {
     "elapsed": 4,
     "status": "ok",
     "timestamp": 1675964382625,
     "user": {
      "displayName": "Maxim Gasilin",
      "userId": "15501735730920561422"
     },
     "user_tz": -180
    },
    "id": "bba1d414"
   },
   "outputs": [],
   "source": [
    "optimizer = tf.keras.optimizers.Adam()\n",
    "\n",
    "loss_object = tf.keras.losses.SparseCategoricalCrossentropy(\n",
    "    from_logits=True, reduction='none')\n",
    "\n",
    "def loss_function(real, pred):\n",
    "    mask = tf.math.logical_not(tf.math.equal(real, 0))\n",
    "    loss_ = loss_object(real, pred)\n",
    "\n",
    "    mask = tf.cast(mask, dtype=loss_.dtype)\n",
    "    loss_ *= mask\n",
    "\n",
    "    return tf.reduce_mean(loss_)"
   ]
  },
  {
   "cell_type": "markdown",
   "id": "fae8c554",
   "metadata": {
    "id": "fae8c554"
   },
   "source": [
    "### Checkpoints (Object-based saving)"
   ]
  },
  {
   "cell_type": "code",
   "execution_count": 27,
   "id": "9404764e",
   "metadata": {
    "executionInfo": {
     "elapsed": 327,
     "status": "ok",
     "timestamp": 1675964387474,
     "user": {
      "displayName": "Maxim Gasilin",
      "userId": "15501735730920561422"
     },
     "user_tz": -180
    },
    "id": "9404764e"
   },
   "outputs": [],
   "source": [
    "checkpoint_dir = './training_nmt_checkpoints'\n",
    "\n",
    "checkpoint_prefix = os.path.join(checkpoint_dir, \"ckpt\")\n",
    "\n",
    "checkpoint = tf.train.Checkpoint(optimizer=optimizer,\n",
    "                                 encoder=encoder,\n",
    "                                 decoder=decoder)"
   ]
  },
  {
   "cell_type": "code",
   "execution_count": 28,
   "id": "8c9b0c70",
   "metadata": {
    "executionInfo": {
     "elapsed": 2,
     "status": "ok",
     "timestamp": 1675964389551,
     "user": {
      "displayName": "Maxim Gasilin",
      "userId": "15501735730920561422"
     },
     "user_tz": -180
    },
    "id": "8c9b0c70"
   },
   "outputs": [],
   "source": [
    "@tf.function\n",
    "def train_step(inp, targ, enc_hidden):\n",
    "    loss = 0\n",
    "\n",
    "    with tf.GradientTape() as tape:\n",
    "        enc_hidden = encoder(inp, enc_hidden)\n",
    "        \n",
    "        dec_hidden = enc_hidden\n",
    "        \n",
    "        dec_input = tf.expand_dims([targ_lang.word_index['<start>']] * BATCH_SIZE, 1)\n",
    "        \n",
    "        # Teacher forcing - feeding the target as the next input\n",
    "        for t in range(1, targ.shape[1]):\n",
    "            # passing enc_output to the decoder\n",
    "            predictions, dec_hidden = decoder(dec_input, dec_hidden)\n",
    "            \n",
    "            loss += loss_function(targ[:, t], predictions)\n",
    "            \n",
    "            # using teacher forcing\n",
    "            dec_input = tf.expand_dims(targ[:, t], 1)\n",
    "\n",
    "    batch_loss = (loss / int(targ.shape[1]))\n",
    "\n",
    "    variables = encoder.trainable_variables + decoder.trainable_variables\n",
    "\n",
    "    gradients = tape.gradient(loss, variables)\n",
    "\n",
    "    optimizer.apply_gradients(zip(gradients, variables))\n",
    "\n",
    "    return batch_loss"
   ]
  },
  {
   "cell_type": "code",
   "execution_count": 29,
   "id": "80ad3271",
   "metadata": {
    "colab": {
     "base_uri": "https://localhost:8080/"
    },
    "executionInfo": {
     "elapsed": 2859289,
     "status": "ok",
     "timestamp": 1675967250549,
     "user": {
      "displayName": "Maxim Gasilin",
      "userId": "15501735730920561422"
     },
     "user_tz": -180
    },
    "id": "80ad3271",
    "outputId": "7e94c6ca-142c-4286-8327-8bbbd998d6bc"
   },
   "outputs": [
    {
     "name": "stdout",
     "output_type": "stream",
     "text": [
      "Epoch 1 Batch 0 Loss 4.6162\n",
      "Epoch 1 Batch 100 Loss 1.9999\n",
      "Epoch 1 Batch 200 Loss 1.8821\n",
      "Epoch 1 Batch 300 Loss 1.6433\n",
      "Epoch 1 Batch 400 Loss 1.4695\n",
      "Epoch 1 Batch 500 Loss 1.4016\n",
      "Epoch 1 Batch 600 Loss 1.4005\n",
      "Epoch 1 Batch 700 Loss 1.2647\n",
      "Epoch 1 Batch 800 Loss 1.1403\n",
      "Epoch 1 Batch 900 Loss 1.0939\n",
      "Epoch 1 Batch 1000 Loss 1.1142\n",
      "Epoch 1 Batch 1100 Loss 1.0917\n",
      "Epoch 1 Batch 1200 Loss 0.9673\n",
      "Epoch 1 Loss 1.4066\n",
      "Time taken for 1 epoch 1228.2949175834656 sec\n",
      "\n",
      "Epoch 2 Batch 0 Loss 0.7831\n",
      "Epoch 2 Batch 100 Loss 0.8982\n",
      "Epoch 2 Batch 200 Loss 0.7572\n",
      "Epoch 2 Batch 300 Loss 0.6892\n",
      "Epoch 2 Batch 400 Loss 0.6803\n",
      "Epoch 2 Batch 500 Loss 0.6879\n",
      "Epoch 2 Batch 600 Loss 0.6909\n",
      "Epoch 2 Batch 700 Loss 0.6555\n",
      "Epoch 2 Batch 800 Loss 0.6674\n",
      "Epoch 2 Batch 900 Loss 0.6513\n",
      "Epoch 2 Batch 1000 Loss 0.5763\n",
      "Epoch 2 Batch 1100 Loss 0.6338\n",
      "Epoch 2 Batch 1200 Loss 0.6240\n",
      "Epoch 2 Loss 0.6932\n",
      "Time taken for 1 epoch 972.8243842124939 sec\n",
      "\n",
      "Epoch 3 Batch 0 Loss 0.3667\n",
      "Epoch 3 Batch 100 Loss 0.3907\n",
      "Epoch 3 Batch 200 Loss 0.4344\n",
      "Epoch 3 Batch 300 Loss 0.4403\n",
      "Epoch 3 Batch 400 Loss 0.3641\n",
      "Epoch 3 Batch 500 Loss 0.3662\n",
      "Epoch 3 Batch 600 Loss 0.3631\n",
      "Epoch 3 Batch 700 Loss 0.3683\n",
      "Epoch 3 Batch 800 Loss 0.4205\n",
      "Epoch 3 Batch 900 Loss 0.3278\n",
      "Epoch 3 Batch 1000 Loss 0.3717\n",
      "Epoch 3 Batch 1100 Loss 0.3831\n",
      "Epoch 3 Batch 1200 Loss 0.3854\n",
      "Epoch 3 Loss 0.3734\n",
      "Time taken for 1 epoch 618.5753648281097 sec\n",
      "\n",
      "Epoch 4 Batch 0 Loss 0.2127\n",
      "Epoch 4 Batch 100 Loss 0.1941\n",
      "Epoch 4 Batch 200 Loss 0.1915\n",
      "Epoch 4 Batch 300 Loss 0.2305\n",
      "Epoch 4 Batch 400 Loss 0.2308\n",
      "Epoch 4 Batch 500 Loss 0.2061\n",
      "Epoch 4 Batch 600 Loss 0.2408\n",
      "Epoch 4 Batch 700 Loss 0.2182\n",
      "Epoch 4 Batch 800 Loss 0.2266\n",
      "Epoch 4 Batch 900 Loss 0.2061\n",
      "Epoch 4 Batch 1000 Loss 0.2326\n",
      "Epoch 4 Batch 1100 Loss 0.2339\n",
      "Epoch 4 Batch 1200 Loss 0.1917\n",
      "Epoch 4 Loss 0.2223\n",
      "Time taken for 1 epoch 634.9693412780762 sec\n",
      "\n",
      "Epoch 5 Batch 0 Loss 0.1336\n",
      "Epoch 5 Batch 100 Loss 0.1289\n",
      "Epoch 5 Batch 200 Loss 0.1598\n",
      "Epoch 5 Batch 300 Loss 0.1396\n",
      "Epoch 5 Batch 400 Loss 0.1464\n",
      "Epoch 5 Batch 500 Loss 0.1686\n",
      "Epoch 5 Batch 600 Loss 0.1562\n",
      "Epoch 5 Batch 700 Loss 0.1413\n",
      "Epoch 5 Batch 800 Loss 0.1583\n",
      "Epoch 5 Batch 900 Loss 0.1236\n",
      "Epoch 5 Batch 1000 Loss 0.1750\n",
      "Epoch 5 Batch 1100 Loss 0.1821\n",
      "Epoch 5 Batch 1200 Loss 0.1233\n",
      "Epoch 5 Loss 0.1511\n",
      "Time taken for 1 epoch 643.062479019165 sec\n",
      "\n",
      "Epoch 6 Batch 0 Loss 0.1579\n",
      "Epoch 6 Batch 100 Loss 0.1009\n",
      "Epoch 6 Batch 200 Loss 0.1304\n",
      "Epoch 6 Batch 300 Loss 0.1370\n",
      "Epoch 6 Batch 400 Loss 0.0730\n",
      "Epoch 6 Batch 500 Loss 0.0988\n",
      "Epoch 6 Batch 600 Loss 0.1433\n",
      "Epoch 6 Batch 700 Loss 0.1435\n",
      "Epoch 6 Batch 800 Loss 0.1103\n",
      "Epoch 6 Batch 900 Loss 0.1253\n",
      "Epoch 6 Batch 1000 Loss 0.1103\n",
      "Epoch 6 Batch 1100 Loss 0.1702\n",
      "Epoch 6 Batch 1200 Loss 0.1452\n",
      "Epoch 6 Loss 0.1172\n",
      "Time taken for 1 epoch 651.9965796470642 sec\n",
      "\n",
      "Epoch 7 Batch 0 Loss 0.1130\n",
      "Epoch 7 Batch 100 Loss 0.1054\n",
      "Epoch 7 Batch 200 Loss 0.0769\n",
      "Epoch 7 Batch 300 Loss 0.0616\n",
      "Epoch 7 Batch 400 Loss 0.1085\n",
      "Epoch 7 Batch 500 Loss 0.0849\n",
      "Epoch 7 Batch 600 Loss 0.0993\n",
      "Epoch 7 Batch 700 Loss 0.1217\n",
      "Epoch 7 Batch 800 Loss 0.1030\n",
      "Epoch 7 Batch 900 Loss 0.1305\n",
      "Epoch 7 Batch 1000 Loss 0.1013\n",
      "Epoch 7 Batch 1100 Loss 0.1451\n",
      "Epoch 7 Batch 1200 Loss 0.1082\n",
      "Epoch 7 Loss 0.1000\n",
      "Time taken for 1 epoch 621.8053562641144 sec\n",
      "\n",
      "Epoch 8 Batch 0 Loss 0.1138\n",
      "Epoch 8 Batch 100 Loss 0.0707\n",
      "Epoch 8 Batch 200 Loss 0.1123\n",
      "Epoch 8 Batch 300 Loss 0.0902\n",
      "Epoch 8 Batch 400 Loss 0.0863\n",
      "Epoch 8 Batch 500 Loss 0.0918\n",
      "Epoch 8 Batch 600 Loss 0.0998\n",
      "Epoch 8 Batch 700 Loss 0.1082\n",
      "Epoch 8 Batch 800 Loss 0.0878\n",
      "Epoch 8 Batch 900 Loss 0.0873\n",
      "Epoch 8 Batch 1000 Loss 0.1152\n",
      "Epoch 8 Batch 1100 Loss 0.0970\n",
      "Epoch 8 Batch 1200 Loss 0.0949\n",
      "Epoch 8 Loss 0.0903\n",
      "Time taken for 1 epoch 625.6470828056335 sec\n",
      "\n",
      "Epoch 9 Batch 0 Loss 0.0747\n",
      "Epoch 9 Batch 100 Loss 0.0725\n",
      "Epoch 9 Batch 200 Loss 0.1120\n",
      "Epoch 9 Batch 300 Loss 0.0382\n",
      "Epoch 9 Batch 400 Loss 0.0923\n",
      "Epoch 9 Batch 500 Loss 0.0592\n",
      "Epoch 9 Batch 600 Loss 0.0861\n",
      "Epoch 9 Batch 700 Loss 0.1254\n",
      "Epoch 9 Batch 800 Loss 0.0789\n",
      "Epoch 9 Batch 900 Loss 0.1040\n",
      "Epoch 9 Batch 1000 Loss 0.1011\n",
      "Epoch 9 Batch 1100 Loss 0.1306\n",
      "Epoch 9 Batch 1200 Loss 0.1157\n",
      "Epoch 9 Loss 0.0834\n",
      "Time taken for 1 epoch 625.4937965869904 sec\n",
      "\n",
      "Epoch 10 Batch 0 Loss 0.1141\n",
      "Epoch 10 Batch 100 Loss 0.0835\n",
      "Epoch 10 Batch 200 Loss 0.0676\n",
      "Epoch 10 Batch 300 Loss 0.0595\n",
      "Epoch 10 Batch 400 Loss 0.0937\n",
      "Epoch 10 Batch 500 Loss 0.0601\n",
      "Epoch 10 Batch 600 Loss 0.0978\n",
      "Epoch 10 Batch 700 Loss 0.0867\n",
      "Epoch 10 Batch 800 Loss 0.0566\n",
      "Epoch 10 Batch 900 Loss 0.0935\n",
      "Epoch 10 Batch 1000 Loss 0.0951\n",
      "Epoch 10 Batch 1100 Loss 0.0866\n",
      "Epoch 10 Batch 1200 Loss 0.0874\n",
      "Epoch 10 Loss 0.0799\n",
      "Time taken for 1 epoch 652.3311958312988 sec\n",
      "\n",
      "Epoch 11 Batch 0 Loss 0.0485\n",
      "Epoch 11 Batch 100 Loss 0.0469\n",
      "Epoch 11 Batch 200 Loss 0.0438\n",
      "Epoch 11 Batch 300 Loss 0.0523\n",
      "Epoch 11 Batch 400 Loss 0.0406\n",
      "Epoch 11 Batch 500 Loss 0.0495\n",
      "Epoch 11 Batch 600 Loss 0.0632\n",
      "Epoch 11 Batch 700 Loss 0.0780\n",
      "Epoch 11 Batch 800 Loss 0.0753\n",
      "Epoch 11 Batch 900 Loss 0.0876\n",
      "Epoch 11 Batch 1000 Loss 0.0585\n",
      "Epoch 11 Batch 1100 Loss 0.1268\n",
      "Epoch 11 Batch 1200 Loss 0.0886\n",
      "Epoch 11 Loss 0.0753\n",
      "Time taken for 1 epoch 609.7732837200165 sec\n",
      "\n",
      "Epoch 12 Batch 0 Loss 0.0865\n",
      "Epoch 12 Batch 100 Loss 0.0805\n",
      "Epoch 12 Batch 200 Loss 0.0671\n",
      "Epoch 12 Batch 300 Loss 0.0436\n",
      "Epoch 12 Batch 400 Loss 0.0825\n",
      "Epoch 12 Batch 500 Loss 0.0682\n",
      "Epoch 12 Batch 600 Loss 0.0654\n",
      "Epoch 12 Batch 700 Loss 0.0699\n",
      "Epoch 12 Batch 800 Loss 0.0439\n",
      "Epoch 12 Batch 900 Loss 0.0941\n",
      "Epoch 12 Batch 1000 Loss 0.1278\n",
      "Epoch 12 Batch 1100 Loss 0.0633\n",
      "Epoch 12 Batch 1200 Loss 0.1095\n",
      "Epoch 12 Loss 0.0724\n",
      "Time taken for 1 epoch 613.3079519271851 sec\n",
      "\n",
      "Epoch 13 Batch 0 Loss 0.0661\n",
      "Epoch 13 Batch 100 Loss 0.0594\n",
      "Epoch 13 Batch 200 Loss 0.0322\n",
      "Epoch 13 Batch 300 Loss 0.0419\n",
      "Epoch 13 Batch 400 Loss 0.0853\n",
      "Epoch 13 Batch 500 Loss 0.0463\n",
      "Epoch 13 Batch 600 Loss 0.0721\n",
      "Epoch 13 Batch 700 Loss 0.0870\n",
      "Epoch 13 Batch 800 Loss 0.0591\n",
      "Epoch 13 Batch 900 Loss 0.1163\n",
      "Epoch 13 Batch 1000 Loss 0.0608\n",
      "Epoch 13 Batch 1100 Loss 0.1140\n",
      "Epoch 13 Batch 1200 Loss 0.0927\n",
      "Epoch 13 Loss 0.0705\n",
      "Time taken for 1 epoch 593.4108371734619 sec\n",
      "\n",
      "Epoch 14 Batch 0 Loss 0.0965\n",
      "Epoch 14 Batch 100 Loss 0.0714\n",
      "Epoch 14 Batch 200 Loss 0.0718\n",
      "Epoch 14 Batch 300 Loss 0.0831\n",
      "Epoch 14 Batch 400 Loss 0.0690\n",
      "Epoch 14 Batch 500 Loss 0.0967\n",
      "Epoch 14 Batch 600 Loss 0.0750\n",
      "Epoch 14 Batch 700 Loss 0.0510\n",
      "Epoch 14 Batch 800 Loss 0.0551\n",
      "Epoch 14 Batch 900 Loss 0.1144\n",
      "Epoch 14 Batch 1000 Loss 0.1003\n",
      "Epoch 14 Batch 1100 Loss 0.1018\n",
      "Epoch 14 Batch 1200 Loss 0.0593\n",
      "Epoch 14 Loss 0.0681\n",
      "Time taken for 1 epoch 639.2622036933899 sec\n",
      "\n",
      "Epoch 15 Batch 0 Loss 0.0611\n",
      "Epoch 15 Batch 100 Loss 0.0465\n",
      "Epoch 15 Batch 200 Loss 0.0421\n",
      "Epoch 15 Batch 300 Loss 0.0654\n",
      "Epoch 15 Batch 400 Loss 0.0922\n",
      "Epoch 15 Batch 500 Loss 0.1122\n",
      "Epoch 15 Batch 600 Loss 0.0941\n",
      "Epoch 15 Batch 700 Loss 0.0482\n",
      "Epoch 15 Batch 800 Loss 0.0568\n",
      "Epoch 15 Batch 900 Loss 0.0811\n",
      "Epoch 15 Batch 1000 Loss 0.0872\n",
      "Epoch 15 Batch 1100 Loss 0.0368\n",
      "Epoch 15 Batch 1200 Loss 0.0919\n",
      "Epoch 15 Loss 0.0666\n",
      "Time taken for 1 epoch 657.0392067432404 sec\n",
      "\n",
      "Epoch 16 Batch 0 Loss 0.0292\n",
      "Epoch 16 Batch 100 Loss 0.0858\n",
      "Epoch 16 Batch 200 Loss 0.0755\n",
      "Epoch 16 Batch 300 Loss 0.0435\n",
      "Epoch 16 Batch 400 Loss 0.0600\n",
      "Epoch 16 Batch 500 Loss 0.0692\n",
      "Epoch 16 Batch 600 Loss 0.0533\n",
      "Epoch 16 Batch 700 Loss 0.0489\n",
      "Epoch 16 Batch 800 Loss 0.0455\n",
      "Epoch 16 Batch 900 Loss 0.0900\n",
      "Epoch 16 Batch 1000 Loss 0.0298\n",
      "Epoch 16 Batch 1100 Loss 0.0852\n",
      "Epoch 16 Batch 1200 Loss 0.1047\n",
      "Epoch 16 Loss 0.0645\n",
      "Time taken for 1 epoch 620.3445248603821 sec\n",
      "\n",
      "Epoch 17 Batch 0 Loss 0.0487\n",
      "Epoch 17 Batch 100 Loss 0.0700\n",
      "Epoch 17 Batch 200 Loss 0.0408\n",
      "Epoch 17 Batch 300 Loss 0.1038\n",
      "Epoch 17 Batch 400 Loss 0.0398\n",
      "Epoch 17 Batch 500 Loss 0.0593\n",
      "Epoch 17 Batch 600 Loss 0.0781\n",
      "Epoch 17 Batch 700 Loss 0.0647\n",
      "Epoch 17 Batch 800 Loss 0.1273\n",
      "Epoch 17 Batch 900 Loss 0.0550\n",
      "Epoch 17 Batch 1000 Loss 0.0643\n",
      "Epoch 17 Batch 1100 Loss 0.0588\n",
      "Epoch 17 Batch 1200 Loss 0.0878\n",
      "Epoch 17 Loss 0.0634\n",
      "Time taken for 1 epoch 602.451376914978 sec\n",
      "\n",
      "Epoch 18 Batch 0 Loss 0.0456\n",
      "Epoch 18 Batch 100 Loss 0.0370\n",
      "Epoch 18 Batch 200 Loss 0.0856\n",
      "Epoch 18 Batch 300 Loss 0.0467\n",
      "Epoch 18 Batch 400 Loss 0.0674\n",
      "Epoch 18 Batch 500 Loss 0.0599\n",
      "Epoch 18 Batch 600 Loss 0.0828\n",
      "Epoch 18 Batch 700 Loss 0.0510\n",
      "Epoch 18 Batch 800 Loss 0.0631\n",
      "Epoch 18 Batch 900 Loss 0.0353\n",
      "Epoch 18 Batch 1000 Loss 0.0684\n",
      "Epoch 18 Batch 1100 Loss 0.0859\n",
      "Epoch 18 Batch 1200 Loss 0.0733\n",
      "Epoch 18 Loss 0.0625\n",
      "Time taken for 1 epoch 580.8420035839081 sec\n",
      "\n",
      "Epoch 19 Batch 0 Loss 0.0662\n",
      "Epoch 19 Batch 100 Loss 0.0360\n",
      "Epoch 19 Batch 200 Loss 0.0396\n",
      "Epoch 19 Batch 300 Loss 0.0641\n",
      "Epoch 19 Batch 400 Loss 0.0561\n",
      "Epoch 19 Batch 500 Loss 0.0361\n",
      "Epoch 19 Batch 600 Loss 0.0701\n",
      "Epoch 19 Batch 700 Loss 0.0390\n",
      "Epoch 19 Batch 800 Loss 0.0689\n",
      "Epoch 19 Batch 900 Loss 0.0715\n",
      "Epoch 19 Batch 1000 Loss 0.0679\n",
      "Epoch 19 Batch 1100 Loss 0.0709\n",
      "Epoch 19 Batch 1200 Loss 0.0925\n",
      "Epoch 19 Loss 0.0608\n",
      "Time taken for 1 epoch 575.6473608016968 sec\n",
      "\n",
      "Epoch 20 Batch 0 Loss 0.0863\n",
      "Epoch 20 Batch 100 Loss 0.0858\n",
      "Epoch 20 Batch 200 Loss 0.1031\n",
      "Epoch 20 Batch 300 Loss 0.0733\n",
      "Epoch 20 Batch 400 Loss 0.0587\n",
      "Epoch 20 Batch 500 Loss 0.0478\n",
      "Epoch 20 Batch 600 Loss 0.1186\n",
      "Epoch 20 Batch 700 Loss 0.0368\n",
      "Epoch 20 Batch 800 Loss 0.0622\n",
      "Epoch 20 Batch 900 Loss 0.0631\n",
      "Epoch 20 Batch 1000 Loss 0.0638\n",
      "Epoch 20 Batch 1100 Loss 0.0697\n",
      "Epoch 20 Batch 1200 Loss 0.0878\n",
      "Epoch 20 Loss 0.0599\n",
      "Time taken for 1 epoch 581.9061145782471 sec\n",
      "\n",
      "Epoch 21 Batch 0 Loss 0.0332\n",
      "Epoch 21 Batch 100 Loss 0.0934\n",
      "Epoch 21 Batch 200 Loss 0.0544\n",
      "Epoch 21 Batch 300 Loss 0.0290\n",
      "Epoch 21 Batch 400 Loss 0.0255\n",
      "Epoch 21 Batch 500 Loss 0.0680\n",
      "Epoch 21 Batch 600 Loss 0.0365\n",
      "Epoch 21 Batch 700 Loss 0.0856\n",
      "Epoch 21 Batch 800 Loss 0.0413\n",
      "Epoch 21 Batch 900 Loss 0.0656\n",
      "Epoch 21 Batch 1000 Loss 0.0720\n",
      "Epoch 21 Batch 1100 Loss 0.0616\n",
      "Epoch 21 Batch 1200 Loss 0.0523\n",
      "Epoch 21 Loss 0.0587\n",
      "Time taken for 1 epoch 629.4399955272675 sec\n",
      "\n",
      "Epoch 22 Batch 0 Loss 0.0550\n",
      "Epoch 22 Batch 100 Loss 0.1005\n",
      "Epoch 22 Batch 200 Loss 0.0632\n",
      "Epoch 22 Batch 300 Loss 0.0519\n",
      "Epoch 22 Batch 400 Loss 0.0777\n",
      "Epoch 22 Batch 500 Loss 0.0847\n",
      "Epoch 22 Batch 600 Loss 0.0757\n",
      "Epoch 22 Batch 700 Loss 0.0818\n",
      "Epoch 22 Batch 800 Loss 0.0639\n",
      "Epoch 22 Batch 900 Loss 0.0882\n",
      "Epoch 22 Batch 1000 Loss 0.0792\n",
      "Epoch 22 Batch 1100 Loss 0.0786\n",
      "Epoch 22 Batch 1200 Loss 0.0732\n",
      "Epoch 22 Loss 0.0578\n",
      "Time taken for 1 epoch 582.7026264667511 sec\n",
      "\n",
      "Epoch 23 Batch 0 Loss 0.0242\n",
      "Epoch 23 Batch 100 Loss 0.0280\n",
      "Epoch 23 Batch 200 Loss 0.0990\n",
      "Epoch 23 Batch 300 Loss 0.0447\n",
      "Epoch 23 Batch 400 Loss 0.0373\n",
      "Epoch 23 Batch 500 Loss 0.0940\n",
      "Epoch 23 Batch 600 Loss 0.0639\n",
      "Epoch 23 Batch 700 Loss 0.0431\n",
      "Epoch 23 Batch 800 Loss 0.0548\n",
      "Epoch 23 Batch 900 Loss 0.0481\n",
      "Epoch 23 Batch 1000 Loss 0.0570\n",
      "Epoch 23 Batch 1100 Loss 0.0470\n",
      "Epoch 23 Batch 1200 Loss 0.0759\n",
      "Epoch 23 Loss 0.0572\n",
      "Time taken for 1 epoch 604.263420343399 sec\n",
      "\n",
      "Epoch 24 Batch 0 Loss 0.0650\n",
      "Epoch 24 Batch 100 Loss 0.0313\n",
      "Epoch 24 Batch 200 Loss 0.0308\n",
      "Epoch 24 Batch 300 Loss 0.0348\n",
      "Epoch 24 Batch 400 Loss 0.0420\n",
      "Epoch 24 Batch 500 Loss 0.0623\n",
      "Epoch 24 Batch 600 Loss 0.0501\n",
      "Epoch 24 Batch 700 Loss 0.0500\n",
      "Epoch 24 Batch 800 Loss 0.0386\n",
      "Epoch 24 Batch 900 Loss 0.0872\n",
      "Epoch 24 Batch 1000 Loss 0.0797\n",
      "Epoch 24 Batch 1100 Loss 0.0596\n",
      "Epoch 24 Batch 1200 Loss 0.0476\n",
      "Epoch 24 Loss 0.0558\n",
      "Time taken for 1 epoch 586.1535394191742 sec\n",
      "\n",
      "Epoch 25 Batch 0 Loss 0.0281\n",
      "Epoch 25 Batch 100 Loss 0.0458\n",
      "Epoch 25 Batch 200 Loss 0.0372\n",
      "Epoch 25 Batch 300 Loss 0.0442\n",
      "Epoch 25 Batch 400 Loss 0.0501\n",
      "Epoch 25 Batch 500 Loss 0.0345\n",
      "Epoch 25 Batch 600 Loss 0.0906\n",
      "Epoch 25 Batch 700 Loss 0.0636\n",
      "Epoch 25 Batch 800 Loss 0.0524\n",
      "Epoch 25 Batch 900 Loss 0.0674\n",
      "Epoch 25 Batch 1000 Loss 0.1063\n",
      "Epoch 25 Batch 1100 Loss 0.0325\n",
      "Epoch 25 Batch 1200 Loss 0.0585\n",
      "Epoch 25 Loss 0.0549\n",
      "Time taken for 1 epoch 605.1079375743866 sec\n",
      "\n",
      "Epoch 26 Batch 0 Loss 0.0280\n",
      "Epoch 26 Batch 100 Loss 0.0558\n",
      "Epoch 26 Batch 200 Loss 0.0423\n",
      "Epoch 26 Batch 300 Loss 0.0385\n",
      "Epoch 26 Batch 400 Loss 0.0468\n",
      "Epoch 26 Batch 500 Loss 0.0792\n",
      "Epoch 26 Batch 600 Loss 0.0433\n",
      "Epoch 26 Batch 700 Loss 0.0666\n",
      "Epoch 26 Batch 800 Loss 0.0595\n",
      "Epoch 26 Batch 900 Loss 0.0331\n",
      "Epoch 26 Batch 1000 Loss 0.0563\n",
      "Epoch 26 Batch 1100 Loss 0.0578\n",
      "Epoch 26 Batch 1200 Loss 0.0838\n",
      "Epoch 26 Loss 0.0531\n",
      "Time taken for 1 epoch 586.912271976471 sec\n",
      "\n",
      "Epoch 27 Batch 0 Loss 0.0685\n",
      "Epoch 27 Batch 100 Loss 0.0223\n",
      "Epoch 27 Batch 200 Loss 0.0741\n",
      "Epoch 27 Batch 300 Loss 0.0252\n",
      "Epoch 27 Batch 400 Loss 0.0897\n",
      "Epoch 27 Batch 500 Loss 0.0476\n",
      "Epoch 27 Batch 600 Loss 0.0581\n",
      "Epoch 27 Batch 700 Loss 0.0595\n",
      "Epoch 27 Batch 800 Loss 0.0881\n",
      "Epoch 27 Batch 900 Loss 0.0728\n",
      "Epoch 27 Batch 1000 Loss 0.0295\n",
      "Epoch 27 Batch 1100 Loss 0.1101\n",
      "Epoch 27 Batch 1200 Loss 0.0394\n",
      "Epoch 27 Loss 0.0531\n",
      "Time taken for 1 epoch 597.2833731174469 sec\n",
      "\n",
      "Epoch 28 Batch 0 Loss 0.0385\n",
      "Epoch 28 Batch 100 Loss 0.0145\n",
      "Epoch 28 Batch 200 Loss 0.0477\n",
      "Epoch 28 Batch 300 Loss 0.0237\n",
      "Epoch 28 Batch 400 Loss 0.0583\n",
      "Epoch 28 Batch 500 Loss 0.0419\n",
      "Epoch 28 Batch 600 Loss 0.0434\n",
      "Epoch 28 Batch 700 Loss 0.0246\n",
      "Epoch 28 Batch 800 Loss 0.0632\n",
      "Epoch 28 Batch 900 Loss 0.0505\n",
      "Epoch 28 Batch 1000 Loss 0.0577\n",
      "Epoch 28 Batch 1100 Loss 0.0567\n",
      "Epoch 28 Batch 1200 Loss 0.0832\n",
      "Epoch 28 Loss 0.0520\n",
      "Time taken for 1 epoch 607.6512424945831 sec\n",
      "\n",
      "Epoch 29 Batch 0 Loss 0.0215\n",
      "Epoch 29 Batch 100 Loss 0.0341\n",
      "Epoch 29 Batch 200 Loss 0.0385\n",
      "Epoch 29 Batch 300 Loss 0.0578\n",
      "Epoch 29 Batch 400 Loss 0.0283\n",
      "Epoch 29 Batch 500 Loss 0.0791\n",
      "Epoch 29 Batch 600 Loss 0.0607\n",
      "Epoch 29 Batch 700 Loss 0.0506\n",
      "Epoch 29 Batch 800 Loss 0.0393\n",
      "Epoch 29 Batch 900 Loss 0.0455\n",
      "Epoch 29 Batch 1000 Loss 0.0642\n",
      "Epoch 29 Batch 1100 Loss 0.0654\n",
      "Epoch 29 Batch 1200 Loss 0.1002\n",
      "Epoch 29 Loss 0.0513\n",
      "Time taken for 1 epoch 583.2963364124298 sec\n",
      "\n",
      "Epoch 30 Batch 0 Loss 0.0379\n",
      "Epoch 30 Batch 100 Loss 0.0819\n",
      "Epoch 30 Batch 200 Loss 0.0669\n",
      "Epoch 30 Batch 300 Loss 0.0193\n",
      "Epoch 30 Batch 400 Loss 0.0410\n",
      "Epoch 30 Batch 500 Loss 0.0322\n",
      "Epoch 30 Batch 600 Loss 0.0636\n",
      "Epoch 30 Batch 700 Loss 0.0753\n",
      "Epoch 30 Batch 800 Loss 0.0873\n",
      "Epoch 30 Batch 900 Loss 0.0458\n",
      "Epoch 30 Batch 1000 Loss 0.0531\n",
      "Epoch 30 Batch 1100 Loss 0.0444\n",
      "Epoch 30 Batch 1200 Loss 0.0513\n",
      "Epoch 30 Loss 0.0512\n",
      "Time taken for 1 epoch 604.411244392395 sec\n",
      "\n",
      "Epoch 31 Batch 0 Loss 0.0332\n",
      "Epoch 31 Batch 100 Loss 0.0265\n",
      "Epoch 31 Batch 200 Loss 0.0653\n",
      "Epoch 31 Batch 300 Loss 0.0469\n",
      "Epoch 31 Batch 400 Loss 0.0318\n",
      "Epoch 31 Batch 500 Loss 0.0544\n",
      "Epoch 31 Batch 600 Loss 0.0472\n",
      "Epoch 31 Batch 700 Loss 0.0460\n",
      "Epoch 31 Batch 800 Loss 0.0426\n",
      "Epoch 31 Batch 900 Loss 0.0694\n",
      "Epoch 31 Batch 1000 Loss 0.0600\n",
      "Epoch 31 Batch 1100 Loss 0.0578\n",
      "Epoch 31 Batch 1200 Loss 0.0781\n",
      "Epoch 31 Loss 0.0503\n",
      "Time taken for 1 epoch 588.2467370033264 sec\n",
      "\n",
      "Epoch 32 Batch 0 Loss 0.0286\n",
      "Epoch 32 Batch 100 Loss 0.0321\n",
      "Epoch 32 Batch 200 Loss 0.0275\n",
      "Epoch 32 Batch 300 Loss 0.0526\n",
      "Epoch 32 Batch 400 Loss 0.0556\n",
      "Epoch 32 Batch 500 Loss 0.0435\n",
      "Epoch 32 Batch 600 Loss 0.0940\n",
      "Epoch 32 Batch 700 Loss 0.0531\n",
      "Epoch 32 Batch 800 Loss 0.0574\n",
      "Epoch 32 Batch 900 Loss 0.0319\n",
      "Epoch 32 Batch 1000 Loss 0.0490\n",
      "Epoch 32 Batch 1100 Loss 0.0357\n",
      "Epoch 32 Batch 1200 Loss 0.0675\n",
      "Epoch 32 Loss 0.0498\n",
      "Time taken for 1 epoch 599.9117255210876 sec\n",
      "\n",
      "Epoch 33 Batch 0 Loss 0.0462\n",
      "Epoch 33 Batch 100 Loss 0.0110\n",
      "Epoch 33 Batch 200 Loss 0.0297\n",
      "Epoch 33 Batch 300 Loss 0.0559\n",
      "Epoch 33 Batch 400 Loss 0.0707\n",
      "Epoch 33 Batch 500 Loss 0.0578\n",
      "Epoch 33 Batch 600 Loss 0.0651\n",
      "Epoch 33 Batch 700 Loss 0.0615\n",
      "Epoch 33 Batch 800 Loss 0.0727\n",
      "Epoch 33 Batch 900 Loss 0.0526\n",
      "Epoch 33 Batch 1000 Loss 0.0272\n",
      "Epoch 33 Batch 1100 Loss 0.0406\n",
      "Epoch 33 Batch 1200 Loss 0.0825\n",
      "Epoch 33 Loss 0.0483\n",
      "Time taken for 1 epoch 573.9997131824493 sec\n",
      "\n",
      "Epoch 34 Batch 0 Loss 0.0683\n",
      "Epoch 34 Batch 100 Loss 0.0178\n",
      "Epoch 34 Batch 200 Loss 0.0720\n",
      "Epoch 34 Batch 300 Loss 0.0192\n",
      "Epoch 34 Batch 400 Loss 0.0637\n",
      "Epoch 34 Batch 500 Loss 0.0391\n",
      "Epoch 34 Batch 600 Loss 0.0514\n",
      "Epoch 34 Batch 700 Loss 0.0577\n",
      "Epoch 34 Batch 800 Loss 0.0510\n",
      "Epoch 34 Batch 900 Loss 0.0735\n",
      "Epoch 34 Batch 1000 Loss 0.0536\n",
      "Epoch 34 Batch 1100 Loss 0.0540\n",
      "Epoch 34 Batch 1200 Loss 0.0885\n",
      "Epoch 34 Loss 0.0483\n",
      "Time taken for 1 epoch 598.2414531707764 sec\n",
      "\n",
      "Epoch 35 Batch 0 Loss 0.0269\n",
      "Epoch 35 Batch 100 Loss 0.0410\n",
      "Epoch 35 Batch 200 Loss 0.0157\n",
      "Epoch 35 Batch 300 Loss 0.0410\n",
      "Epoch 35 Batch 400 Loss 0.0483\n",
      "Epoch 35 Batch 500 Loss 0.0334\n",
      "Epoch 35 Batch 600 Loss 0.0365\n",
      "Epoch 35 Batch 700 Loss 0.0537\n",
      "Epoch 35 Batch 800 Loss 0.0461\n",
      "Epoch 35 Batch 900 Loss 0.0796\n",
      "Epoch 35 Batch 1000 Loss 0.0287\n",
      "Epoch 35 Batch 1100 Loss 0.0492\n",
      "Epoch 35 Batch 1200 Loss 0.0697\n",
      "Epoch 35 Loss 0.0475\n",
      "Time taken for 1 epoch 597.7268619537354 sec\n",
      "\n",
      "Epoch 36 Batch 0 Loss 0.0359\n",
      "Epoch 36 Batch 100 Loss 0.0865\n",
      "Epoch 36 Batch 200 Loss 0.0664\n",
      "Epoch 36 Batch 300 Loss 0.0539\n",
      "Epoch 36 Batch 400 Loss 0.0828\n",
      "Epoch 36 Batch 500 Loss 0.0594\n",
      "Epoch 36 Batch 600 Loss 0.0166\n",
      "Epoch 36 Batch 700 Loss 0.0414\n",
      "Epoch 36 Batch 800 Loss 0.0848\n",
      "Epoch 36 Batch 900 Loss 0.0638\n",
      "Epoch 36 Batch 1000 Loss 0.0343\n",
      "Epoch 36 Batch 1100 Loss 0.0575\n",
      "Epoch 36 Batch 1200 Loss 0.0935\n",
      "Epoch 36 Loss 0.0471\n",
      "Time taken for 1 epoch 607.571935415268 sec\n",
      "\n",
      "Epoch 37 Batch 0 Loss 0.0602\n",
      "Epoch 37 Batch 100 Loss 0.0198\n",
      "Epoch 37 Batch 200 Loss 0.0485\n",
      "Epoch 37 Batch 300 Loss 0.0258\n",
      "Epoch 37 Batch 400 Loss 0.0176\n",
      "Epoch 37 Batch 500 Loss 0.0583\n",
      "Epoch 37 Batch 600 Loss 0.0358\n",
      "Epoch 37 Batch 700 Loss 0.0389\n",
      "Epoch 37 Batch 800 Loss 0.0371\n",
      "Epoch 37 Batch 900 Loss 0.0439\n",
      "Epoch 37 Batch 1000 Loss 0.0435\n",
      "Epoch 37 Batch 1100 Loss 0.0561\n",
      "Epoch 37 Batch 1200 Loss 0.0689\n",
      "Epoch 37 Loss 0.0469\n",
      "Time taken for 1 epoch 597.7527952194214 sec\n",
      "\n",
      "Epoch 38 Batch 0 Loss 0.0607\n",
      "Epoch 38 Batch 100 Loss 0.0324\n",
      "Epoch 38 Batch 200 Loss 0.0347\n",
      "Epoch 38 Batch 300 Loss 0.0374\n",
      "Epoch 38 Batch 400 Loss 0.0562\n",
      "Epoch 38 Batch 500 Loss 0.0592\n",
      "Epoch 38 Batch 600 Loss 0.0708\n",
      "Epoch 38 Batch 700 Loss 0.0273\n",
      "Epoch 38 Batch 800 Loss 0.0679\n",
      "Epoch 38 Batch 900 Loss 0.0422\n",
      "Epoch 38 Batch 1000 Loss 0.0634\n",
      "Epoch 38 Batch 1100 Loss 0.0389\n",
      "Epoch 38 Batch 1200 Loss 0.0491\n",
      "Epoch 38 Loss 0.0463\n",
      "Time taken for 1 epoch 599.0130257606506 sec\n",
      "\n",
      "Epoch 39 Batch 0 Loss 0.0291\n",
      "Epoch 39 Batch 100 Loss 0.0389\n",
      "Epoch 39 Batch 200 Loss 0.0453\n",
      "Epoch 39 Batch 300 Loss 0.0502\n",
      "Epoch 39 Batch 400 Loss 0.0250\n",
      "Epoch 39 Batch 500 Loss 0.0414\n",
      "Epoch 39 Batch 600 Loss 0.0410\n",
      "Epoch 39 Batch 700 Loss 0.0574\n",
      "Epoch 39 Batch 800 Loss 0.0383\n",
      "Epoch 39 Batch 900 Loss 0.0273\n",
      "Epoch 39 Batch 1000 Loss 0.0793\n",
      "Epoch 39 Batch 1100 Loss 0.0486\n",
      "Epoch 39 Batch 1200 Loss 0.0428\n",
      "Epoch 39 Loss 0.0462\n",
      "Time taken for 1 epoch 623.6427626609802 sec\n",
      "\n",
      "Epoch 40 Batch 0 Loss 0.0376\n",
      "Epoch 40 Batch 100 Loss 0.0455\n",
      "Epoch 40 Batch 200 Loss 0.0442\n",
      "Epoch 40 Batch 300 Loss 0.0428\n",
      "Epoch 40 Batch 400 Loss 0.0354\n",
      "Epoch 40 Batch 500 Loss 0.0709\n",
      "Epoch 40 Batch 600 Loss 0.0315\n",
      "Epoch 40 Batch 700 Loss 0.0584\n",
      "Epoch 40 Batch 800 Loss 0.0169\n",
      "Epoch 40 Batch 900 Loss 0.0421\n",
      "Epoch 40 Batch 1000 Loss 0.0143\n",
      "Epoch 40 Batch 1100 Loss 0.0394\n",
      "Epoch 40 Batch 1200 Loss 0.0617\n",
      "Epoch 40 Loss 0.0452\n",
      "Time taken for 1 epoch 589.2326304912567 sec\n",
      "\n",
      "Epoch 41 Batch 0 Loss 0.0251\n",
      "Epoch 41 Batch 100 Loss 0.0134\n",
      "Epoch 41 Batch 200 Loss 0.0299\n",
      "Epoch 41 Batch 300 Loss 0.0337\n",
      "Epoch 41 Batch 400 Loss 0.0335\n",
      "Epoch 41 Batch 500 Loss 0.0570\n",
      "Epoch 41 Batch 600 Loss 0.0741\n",
      "Epoch 41 Batch 700 Loss 0.0434\n",
      "Epoch 41 Batch 800 Loss 0.0501\n",
      "Epoch 41 Batch 900 Loss 0.0306\n",
      "Epoch 41 Batch 1000 Loss 0.0260\n",
      "Epoch 41 Batch 1100 Loss 0.0510\n",
      "Epoch 41 Batch 1200 Loss 0.0836\n",
      "Epoch 41 Loss 0.0450\n",
      "Time taken for 1 epoch 607.3761577606201 sec\n",
      "\n",
      "Epoch 42 Batch 0 Loss 0.0277\n",
      "Epoch 42 Batch 100 Loss 0.0346\n",
      "Epoch 42 Batch 200 Loss 0.0259\n",
      "Epoch 42 Batch 300 Loss 0.0396\n",
      "Epoch 42 Batch 400 Loss 0.0449\n",
      "Epoch 42 Batch 500 Loss 0.0364\n",
      "Epoch 42 Batch 600 Loss 0.0473\n",
      "Epoch 42 Batch 700 Loss 0.0760\n",
      "Epoch 42 Batch 800 Loss 0.0481\n",
      "Epoch 42 Batch 900 Loss 0.0697\n",
      "Epoch 42 Batch 1000 Loss 0.0668\n",
      "Epoch 42 Batch 1100 Loss 0.0445\n",
      "Epoch 42 Batch 1200 Loss 0.0478\n",
      "Epoch 42 Loss 0.0443\n",
      "Time taken for 1 epoch 591.4283514022827 sec\n",
      "\n",
      "Epoch 43 Batch 0 Loss 0.0249\n",
      "Epoch 43 Batch 100 Loss 0.0161\n",
      "Epoch 43 Batch 200 Loss 0.0425\n",
      "Epoch 43 Batch 300 Loss 0.0434\n",
      "Epoch 43 Batch 400 Loss 0.0552\n",
      "Epoch 43 Batch 500 Loss 0.0472\n",
      "Epoch 43 Batch 600 Loss 0.0426\n",
      "Epoch 43 Batch 700 Loss 0.0243\n",
      "Epoch 43 Batch 800 Loss 0.0353\n",
      "Epoch 43 Batch 900 Loss 0.0350\n",
      "Epoch 43 Batch 1000 Loss 0.0848\n",
      "Epoch 43 Batch 1100 Loss 0.0139\n",
      "Epoch 43 Batch 1200 Loss 0.0490\n",
      "Epoch 43 Loss 0.0440\n",
      "Time taken for 1 epoch 598.1523067951202 sec\n",
      "\n",
      "Epoch 44 Batch 0 Loss 0.0845\n",
      "Epoch 44 Batch 100 Loss 0.0403\n",
      "Epoch 44 Batch 200 Loss 0.0454\n",
      "Epoch 44 Batch 300 Loss 0.0371\n",
      "Epoch 44 Batch 400 Loss 0.0542\n",
      "Epoch 44 Batch 500 Loss 0.0299\n",
      "Epoch 44 Batch 600 Loss 0.0360\n",
      "Epoch 44 Batch 700 Loss 0.0437\n",
      "Epoch 44 Batch 800 Loss 0.0458\n",
      "Epoch 44 Batch 900 Loss 0.0691\n",
      "Epoch 44 Batch 1000 Loss 0.0297\n",
      "Epoch 44 Batch 1100 Loss 0.0306\n",
      "Epoch 44 Batch 1200 Loss 0.0600\n",
      "Epoch 44 Loss 0.0437\n",
      "Time taken for 1 epoch 601.6264171600342 sec\n",
      "\n",
      "Epoch 45 Batch 0 Loss 0.0322\n",
      "Epoch 45 Batch 100 Loss 0.0356\n",
      "Epoch 45 Batch 200 Loss 0.0595\n",
      "Epoch 45 Batch 300 Loss 0.0537\n",
      "Epoch 45 Batch 400 Loss 0.0359\n",
      "Epoch 45 Batch 500 Loss 0.0428\n",
      "Epoch 45 Batch 600 Loss 0.0404\n",
      "Epoch 45 Batch 700 Loss 0.0347\n",
      "Epoch 45 Batch 800 Loss 0.0651\n",
      "Epoch 45 Batch 900 Loss 0.0560\n",
      "Epoch 45 Batch 1000 Loss 0.0686\n",
      "Epoch 45 Batch 1100 Loss 0.0459\n",
      "Epoch 45 Batch 1200 Loss 0.0724\n",
      "Epoch 45 Loss 0.0436\n",
      "Time taken for 1 epoch 603.0718324184418 sec\n",
      "\n",
      "Epoch 46 Batch 0 Loss 0.0273\n",
      "Epoch 46 Batch 100 Loss 0.0449\n",
      "Epoch 46 Batch 200 Loss 0.0289\n",
      "Epoch 46 Batch 300 Loss 0.0144\n",
      "Epoch 46 Batch 400 Loss 0.0534\n",
      "Epoch 46 Batch 500 Loss 0.0686\n",
      "Epoch 46 Batch 600 Loss 0.0435\n",
      "Epoch 46 Batch 700 Loss 0.0457\n",
      "Epoch 46 Batch 800 Loss 0.0510\n",
      "Epoch 46 Batch 900 Loss 0.0578\n",
      "Epoch 46 Batch 1000 Loss 0.0651\n",
      "Epoch 46 Batch 1100 Loss 0.0483\n",
      "Epoch 46 Batch 1200 Loss 0.0762\n",
      "Epoch 46 Loss 0.0427\n",
      "Time taken for 1 epoch 592.7969841957092 sec\n",
      "\n",
      "Epoch 47 Batch 0 Loss 0.0286\n",
      "Epoch 47 Batch 100 Loss 0.0335\n",
      "Epoch 47 Batch 200 Loss 0.0408\n",
      "Epoch 47 Batch 300 Loss 0.0489\n",
      "Epoch 47 Batch 400 Loss 0.0276\n",
      "Epoch 47 Batch 500 Loss 0.0261\n",
      "Epoch 47 Batch 600 Loss 0.0645\n",
      "Epoch 47 Batch 700 Loss 0.0312\n",
      "Epoch 47 Batch 800 Loss 0.0625\n",
      "Epoch 47 Batch 900 Loss 0.0671\n",
      "Epoch 47 Batch 1000 Loss 0.0569\n",
      "Epoch 47 Batch 1100 Loss 0.0388\n",
      "Epoch 47 Batch 1200 Loss 0.0384\n",
      "Epoch 47 Loss 0.0430\n",
      "Time taken for 1 epoch 595.1817688941956 sec\n",
      "\n",
      "Epoch 48 Batch 0 Loss 0.0224\n",
      "Epoch 48 Batch 100 Loss 0.0465\n",
      "Epoch 48 Batch 200 Loss 0.0338\n",
      "Epoch 48 Batch 300 Loss 0.0465\n",
      "Epoch 48 Batch 400 Loss 0.0191\n",
      "Epoch 48 Batch 500 Loss 0.0519\n",
      "Epoch 48 Batch 600 Loss 0.0551\n",
      "Epoch 48 Batch 700 Loss 0.0400\n",
      "Epoch 48 Batch 800 Loss 0.0410\n",
      "Epoch 48 Batch 900 Loss 0.0446\n",
      "Epoch 48 Batch 1000 Loss 0.0452\n",
      "Epoch 48 Batch 1100 Loss 0.0255\n",
      "Epoch 48 Batch 1200 Loss 0.0341\n",
      "Epoch 48 Loss 0.0427\n",
      "Time taken for 1 epoch 580.0060458183289 sec\n",
      "\n",
      "Epoch 49 Batch 0 Loss 0.0517\n",
      "Epoch 49 Batch 100 Loss 0.0258\n",
      "Epoch 49 Batch 200 Loss 0.0346\n",
      "Epoch 49 Batch 300 Loss 0.0280\n",
      "Epoch 49 Batch 400 Loss 0.0407\n",
      "Epoch 49 Batch 500 Loss 0.0379\n",
      "Epoch 49 Batch 600 Loss 0.0344\n",
      "Epoch 49 Batch 700 Loss 0.0402\n",
      "Epoch 49 Batch 800 Loss 0.0593\n",
      "Epoch 49 Batch 900 Loss 0.0489\n",
      "Epoch 49 Batch 1000 Loss 0.0565\n",
      "Epoch 49 Batch 1100 Loss 0.0464\n",
      "Epoch 49 Batch 1200 Loss 0.0665\n",
      "Epoch 49 Loss 0.0421\n",
      "Time taken for 1 epoch 608.9755411148071 sec\n",
      "\n",
      "Epoch 50 Batch 0 Loss 0.0227\n",
      "Epoch 50 Batch 100 Loss 0.0193\n",
      "Epoch 50 Batch 200 Loss 0.0258\n",
      "Epoch 50 Batch 300 Loss 0.0436\n",
      "Epoch 50 Batch 400 Loss 0.0323\n",
      "Epoch 50 Batch 500 Loss 0.0365\n",
      "Epoch 50 Batch 600 Loss 0.0391\n",
      "Epoch 50 Batch 700 Loss 0.0527\n",
      "Epoch 50 Batch 800 Loss 0.0368\n",
      "Epoch 50 Batch 900 Loss 0.0400\n",
      "Epoch 50 Batch 1000 Loss 0.0408\n",
      "Epoch 50 Batch 1100 Loss 0.0341\n",
      "Epoch 50 Batch 1200 Loss 0.0439\n",
      "Epoch 50 Loss 0.0414\n",
      "Time taken for 1 epoch 596.2814221382141 sec\n",
      "\n",
      "CPU times: user 3d 19h 16min 56s, sys: 4d 11h 12min 35s, total: 8d 6h 29min 32s\n",
      "Wall time: 8h 41min 26s\n"
     ]
    }
   ],
   "source": [
    "%%time\n",
    "\n",
    "EPOCHS = 50\n",
    "\n",
    "for epoch in range(EPOCHS):\n",
    "    start = time.time()\n",
    "    \n",
    "    enc_hidden = encoder.initialize_hidden_state()\n",
    "    total_loss = 0\n",
    "    \n",
    "    for (batch, (inp, targ)) in enumerate(dataset.take(steps_per_epoch)):\n",
    "        batch_loss = train_step(inp, targ, enc_hidden)\n",
    "        total_loss += batch_loss\n",
    "\n",
    "        if batch % 100 == 0:\n",
    "            print('Epoch {} Batch {} Loss {:.4f}'.format(epoch + 1,\n",
    "                                                   batch,\n",
    "                                                   batch_loss.numpy()))\n",
    "    # saving (checkpoint) the model every 2 epochs\n",
    "    if (epoch + 1) % 2 == 0:\n",
    "        checkpoint.save(file_prefix = checkpoint_prefix)\n",
    "\n",
    "    print('Epoch {} Loss {:.4f}'.format(epoch + 1,\n",
    "                                      total_loss / steps_per_epoch))\n",
    "    print('Time taken for 1 epoch {} sec\\n'.format(time.time() - start))"
   ]
  },
  {
   "cell_type": "markdown",
   "id": "b3ec278c",
   "metadata": {
    "id": "b3ec278c"
   },
   "source": [
    "### Translate"
   ]
  },
  {
   "cell_type": "markdown",
   "id": "9006b471",
   "metadata": {
    "id": "9006b471"
   },
   "source": [
    "- The evaluate function is similar to the training loop, except we don't use teacher forcing here. The input to the decoder at each time step is its previous predictions along with the hidden state and the encoder output.\n",
    "- Stop predicting when the model predicts the end token.\n",
    "- And store the attention weights for every time step.  \n",
    "Note: The encoder output is calculated only once for one input."
   ]
  },
  {
   "cell_type": "code",
   "execution_count": 30,
   "id": "2654fb53",
   "metadata": {
    "executionInfo": {
     "elapsed": 15,
     "status": "ok",
     "timestamp": 1675967250550,
     "user": {
      "displayName": "Maxim Gasilin",
      "userId": "15501735730920561422"
     },
     "user_tz": -180
    },
    "id": "2654fb53"
   },
   "outputs": [],
   "source": [
    "def evaluate(sentence):\n",
    "    attention_plot = np.zeros((max_length_targ, max_length_inp))\n",
    "\n",
    "    sentence = preprocess_sentence(sentence)\n",
    "\n",
    "    inputs = [inp_lang.word_index[i] for i in sentence.split(' ')]\n",
    "    inputs = tf.keras.preprocessing.sequence.pad_sequences([inputs],\n",
    "                                                         maxlen=max_length_inp,\n",
    "                                                         padding='post')\n",
    "    inputs = tf.convert_to_tensor(inputs)\n",
    "\n",
    "    result = ''\n",
    "\n",
    "    hidden = [tf.zeros((1, units))]\n",
    "    enc_hidden = encoder(inputs, hidden)\n",
    "\n",
    "    dec_hidden = enc_hidden\n",
    "    dec_input = tf.expand_dims([targ_lang.word_index['<start>']], 0)\n",
    "\n",
    "    for t in range(max_length_targ):\n",
    "        predictions, dec_hidden = decoder(dec_input, dec_hidden)\n",
    "        \n",
    "        # storing the attention weights to plot later on\n",
    "        predicted_id = tf.argmax(predictions[0]).numpy()\n",
    "        result += targ_lang.index_word[predicted_id] + ' '\n",
    "        \n",
    "        if targ_lang.index_word[predicted_id] == '<end>':\n",
    "            return result, sentence\n",
    "\n",
    "        # the predicted ID is fed back into the model\n",
    "        dec_input = tf.expand_dims([predicted_id], 0)\n",
    "\n",
    "    return result, sentence"
   ]
  },
  {
   "cell_type": "code",
   "execution_count": 31,
   "id": "b0cb9f4c",
   "metadata": {
    "executionInfo": {
     "elapsed": 5,
     "status": "ok",
     "timestamp": 1675967250550,
     "user": {
      "displayName": "Maxim Gasilin",
      "userId": "15501735730920561422"
     },
     "user_tz": -180
    },
    "id": "b0cb9f4c"
   },
   "outputs": [],
   "source": [
    "def translate(sentence):\n",
    "    result, sentence = evaluate(sentence)\n",
    "    \n",
    "    print('Input: %s' % (sentence))\n",
    "    print('Predicted translation: {}'.format(result))"
   ]
  },
  {
   "cell_type": "markdown",
   "id": "b1dc782b",
   "metadata": {
    "id": "b1dc782b"
   },
   "source": [
    "### Restore the latest checkpoint and test"
   ]
  },
  {
   "cell_type": "code",
   "execution_count": 32,
   "id": "6eda1598",
   "metadata": {
    "colab": {
     "base_uri": "https://localhost:8080/"
    },
    "executionInfo": {
     "elapsed": 1475,
     "status": "ok",
     "timestamp": 1675967252020,
     "user": {
      "displayName": "Maxim Gasilin",
      "userId": "15501735730920561422"
     },
     "user_tz": -180
    },
    "id": "6eda1598",
    "outputId": "ef89e394-3262-4189-ce37-abab314f4146"
   },
   "outputs": [
    {
     "data": {
      "text/plain": [
       "<tensorflow.python.checkpoint.checkpoint.CheckpointLoadStatus at 0x7fe0a1a54ca0>"
      ]
     },
     "execution_count": 32,
     "metadata": {},
     "output_type": "execute_result"
    }
   ],
   "source": [
    "# restoring the latest checkpoint in checkpoint_dir\n",
    "checkpoint.restore(tf.train.latest_checkpoint(checkpoint_dir))"
   ]
  },
  {
   "cell_type": "code",
   "execution_count": 34,
   "id": "1b1ea0bc",
   "metadata": {
    "colab": {
     "base_uri": "https://localhost:8080/"
    },
    "executionInfo": {
     "elapsed": 18,
     "status": "ok",
     "timestamp": 1675967252021,
     "user": {
      "displayName": "Maxim Gasilin",
      "userId": "15501735730920561422"
     },
     "user_tz": -180
    },
    "id": "1b1ea0bc",
    "outputId": "f354a59f-579b-49d2-cdba-4dfe0a04110f"
   },
   "outputs": [
    {
     "name": "stdout",
     "output_type": "stream",
     "text": [
      "Input: <start> я делаю работу <end>\n",
      "Predicted translation: do i do a job ? <end> \n"
     ]
    }
   ],
   "source": [
    "translate('Я делаю работу')"
   ]
  },
  {
   "cell_type": "code",
   "execution_count": 37,
   "id": "17851162",
   "metadata": {
    "colab": {
     "base_uri": "https://localhost:8080/"
    },
    "executionInfo": {
     "elapsed": 8,
     "status": "ok",
     "timestamp": 1675967252021,
     "user": {
      "displayName": "Maxim Gasilin",
      "userId": "15501735730920561422"
     },
     "user_tz": -180
    },
    "id": "17851162",
    "outputId": "3895833d-94bf-4d8d-dcf1-74dbc87a5195"
   },
   "outputs": [
    {
     "name": "stdout",
     "output_type": "stream",
     "text": [
      "Input: <start> получилось неплохо <end>\n",
      "Predicted translation: no one is anything . <end> \n"
     ]
    }
   ],
   "source": [
    "translate('Получилось неплохо')"
   ]
  },
  {
   "cell_type": "code",
   "execution_count": 38,
   "id": "4HTzWLVQRwom",
   "metadata": {
    "colab": {
     "base_uri": "https://localhost:8080/"
    },
    "executionInfo": {
     "elapsed": 551,
     "status": "ok",
     "timestamp": 1675967255044,
     "user": {
      "displayName": "Maxim Gasilin",
      "userId": "15501735730920561422"
     },
     "user_tz": -180
    },
    "id": "4HTzWLVQRwom",
    "outputId": "c9863006-27a4-4985-ad85-77ae51b37142",
    "scrolled": true
   },
   "outputs": [
    {
     "name": "stdout",
     "output_type": "stream",
     "text": [
      "Input: <start> я молодец <end>\n",
      "Predicted translation: i am a good thing . <end> \n"
     ]
    }
   ],
   "source": [
    "translate('Я молодец')"
   ]
  }
 ],
 "metadata": {
  "accelerator": "GPU",
  "colab": {
   "collapsed_sections": [
    "b3ec278c"
   ],
   "provenance": []
  },
  "gpuClass": "standard",
  "kernelspec": {
   "display_name": "Python 3 (ipykernel)",
   "language": "python",
   "name": "python3"
  },
  "language_info": {
   "codemirror_mode": {
    "name": "ipython",
    "version": 3
   },
   "file_extension": ".py",
   "mimetype": "text/x-python",
   "name": "python",
   "nbconvert_exporter": "python",
   "pygments_lexer": "ipython3",
   "version": "3.7.12"
  }
 },
 "nbformat": 4,
 "nbformat_minor": 5
}
